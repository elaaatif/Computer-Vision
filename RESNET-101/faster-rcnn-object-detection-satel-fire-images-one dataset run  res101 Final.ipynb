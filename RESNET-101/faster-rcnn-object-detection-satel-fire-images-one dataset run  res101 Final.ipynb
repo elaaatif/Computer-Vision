{
 "cells": [
  {
   "cell_type": "markdown",
   "id": "1ff56b7a",
   "metadata": {
    "papermill": {
     "duration": 0.009695,
     "end_time": "2025-02-20T07:07:25.500493",
     "exception": false,
     "start_time": "2025-02-20T07:07:25.490798",
     "status": "completed"
    },
    "tags": []
   },
   "source": [
    "<div style=\"background-color:#4c1a6f; padding:20px; text-align:center;\">\n",
    "    <h1 style=\"color:white;\">FASTER RCNN MODEL FOR FIRE DETECTIONN</h1>\n",
    "       <h5 style=\"color:white;\">USING SATELITE IMAGES FOR OBEJCT DETECTION - A COMPUTER VISION PROJECT</hdiv>"
   ]
  },
  {
   "cell_type": "markdown",
   "id": "2f3003f6",
   "metadata": {
    "papermill": {
     "duration": 0.008257,
     "end_time": "2025-02-20T07:07:25.517721",
     "exception": false,
     "start_time": "2025-02-20T07:07:25.509464",
     "status": "completed"
    },
    "tags": []
   },
   "source": [
    "<div style=\"background-color:#008093; padding:10px; text-align:center;\">\n",
    "    <h4 style=\"color:white;\">PIP INSTALLS </h4>\n",
    "       <h5 style=\"color:white\">\">roboflow - for loading the datasets </h5>\n",
    "</div>"
   ]
  },
  {
   "cell_type": "code",
   "execution_count": 1,
   "id": "7c438bf1",
   "metadata": {
    "_cell_guid": "b1076dfc-b9ad-4769-8c92-a6c4dae69d19",
    "_uuid": "8f2839f25d086af736a60e9eeb907d3b93b6e0e5",
    "execution": {
     "iopub.execute_input": "2025-02-20T07:07:25.535704Z",
     "iopub.status.busy": "2025-02-20T07:07:25.535351Z",
     "iopub.status.idle": "2025-02-20T07:07:31.756297Z",
     "shell.execute_reply": "2025-02-20T07:07:31.755152Z"
    },
    "papermill": {
     "duration": 6.232154,
     "end_time": "2025-02-20T07:07:31.758169",
     "exception": false,
     "start_time": "2025-02-20T07:07:25.526015",
     "status": "completed"
    },
    "tags": []
   },
   "outputs": [
    {
     "name": "stdout",
     "output_type": "stream",
     "text": [
      "Collecting roboflow\r\n"
     ]
    },
    {
     "name": "stdout",
     "output_type": "stream",
     "text": [
      "  Downloading roboflow-1.1.54-py3-none-any.whl.metadata (9.7 kB)\r\n",
      "Requirement already satisfied: torch in /usr/local/lib/python3.10/dist-packages (2.5.1+cu121)\r\n",
      "Requirement already satisfied: torchvision in /usr/local/lib/python3.10/dist-packages (0.20.1+cu121)\r\n",
      "Requirement already satisfied: matplotlib in /usr/local/lib/python3.10/dist-packages (3.7.5)\r\n",
      "Requirement already satisfied: numpy in /usr/local/lib/python3.10/dist-packages (1.26.4)\r\n",
      "Requirement already satisfied: pycocotools in /usr/local/lib/python3.10/dist-packages (2.0.8)\r\n",
      "Requirement already satisfied: certifi in /usr/local/lib/python3.10/dist-packages (from roboflow) (2025.1.31)\r\n"
     ]
    },
    {
     "name": "stdout",
     "output_type": "stream",
     "text": [
      "Collecting idna==3.7 (from roboflow)\r\n",
      "  Downloading idna-3.7-py3-none-any.whl.metadata (9.9 kB)\r\n"
     ]
    },
    {
     "name": "stdout",
     "output_type": "stream",
     "text": [
      "Requirement already satisfied: cycler in /usr/local/lib/python3.10/dist-packages (from roboflow) (0.12.1)\r\n",
      "Requirement already satisfied: kiwisolver>=1.3.1 in /usr/local/lib/python3.10/dist-packages (from roboflow) (1.4.7)\r\n",
      "Requirement already satisfied: opencv-python-headless==4.10.0.84 in /usr/local/lib/python3.10/dist-packages (from roboflow) (4.10.0.84)\r\n",
      "Requirement already satisfied: Pillow>=7.1.2 in /usr/local/lib/python3.10/dist-packages (from roboflow) (11.0.0)\r\n",
      "Requirement already satisfied: python-dateutil in /usr/local/lib/python3.10/dist-packages (from roboflow) (2.9.0.post0)\r\n"
     ]
    },
    {
     "name": "stdout",
     "output_type": "stream",
     "text": [
      "Collecting python-dotenv (from roboflow)\r\n",
      "  Downloading python_dotenv-1.0.1-py3-none-any.whl.metadata (23 kB)\r\n",
      "Requirement already satisfied: requests in /usr/local/lib/python3.10/dist-packages (from roboflow) (2.32.3)\r\n",
      "Requirement already satisfied: six in /usr/local/lib/python3.10/dist-packages (from roboflow) (1.17.0)\r\n",
      "Requirement already satisfied: urllib3>=1.26.6 in /usr/local/lib/python3.10/dist-packages (from roboflow) (2.3.0)\r\n",
      "Requirement already satisfied: tqdm>=4.41.0 in /usr/local/lib/python3.10/dist-packages (from roboflow) (4.67.1)\r\n",
      "Requirement already satisfied: PyYAML>=5.3.1 in /usr/local/lib/python3.10/dist-packages (from roboflow) (6.0.2)\r\n",
      "Requirement already satisfied: requests-toolbelt in /usr/local/lib/python3.10/dist-packages (from roboflow) (1.0.0)\r\n"
     ]
    },
    {
     "name": "stdout",
     "output_type": "stream",
     "text": [
      "Collecting filetype (from roboflow)\r\n"
     ]
    },
    {
     "name": "stdout",
     "output_type": "stream",
     "text": [
      "  Downloading filetype-1.2.0-py2.py3-none-any.whl.metadata (6.5 kB)\r\n",
      "Requirement already satisfied: filelock in /usr/local/lib/python3.10/dist-packages (from torch) (3.17.0)\r\n",
      "Requirement already satisfied: typing-extensions>=4.8.0 in /usr/local/lib/python3.10/dist-packages (from torch) (4.12.2)\r\n",
      "Requirement already satisfied: networkx in /usr/local/lib/python3.10/dist-packages (from torch) (3.4.2)\r\n",
      "Requirement already satisfied: jinja2 in /usr/local/lib/python3.10/dist-packages (from torch) (3.1.4)\r\n",
      "Requirement already satisfied: fsspec in /usr/local/lib/python3.10/dist-packages (from torch) (2024.9.0)\r\n",
      "Requirement already satisfied: sympy==1.13.1 in /usr/local/lib/python3.10/dist-packages (from torch) (1.13.1)\r\n",
      "Requirement already satisfied: mpmath<1.4,>=1.1.0 in /usr/local/lib/python3.10/dist-packages (from sympy==1.13.1->torch) (1.3.0)\r\n"
     ]
    },
    {
     "name": "stdout",
     "output_type": "stream",
     "text": [
      "Requirement already satisfied: contourpy>=1.0.1 in /usr/local/lib/python3.10/dist-packages (from matplotlib) (1.3.1)\r\n",
      "Requirement already satisfied: fonttools>=4.22.0 in /usr/local/lib/python3.10/dist-packages (from matplotlib) (4.55.3)\r\n",
      "Requirement already satisfied: packaging>=20.0 in /usr/local/lib/python3.10/dist-packages (from matplotlib) (24.2)\r\n",
      "Requirement already satisfied: pyparsing>=2.3.1 in /usr/local/lib/python3.10/dist-packages (from matplotlib) (3.2.0)\r\n",
      "Requirement already satisfied: mkl_fft in /usr/local/lib/python3.10/dist-packages (from numpy) (1.3.8)\r\n",
      "Requirement already satisfied: mkl_random in /usr/local/lib/python3.10/dist-packages (from numpy) (1.2.4)\r\n",
      "Requirement already satisfied: mkl_umath in /usr/local/lib/python3.10/dist-packages (from numpy) (0.1.1)\r\n",
      "Requirement already satisfied: mkl in /usr/local/lib/python3.10/dist-packages (from numpy) (2025.0.1)\r\n",
      "Requirement already satisfied: tbb4py in /usr/local/lib/python3.10/dist-packages (from numpy) (2022.0.0)\r\n",
      "Requirement already satisfied: mkl-service in /usr/local/lib/python3.10/dist-packages (from numpy) (2.4.1)\r\n"
     ]
    },
    {
     "name": "stdout",
     "output_type": "stream",
     "text": [
      "Requirement already satisfied: MarkupSafe>=2.0 in /usr/local/lib/python3.10/dist-packages (from jinja2->torch) (3.0.2)\r\n",
      "Requirement already satisfied: intel-openmp>=2024 in /usr/local/lib/python3.10/dist-packages (from mkl->numpy) (2024.2.0)\r\n",
      "Requirement already satisfied: tbb==2022.* in /usr/local/lib/python3.10/dist-packages (from mkl->numpy) (2022.0.0)\r\n",
      "Requirement already satisfied: tcmlib==1.* in /usr/local/lib/python3.10/dist-packages (from tbb==2022.*->mkl->numpy) (1.2.0)\r\n",
      "Requirement already satisfied: intel-cmplr-lib-rt in /usr/local/lib/python3.10/dist-packages (from mkl_umath->numpy) (2024.2.0)\r\n"
     ]
    },
    {
     "name": "stdout",
     "output_type": "stream",
     "text": [
      "Requirement already satisfied: charset-normalizer<4,>=2 in /usr/local/lib/python3.10/dist-packages (from requests->roboflow) (3.4.1)\r\n",
      "Requirement already satisfied: intel-cmplr-lib-ur==2024.2.0 in /usr/local/lib/python3.10/dist-packages (from intel-openmp>=2024->mkl->numpy) (2024.2.0)\r\n"
     ]
    },
    {
     "name": "stdout",
     "output_type": "stream",
     "text": [
      "Downloading roboflow-1.1.54-py3-none-any.whl (83 kB)\r\n",
      "\u001b[?25l   \u001b[90m━━━━━━━━━━━━━━━━━━━━━━━━━━━━━━━━━━━━━━━━\u001b[0m \u001b[32m0.0/83.1 kB\u001b[0m \u001b[31m?\u001b[0m eta \u001b[36m-:--:--\u001b[0m\r",
      "\u001b[2K   \u001b[90m━━━━━━━━━━━━━━━━━━━━━━━━━━━━━━━━━━━━━━━━\u001b[0m \u001b[32m83.1/83.1 kB\u001b[0m \u001b[31m2.8 MB/s\u001b[0m eta \u001b[36m0:00:00\u001b[0m\r\n",
      "\u001b[?25hDownloading idna-3.7-py3-none-any.whl (66 kB)\r\n",
      "\u001b[?25l   \u001b[90m━━━━━━━━━━━━━━━━━━━━━━━━━━━━━━━━━━━━━━━━\u001b[0m \u001b[32m0.0/66.8 kB\u001b[0m \u001b[31m?\u001b[0m eta \u001b[36m-:--:--\u001b[0m"
     ]
    },
    {
     "name": "stdout",
     "output_type": "stream",
     "text": [
      "\r",
      "\u001b[2K   \u001b[90m━━━━━━━━━━━━━━━━━━━━━━━━━━━━━━━━━━━━━━━━\u001b[0m \u001b[32m66.8/66.8 kB\u001b[0m \u001b[31m4.2 MB/s\u001b[0m eta \u001b[36m0:00:00\u001b[0m\r\n",
      "\u001b[?25hDownloading filetype-1.2.0-py2.py3-none-any.whl (19 kB)\r\n"
     ]
    },
    {
     "name": "stdout",
     "output_type": "stream",
     "text": [
      "Downloading python_dotenv-1.0.1-py3-none-any.whl (19 kB)\r\n"
     ]
    },
    {
     "name": "stdout",
     "output_type": "stream",
     "text": [
      "Installing collected packages: filetype, python-dotenv, idna, roboflow\r\n"
     ]
    },
    {
     "name": "stdout",
     "output_type": "stream",
     "text": [
      "  Attempting uninstall: idna\r\n",
      "    Found existing installation: idna 3.10\r\n",
      "    Uninstalling idna-3.10:\r\n",
      "      Successfully uninstalled idna-3.10\r\n"
     ]
    },
    {
     "name": "stdout",
     "output_type": "stream",
     "text": [
      "\u001b[31mERROR: pip's dependency resolver does not currently take into account all the packages that are installed. This behaviour is the source of the following dependency conflicts.\r\n",
      "tensorflow-decision-forests 1.10.0 requires tensorflow==2.17.0, but you have tensorflow 2.17.1 which is incompatible.\u001b[0m\u001b[31m\r\n",
      "\u001b[0mSuccessfully installed filetype-1.2.0 idna-3.7 python-dotenv-1.0.1 roboflow-1.1.54\r\n"
     ]
    }
   ],
   "source": [
    "!pip install roboflow torch torchvision matplotlib numpy pycocotools\n"
   ]
  },
  {
   "cell_type": "markdown",
   "id": "9071c72d",
   "metadata": {
    "papermill": {
     "duration": 0.00928,
     "end_time": "2025-02-20T07:07:31.777219",
     "exception": false,
     "start_time": "2025-02-20T07:07:31.767939",
     "status": "completed"
    },
    "tags": []
   },
   "source": [
    "> https://universe.roboflow.com/testes-jnrhu/wildfire-n12rk/dataset/1#"
   ]
  },
  {
   "cell_type": "markdown",
   "id": "1c74eefc",
   "metadata": {
    "papermill": {
     "duration": 0.009007,
     "end_time": "2025-02-20T07:07:31.795326",
     "exception": false,
     "start_time": "2025-02-20T07:07:31.786319",
     "status": "completed"
    },
    "tags": []
   },
   "source": [
    "Preprocessing\n",
    "Auto-Orient: Applied\n",
    "Resize: Stretch to 640x640\n",
    "Augmentations\n",
    "No augmentations were applied."
   ]
  },
  {
   "cell_type": "code",
   "execution_count": 2,
   "id": "6a6114f3",
   "metadata": {
    "_cell_guid": "b1076dfc-b9ad-4769-8c92-a6c4dae69d19",
    "_uuid": "8f2839f25d086af736a60e9eeb907d3b93b6e0e5",
    "execution": {
     "iopub.execute_input": "2025-02-20T07:07:31.815301Z",
     "iopub.status.busy": "2025-02-20T07:07:31.814996Z",
     "iopub.status.idle": "2025-02-20T07:07:34.429382Z",
     "shell.execute_reply": "2025-02-20T07:07:34.428691Z"
    },
    "papermill": {
     "duration": 2.625778,
     "end_time": "2025-02-20T07:07:34.430767",
     "exception": false,
     "start_time": "2025-02-20T07:07:31.804989",
     "status": "completed"
    },
    "tags": []
   },
   "outputs": [
    {
     "name": "stdout",
     "output_type": "stream",
     "text": [
      "\r",
      "loading Roboflow workspace...\n"
     ]
    },
    {
     "name": "stdout",
     "output_type": "stream",
     "text": [
      "\r",
      "loading Roboflow project...\n"
     ]
    },
    {
     "name": "stderr",
     "output_type": "stream",
     "text": [
      "\r",
      "Downloading Dataset Version Zip in wildfire-1 to yolov8-obb::   0%|          | 0/27353 [00:00<?, ?it/s]"
     ]
    },
    {
     "name": "stderr",
     "output_type": "stream",
     "text": [
      "\r",
      "Downloading Dataset Version Zip in wildfire-1 to yolov8-obb::  10%|▉         | 2669/27353 [00:00<00:00, 26687.93it/s]"
     ]
    },
    {
     "name": "stderr",
     "output_type": "stream",
     "text": [
      "\r",
      "Downloading Dataset Version Zip in wildfire-1 to yolov8-obb::  22%|██▏       | 6145/27353 [00:00<00:00, 30521.65it/s]"
     ]
    },
    {
     "name": "stderr",
     "output_type": "stream",
     "text": [
      "\r",
      "Downloading Dataset Version Zip in wildfire-1 to yolov8-obb::  43%|████▎     | 11873/27353 [00:00<00:00, 42541.33it/s]"
     ]
    },
    {
     "name": "stderr",
     "output_type": "stream",
     "text": [
      "\r",
      "Downloading Dataset Version Zip in wildfire-1 to yolov8-obb::  69%|██████▉   | 18971/27353 [00:00<00:00, 53656.67it/s]"
     ]
    },
    {
     "name": "stderr",
     "output_type": "stream",
     "text": [
      "\r",
      "Downloading Dataset Version Zip in wildfire-1 to yolov8-obb::  89%|████████▉ | 24357/27353 [00:00<00:00, 47581.39it/s]"
     ]
    },
    {
     "name": "stderr",
     "output_type": "stream",
     "text": [
      "\r",
      "Downloading Dataset Version Zip in wildfire-1 to yolov8-obb:: 100%|██████████| 27353/27353 [00:00<00:00, 47175.67it/s]"
     ]
    },
    {
     "name": "stdout",
     "output_type": "stream",
     "text": [
      "\n"
     ]
    },
    {
     "name": "stderr",
     "output_type": "stream",
     "text": [
      "\n"
     ]
    },
    {
     "name": "stderr",
     "output_type": "stream",
     "text": [
      "\r",
      "Extracting Dataset Version Zip to wildfire-1 in yolov8-obb::   0%|          | 0/1012 [00:00<?, ?it/s]"
     ]
    },
    {
     "name": "stderr",
     "output_type": "stream",
     "text": [
      "\r",
      "Extracting Dataset Version Zip to wildfire-1 in yolov8-obb::  59%|█████▉    | 595/1012 [00:00<00:00, 5945.04it/s]"
     ]
    },
    {
     "name": "stderr",
     "output_type": "stream",
     "text": [
      "\r",
      "Extracting Dataset Version Zip to wildfire-1 in yolov8-obb:: 100%|██████████| 1012/1012 [00:00<00:00, 6829.51it/s]"
     ]
    },
    {
     "name": "stderr",
     "output_type": "stream",
     "text": [
      "\n"
     ]
    }
   ],
   "source": [
    "\n",
    "from roboflow import Roboflow\n",
    "rf = Roboflow(api_key=\"7IyVahMNGQIrl0do1Zz8\")\n",
    "project = rf.workspace(\"testes-jnrhu\").project(\"wildfire-n12rk\")\n",
    "version = project.version(1)\n",
    "dataset = version.download(\"yolov8-obb\")\n",
    "                "
   ]
  },
  {
   "cell_type": "markdown",
   "id": "7347afb0",
   "metadata": {
    "papermill": {
     "duration": 0.009812,
     "end_time": "2025-02-20T07:07:34.450580",
     "exception": false,
     "start_time": "2025-02-20T07:07:34.440768",
     "status": "completed"
    },
    "tags": []
   },
   "source": [
    "> https://universe.roboflow.com/bairock/wildfire-satellite/dataset/2#"
   ]
  },
  {
   "cell_type": "markdown",
   "id": "3bce44c1",
   "metadata": {
    "papermill": {
     "duration": 0.009461,
     "end_time": "2025-02-20T07:07:34.469692",
     "exception": false,
     "start_time": "2025-02-20T07:07:34.460231",
     "status": "completed"
    },
    "tags": []
   },
   "source": [
    "Preprocessing\n",
    "Auto-Orient: Applied\n",
    "Resize: Stretch to 416x416\n",
    "Augmentations\n",
    "Outputs per training example: 3\n",
    "Flip: Horizontal, Vertical"
   ]
  },
  {
   "cell_type": "code",
   "execution_count": 3,
   "id": "39c6b3e2",
   "metadata": {
    "execution": {
     "iopub.execute_input": "2025-02-20T07:07:34.489725Z",
     "iopub.status.busy": "2025-02-20T07:07:34.489430Z",
     "iopub.status.idle": "2025-02-20T07:07:41.738035Z",
     "shell.execute_reply": "2025-02-20T07:07:41.737060Z"
    },
    "papermill": {
     "duration": 7.260318,
     "end_time": "2025-02-20T07:07:41.739642",
     "exception": false,
     "start_time": "2025-02-20T07:07:34.479324",
     "status": "completed"
    },
    "tags": []
   },
   "outputs": [
    {
     "name": "stdout",
     "output_type": "stream",
     "text": [
      "\r",
      "loading Roboflow workspace...\n"
     ]
    },
    {
     "name": "stdout",
     "output_type": "stream",
     "text": [
      "\r",
      "loading Roboflow project...\n"
     ]
    },
    {
     "name": "stderr",
     "output_type": "stream",
     "text": [
      "\r",
      "Downloading Dataset Version Zip in Wildfire-Satellite-2 to yolov8-obb::   0%|          | 0/239413 [00:00<?, ?it/s]"
     ]
    },
    {
     "name": "stderr",
     "output_type": "stream",
     "text": [
      "\r",
      "Downloading Dataset Version Zip in Wildfire-Satellite-2 to yolov8-obb::   2%|▏         | 5205/239413 [00:00<00:04, 52045.09it/s]"
     ]
    },
    {
     "name": "stderr",
     "output_type": "stream",
     "text": [
      "\r",
      "Downloading Dataset Version Zip in Wildfire-Satellite-2 to yolov8-obb::   5%|▌         | 12587/239413 [00:00<00:03, 64849.21it/s]"
     ]
    },
    {
     "name": "stderr",
     "output_type": "stream",
     "text": [
      "\r",
      "Downloading Dataset Version Zip in Wildfire-Satellite-2 to yolov8-obb::   8%|▊         | 19072/239413 [00:00<00:03, 57320.03it/s]"
     ]
    },
    {
     "name": "stderr",
     "output_type": "stream",
     "text": [
      "\r",
      "Downloading Dataset Version Zip in Wildfire-Satellite-2 to yolov8-obb::  11%|█         | 26256/239413 [00:00<00:03, 62627.35it/s]"
     ]
    },
    {
     "name": "stderr",
     "output_type": "stream",
     "text": [
      "\r",
      "Downloading Dataset Version Zip in Wildfire-Satellite-2 to yolov8-obb::  14%|█▍        | 33894/239413 [00:00<00:03, 67343.56it/s]"
     ]
    },
    {
     "name": "stderr",
     "output_type": "stream",
     "text": [
      "\r",
      "Downloading Dataset Version Zip in Wildfire-Satellite-2 to yolov8-obb::  17%|█▋        | 41431/239413 [00:00<00:02, 69982.51it/s]"
     ]
    },
    {
     "name": "stderr",
     "output_type": "stream",
     "text": [
      "\r",
      "Downloading Dataset Version Zip in Wildfire-Satellite-2 to yolov8-obb::  20%|██        | 49031/239413 [00:00<00:02, 71898.79it/s]"
     ]
    },
    {
     "name": "stderr",
     "output_type": "stream",
     "text": [
      "\r",
      "Downloading Dataset Version Zip in Wildfire-Satellite-2 to yolov8-obb::  24%|██▎       | 56484/239413 [00:00<00:02, 72722.59it/s]"
     ]
    },
    {
     "name": "stderr",
     "output_type": "stream",
     "text": [
      "\r",
      "Downloading Dataset Version Zip in Wildfire-Satellite-2 to yolov8-obb::  27%|██▋       | 64047/239413 [00:00<00:02, 73619.64it/s]"
     ]
    },
    {
     "name": "stderr",
     "output_type": "stream",
     "text": [
      "\r",
      "Downloading Dataset Version Zip in Wildfire-Satellite-2 to yolov8-obb::  30%|██▉       | 71564/239413 [00:01<00:02, 74092.61it/s]"
     ]
    },
    {
     "name": "stderr",
     "output_type": "stream",
     "text": [
      "\r",
      "Downloading Dataset Version Zip in Wildfire-Satellite-2 to yolov8-obb::  33%|███▎      | 78991/239413 [00:01<00:02, 73807.05it/s]"
     ]
    },
    {
     "name": "stderr",
     "output_type": "stream",
     "text": [
      "\r",
      "Downloading Dataset Version Zip in Wildfire-Satellite-2 to yolov8-obb::  36%|███▌      | 86384/239413 [00:01<00:02, 73831.19it/s]"
     ]
    },
    {
     "name": "stderr",
     "output_type": "stream",
     "text": [
      "\r",
      "Downloading Dataset Version Zip in Wildfire-Satellite-2 to yolov8-obb::  39%|███▉      | 93920/239413 [00:01<00:01, 74290.55it/s]"
     ]
    },
    {
     "name": "stderr",
     "output_type": "stream",
     "text": [
      "\r",
      "Downloading Dataset Version Zip in Wildfire-Satellite-2 to yolov8-obb::  42%|████▏     | 101501/239413 [00:01<00:01, 74744.69it/s]"
     ]
    },
    {
     "name": "stderr",
     "output_type": "stream",
     "text": [
      "\r",
      "Downloading Dataset Version Zip in Wildfire-Satellite-2 to yolov8-obb::  46%|████▌     | 109053/239413 [00:01<00:01, 74974.46it/s]"
     ]
    },
    {
     "name": "stderr",
     "output_type": "stream",
     "text": [
      "\r",
      "Downloading Dataset Version Zip in Wildfire-Satellite-2 to yolov8-obb::  49%|████▊     | 116585/239413 [00:01<00:01, 75075.14it/s]"
     ]
    },
    {
     "name": "stderr",
     "output_type": "stream",
     "text": [
      "\r",
      "Downloading Dataset Version Zip in Wildfire-Satellite-2 to yolov8-obb::  52%|█████▏    | 124095/239413 [00:01<00:01, 74728.45it/s]"
     ]
    },
    {
     "name": "stderr",
     "output_type": "stream",
     "text": [
      "\r",
      "Downloading Dataset Version Zip in Wildfire-Satellite-2 to yolov8-obb::  55%|█████▍    | 131570/239413 [00:01<00:01, 73994.32it/s]"
     ]
    },
    {
     "name": "stderr",
     "output_type": "stream",
     "text": [
      "\r",
      "Downloading Dataset Version Zip in Wildfire-Satellite-2 to yolov8-obb::  58%|█████▊    | 138973/239413 [00:01<00:01, 73770.68it/s]"
     ]
    },
    {
     "name": "stderr",
     "output_type": "stream",
     "text": [
      "\r",
      "Downloading Dataset Version Zip in Wildfire-Satellite-2 to yolov8-obb::  61%|██████▏   | 146814/239413 [00:02<00:01, 75145.09it/s]"
     ]
    },
    {
     "name": "stderr",
     "output_type": "stream",
     "text": [
      "\r",
      "Downloading Dataset Version Zip in Wildfire-Satellite-2 to yolov8-obb::  65%|██████▍   | 154439/239413 [00:02<00:01, 75466.85it/s]"
     ]
    },
    {
     "name": "stderr",
     "output_type": "stream",
     "text": [
      "\r",
      "Downloading Dataset Version Zip in Wildfire-Satellite-2 to yolov8-obb::  68%|██████▊   | 162293/239413 [00:02<00:01, 76384.06it/s]"
     ]
    },
    {
     "name": "stderr",
     "output_type": "stream",
     "text": [
      "\r",
      "Downloading Dataset Version Zip in Wildfire-Satellite-2 to yolov8-obb::  71%|███████   | 170011/239413 [00:02<00:00, 76619.15it/s]"
     ]
    },
    {
     "name": "stderr",
     "output_type": "stream",
     "text": [
      "\r",
      "Downloading Dataset Version Zip in Wildfire-Satellite-2 to yolov8-obb::  74%|███████▍  | 177675/239413 [00:02<00:00, 71854.64it/s]"
     ]
    },
    {
     "name": "stderr",
     "output_type": "stream",
     "text": [
      "\r",
      "Downloading Dataset Version Zip in Wildfire-Satellite-2 to yolov8-obb::  77%|███████▋  | 185220/239413 [00:02<00:00, 72878.30it/s]"
     ]
    },
    {
     "name": "stderr",
     "output_type": "stream",
     "text": [
      "\r",
      "Downloading Dataset Version Zip in Wildfire-Satellite-2 to yolov8-obb::  81%|████████  | 192912/239413 [00:02<00:00, 74045.17it/s]"
     ]
    },
    {
     "name": "stderr",
     "output_type": "stream",
     "text": [
      "\r",
      "Downloading Dataset Version Zip in Wildfire-Satellite-2 to yolov8-obb::  84%|████████▍ | 200640/239413 [00:02<00:00, 74992.23it/s]"
     ]
    },
    {
     "name": "stderr",
     "output_type": "stream",
     "text": [
      "\r",
      "Downloading Dataset Version Zip in Wildfire-Satellite-2 to yolov8-obb::  87%|████████▋ | 208370/239413 [00:02<00:00, 75671.97it/s]"
     ]
    },
    {
     "name": "stderr",
     "output_type": "stream",
     "text": [
      "\r",
      "Downloading Dataset Version Zip in Wildfire-Satellite-2 to yolov8-obb::  90%|█████████ | 216049/239413 [00:02<00:00, 76002.16it/s]"
     ]
    },
    {
     "name": "stderr",
     "output_type": "stream",
     "text": [
      "\r",
      "Downloading Dataset Version Zip in Wildfire-Satellite-2 to yolov8-obb::  93%|█████████▎| 223665/239413 [00:03<00:00, 75835.92it/s]"
     ]
    },
    {
     "name": "stderr",
     "output_type": "stream",
     "text": [
      "\r",
      "Downloading Dataset Version Zip in Wildfire-Satellite-2 to yolov8-obb::  97%|█████████▋| 231350/239413 [00:03<00:00, 76135.15it/s]"
     ]
    },
    {
     "name": "stderr",
     "output_type": "stream",
     "text": [
      "\r",
      "Downloading Dataset Version Zip in Wildfire-Satellite-2 to yolov8-obb:: 100%|█████████▉| 238972/239413 [00:03<00:00, 76043.53it/s]"
     ]
    },
    {
     "name": "stderr",
     "output_type": "stream",
     "text": [
      "\r",
      "Downloading Dataset Version Zip in Wildfire-Satellite-2 to yolov8-obb:: 100%|██████████| 239413/239413 [00:03<00:00, 73249.96it/s]"
     ]
    },
    {
     "name": "stdout",
     "output_type": "stream",
     "text": [
      "\n"
     ]
    },
    {
     "name": "stderr",
     "output_type": "stream",
     "text": [
      "\n"
     ]
    },
    {
     "name": "stderr",
     "output_type": "stream",
     "text": [
      "\r",
      "Extracting Dataset Version Zip to Wildfire-Satellite-2 in yolov8-obb::   0%|          | 0/18065 [00:00<?, ?it/s]"
     ]
    },
    {
     "name": "stderr",
     "output_type": "stream",
     "text": [
      "\r",
      "Extracting Dataset Version Zip to Wildfire-Satellite-2 in yolov8-obb::   4%|▍         | 696/18065 [00:00<00:02, 6959.11it/s]"
     ]
    },
    {
     "name": "stderr",
     "output_type": "stream",
     "text": [
      "\r",
      "Extracting Dataset Version Zip to Wildfire-Satellite-2 in yolov8-obb::   8%|▊         | 1423/18065 [00:00<00:02, 7136.97it/s]"
     ]
    },
    {
     "name": "stderr",
     "output_type": "stream",
     "text": [
      "\r",
      "Extracting Dataset Version Zip to Wildfire-Satellite-2 in yolov8-obb::  12%|█▏        | 2137/18065 [00:00<00:02, 6955.52it/s]"
     ]
    },
    {
     "name": "stderr",
     "output_type": "stream",
     "text": [
      "\r",
      "Extracting Dataset Version Zip to Wildfire-Satellite-2 in yolov8-obb::  16%|█▌        | 2834/18065 [00:00<00:02, 6836.98it/s]"
     ]
    },
    {
     "name": "stderr",
     "output_type": "stream",
     "text": [
      "\r",
      "Extracting Dataset Version Zip to Wildfire-Satellite-2 in yolov8-obb::  20%|█▉        | 3523/18065 [00:00<00:02, 6853.61it/s]"
     ]
    },
    {
     "name": "stderr",
     "output_type": "stream",
     "text": [
      "\r",
      "Extracting Dataset Version Zip to Wildfire-Satellite-2 in yolov8-obb::  23%|██▎       | 4243/18065 [00:00<00:01, 6967.74it/s]"
     ]
    },
    {
     "name": "stderr",
     "output_type": "stream",
     "text": [
      "\r",
      "Extracting Dataset Version Zip to Wildfire-Satellite-2 in yolov8-obb::  27%|██▋       | 4960/18065 [00:00<00:01, 7031.92it/s]"
     ]
    },
    {
     "name": "stderr",
     "output_type": "stream",
     "text": [
      "\r",
      "Extracting Dataset Version Zip to Wildfire-Satellite-2 in yolov8-obb::  32%|███▏      | 5694/18065 [00:00<00:01, 7129.10it/s]"
     ]
    },
    {
     "name": "stderr",
     "output_type": "stream",
     "text": [
      "\r",
      "Extracting Dataset Version Zip to Wildfire-Satellite-2 in yolov8-obb::  35%|███▌      | 6408/18065 [00:00<00:01, 7093.13it/s]"
     ]
    },
    {
     "name": "stderr",
     "output_type": "stream",
     "text": [
      "\r",
      "Extracting Dataset Version Zip to Wildfire-Satellite-2 in yolov8-obb::  40%|███▉      | 7162/18065 [00:01<00:01, 7228.02it/s]"
     ]
    },
    {
     "name": "stderr",
     "output_type": "stream",
     "text": [
      "\r",
      "Extracting Dataset Version Zip to Wildfire-Satellite-2 in yolov8-obb::  44%|████▍     | 7913/18065 [00:01<00:01, 7311.38it/s]"
     ]
    },
    {
     "name": "stderr",
     "output_type": "stream",
     "text": [
      "\r",
      "Extracting Dataset Version Zip to Wildfire-Satellite-2 in yolov8-obb::  48%|████▊     | 8645/18065 [00:01<00:01, 7282.65it/s]"
     ]
    },
    {
     "name": "stderr",
     "output_type": "stream",
     "text": [
      "\r",
      "Extracting Dataset Version Zip to Wildfire-Satellite-2 in yolov8-obb::  53%|█████▎    | 9606/18065 [00:01<00:01, 7982.95it/s]"
     ]
    },
    {
     "name": "stderr",
     "output_type": "stream",
     "text": [
      "\r",
      "Extracting Dataset Version Zip to Wildfire-Satellite-2 in yolov8-obb::  59%|█████▉    | 10690/18065 [00:01<00:00, 8841.79it/s]"
     ]
    },
    {
     "name": "stderr",
     "output_type": "stream",
     "text": [
      "\r",
      "Extracting Dataset Version Zip to Wildfire-Satellite-2 in yolov8-obb::  65%|██████▌   | 11783/18065 [00:01<00:00, 9468.60it/s]"
     ]
    },
    {
     "name": "stderr",
     "output_type": "stream",
     "text": [
      "\r",
      "Extracting Dataset Version Zip to Wildfire-Satellite-2 in yolov8-obb::  71%|███████   | 12856/18065 [00:01<00:00, 9845.10it/s]"
     ]
    },
    {
     "name": "stderr",
     "output_type": "stream",
     "text": [
      "\r",
      "Extracting Dataset Version Zip to Wildfire-Satellite-2 in yolov8-obb::  77%|███████▋  | 13907/18065 [00:01<00:00, 10042.27it/s]"
     ]
    },
    {
     "name": "stderr",
     "output_type": "stream",
     "text": [
      "\r",
      "Extracting Dataset Version Zip to Wildfire-Satellite-2 in yolov8-obb::  83%|████████▎ | 14994/18065 [00:01<00:00, 10288.87it/s]"
     ]
    },
    {
     "name": "stderr",
     "output_type": "stream",
     "text": [
      "\r",
      "Extracting Dataset Version Zip to Wildfire-Satellite-2 in yolov8-obb::  89%|████████▉ | 16076/18065 [00:01<00:00, 10447.95it/s]"
     ]
    },
    {
     "name": "stderr",
     "output_type": "stream",
     "text": [
      "\r",
      "Extracting Dataset Version Zip to Wildfire-Satellite-2 in yolov8-obb::  95%|█████████▌| 17171/18065 [00:02<00:00, 10597.53it/s]"
     ]
    },
    {
     "name": "stderr",
     "output_type": "stream",
     "text": [
      "\r",
      "Extracting Dataset Version Zip to Wildfire-Satellite-2 in yolov8-obb:: 100%|██████████| 18065/18065 [00:02<00:00, 8576.23it/s] "
     ]
    },
    {
     "name": "stderr",
     "output_type": "stream",
     "text": [
      "\n"
     ]
    }
   ],
   "source": [
    "from roboflow import Roboflow\n",
    "rf = Roboflow(api_key=\"7IyVahMNGQIrl0do1Zz8\")\n",
    "project = rf.workspace(\"bairock\").project(\"wildfire-satellite\")\n",
    "version = project.version(2)\n",
    "dataset = version.download(\"yolov8-obb\")\n",
    "                #THIS WHAT I USED "
   ]
  },
  {
   "cell_type": "markdown",
   "id": "267a657c",
   "metadata": {
    "papermill": {
     "duration": 0.012182,
     "end_time": "2025-02-20T07:07:41.765443",
     "exception": false,
     "start_time": "2025-02-20T07:07:41.753261",
     "status": "completed"
    },
    "tags": []
   },
   "source": [
    "> https://universe.roboflow.com/mini-z0ruz/wildfire-yh86l/dataset/2#"
   ]
  },
  {
   "cell_type": "markdown",
   "id": "b5944992",
   "metadata": {
    "papermill": {
     "duration": 0.013179,
     "end_time": "2025-02-20T07:07:41.792317",
     "exception": false,
     "start_time": "2025-02-20T07:07:41.779138",
     "status": "completed"
    },
    "tags": []
   },
   "source": [
    "Preprocessing\n",
    "Auto-Orient: Applied\n",
    "Resize: Stretch to 640x640\n",
    "Augmentations\n",
    "No augmentations were applied."
   ]
  },
  {
   "cell_type": "code",
   "execution_count": 4,
   "id": "58620635",
   "metadata": {
    "execution": {
     "iopub.execute_input": "2025-02-20T07:07:41.819831Z",
     "iopub.status.busy": "2025-02-20T07:07:41.819504Z",
     "iopub.status.idle": "2025-02-20T07:07:47.432070Z",
     "shell.execute_reply": "2025-02-20T07:07:47.430933Z"
    },
    "papermill": {
     "duration": 5.627794,
     "end_time": "2025-02-20T07:07:47.433643",
     "exception": false,
     "start_time": "2025-02-20T07:07:41.805849",
     "status": "completed"
    },
    "tags": []
   },
   "outputs": [
    {
     "name": "stdout",
     "output_type": "stream",
     "text": [
      "\r",
      "loading Roboflow workspace...\n"
     ]
    },
    {
     "name": "stdout",
     "output_type": "stream",
     "text": [
      "\r",
      "loading Roboflow project...\n"
     ]
    },
    {
     "name": "stderr",
     "output_type": "stream",
     "text": [
      "\r",
      "Downloading Dataset Version Zip in Wildfire-2 to yolov8-obb::   0%|          | 0/215379 [00:00<?, ?it/s]"
     ]
    },
    {
     "name": "stderr",
     "output_type": "stream",
     "text": [
      "\r",
      "Downloading Dataset Version Zip in Wildfire-2 to yolov8-obb::   1%|          | 2049/215379 [00:00<00:11, 18743.48it/s]"
     ]
    },
    {
     "name": "stderr",
     "output_type": "stream",
     "text": [
      "\r",
      "Downloading Dataset Version Zip in Wildfire-2 to yolov8-obb::   3%|▎         | 7068/215379 [00:00<00:05, 36553.05it/s]"
     ]
    },
    {
     "name": "stderr",
     "output_type": "stream",
     "text": [
      "\r",
      "Downloading Dataset Version Zip in Wildfire-2 to yolov8-obb::   6%|▋         | 13673/215379 [00:00<00:04, 49743.78it/s]"
     ]
    },
    {
     "name": "stderr",
     "output_type": "stream",
     "text": [
      "\r",
      "Downloading Dataset Version Zip in Wildfire-2 to yolov8-obb::  10%|█         | 21699/215379 [00:00<00:03, 61637.78it/s]"
     ]
    },
    {
     "name": "stderr",
     "output_type": "stream",
     "text": [
      "\r",
      "Downloading Dataset Version Zip in Wildfire-2 to yolov8-obb::  14%|█▍        | 29629/215379 [00:00<00:02, 67953.07it/s]"
     ]
    },
    {
     "name": "stderr",
     "output_type": "stream",
     "text": [
      "\r",
      "Downloading Dataset Version Zip in Wildfire-2 to yolov8-obb::  17%|█▋        | 37648/215379 [00:00<00:02, 72086.33it/s]"
     ]
    },
    {
     "name": "stderr",
     "output_type": "stream",
     "text": [
      "\r",
      "Downloading Dataset Version Zip in Wildfire-2 to yolov8-obb::  21%|██        | 45533/215379 [00:00<00:02, 74288.64it/s]"
     ]
    },
    {
     "name": "stderr",
     "output_type": "stream",
     "text": [
      "\r",
      "Downloading Dataset Version Zip in Wildfire-2 to yolov8-obb::  25%|██▍       | 53391/215379 [00:00<00:02, 75649.34it/s]"
     ]
    },
    {
     "name": "stderr",
     "output_type": "stream",
     "text": [
      "\r",
      "Downloading Dataset Version Zip in Wildfire-2 to yolov8-obb::  28%|██▊       | 61221/215379 [00:00<00:02, 76473.88it/s]"
     ]
    },
    {
     "name": "stderr",
     "output_type": "stream",
     "text": [
      "\r",
      "Downloading Dataset Version Zip in Wildfire-2 to yolov8-obb::  32%|███▏      | 69032/215379 [00:01<00:01, 76974.88it/s]"
     ]
    },
    {
     "name": "stderr",
     "output_type": "stream",
     "text": [
      "\r",
      "Downloading Dataset Version Zip in Wildfire-2 to yolov8-obb::  36%|███▌      | 77039/215379 [00:01<00:01, 77920.14it/s]"
     ]
    },
    {
     "name": "stderr",
     "output_type": "stream",
     "text": [
      "\r",
      "Downloading Dataset Version Zip in Wildfire-2 to yolov8-obb::  39%|███▉      | 85011/215379 [00:01<00:01, 78465.02it/s]"
     ]
    },
    {
     "name": "stderr",
     "output_type": "stream",
     "text": [
      "\r",
      "Downloading Dataset Version Zip in Wildfire-2 to yolov8-obb::  43%|████▎     | 92984/215379 [00:01<00:01, 78842.16it/s]"
     ]
    },
    {
     "name": "stderr",
     "output_type": "stream",
     "text": [
      "\r",
      "Downloading Dataset Version Zip in Wildfire-2 to yolov8-obb::  47%|████▋     | 101086/215379 [00:01<00:01, 79498.89it/s]"
     ]
    },
    {
     "name": "stderr",
     "output_type": "stream",
     "text": [
      "\r",
      "Downloading Dataset Version Zip in Wildfire-2 to yolov8-obb::  51%|█████     | 109070/215379 [00:01<00:01, 79600.05it/s]"
     ]
    },
    {
     "name": "stderr",
     "output_type": "stream",
     "text": [
      "\r",
      "Downloading Dataset Version Zip in Wildfire-2 to yolov8-obb::  54%|█████▍    | 117073/215379 [00:01<00:01, 79727.17it/s]"
     ]
    },
    {
     "name": "stderr",
     "output_type": "stream",
     "text": [
      "\r",
      "Downloading Dataset Version Zip in Wildfire-2 to yolov8-obb::  58%|█████▊    | 125047/215379 [00:01<00:01, 79603.58it/s]"
     ]
    },
    {
     "name": "stderr",
     "output_type": "stream",
     "text": [
      "\r",
      "Downloading Dataset Version Zip in Wildfire-2 to yolov8-obb::  62%|██████▏   | 133008/215379 [00:01<00:01, 78678.53it/s]"
     ]
    },
    {
     "name": "stderr",
     "output_type": "stream",
     "text": [
      "\r",
      "Downloading Dataset Version Zip in Wildfire-2 to yolov8-obb::  65%|██████▌   | 140879/215379 [00:01<00:00, 78204.12it/s]"
     ]
    },
    {
     "name": "stderr",
     "output_type": "stream",
     "text": [
      "\r",
      "Downloading Dataset Version Zip in Wildfire-2 to yolov8-obb::  69%|██████▉   | 148702/215379 [00:02<00:00, 77436.64it/s]"
     ]
    },
    {
     "name": "stderr",
     "output_type": "stream",
     "text": [
      "\r",
      "Downloading Dataset Version Zip in Wildfire-2 to yolov8-obb::  73%|███████▎  | 156449/215379 [00:02<00:00, 76023.36it/s]"
     ]
    },
    {
     "name": "stderr",
     "output_type": "stream",
     "text": [
      "\r",
      "Downloading Dataset Version Zip in Wildfire-2 to yolov8-obb::  76%|███████▌  | 164058/215379 [00:02<00:00, 74344.72it/s]"
     ]
    },
    {
     "name": "stderr",
     "output_type": "stream",
     "text": [
      "\r",
      "Downloading Dataset Version Zip in Wildfire-2 to yolov8-obb::  80%|███████▉  | 171502/215379 [00:02<00:00, 73518.47it/s]"
     ]
    },
    {
     "name": "stderr",
     "output_type": "stream",
     "text": [
      "\r",
      "Downloading Dataset Version Zip in Wildfire-2 to yolov8-obb::  83%|████████▎ | 178860/215379 [00:02<00:00, 73430.65it/s]"
     ]
    },
    {
     "name": "stderr",
     "output_type": "stream",
     "text": [
      "\r",
      "Downloading Dataset Version Zip in Wildfire-2 to yolov8-obb::  86%|████████▋ | 186207/215379 [00:02<00:00, 73208.26it/s]"
     ]
    },
    {
     "name": "stderr",
     "output_type": "stream",
     "text": [
      "\r",
      "Downloading Dataset Version Zip in Wildfire-2 to yolov8-obb::  90%|████████▉ | 193531/215379 [00:02<00:00, 72689.95it/s]"
     ]
    },
    {
     "name": "stderr",
     "output_type": "stream",
     "text": [
      "\r",
      "Downloading Dataset Version Zip in Wildfire-2 to yolov8-obb::  93%|█████████▎| 200802/215379 [00:02<00:00, 72115.75it/s]"
     ]
    },
    {
     "name": "stderr",
     "output_type": "stream",
     "text": [
      "\r",
      "Downloading Dataset Version Zip in Wildfire-2 to yolov8-obb::  97%|█████████▋| 208015/215379 [00:02<00:00, 71988.20it/s]"
     ]
    },
    {
     "name": "stderr",
     "output_type": "stream",
     "text": [
      "\r",
      "Downloading Dataset Version Zip in Wildfire-2 to yolov8-obb:: 100%|█████████▉| 215215/215379 [00:02<00:00, 71375.84it/s]"
     ]
    },
    {
     "name": "stderr",
     "output_type": "stream",
     "text": [
      "\r",
      "Downloading Dataset Version Zip in Wildfire-2 to yolov8-obb:: 100%|██████████| 215379/215379 [00:02<00:00, 72946.47it/s]"
     ]
    },
    {
     "name": "stdout",
     "output_type": "stream",
     "text": [
      "\n"
     ]
    },
    {
     "name": "stderr",
     "output_type": "stream",
     "text": [
      "\n"
     ]
    },
    {
     "name": "stderr",
     "output_type": "stream",
     "text": [
      "\r",
      "Extracting Dataset Version Zip to Wildfire-2 in yolov8-obb::   0%|          | 0/7990 [00:00<?, ?it/s]"
     ]
    },
    {
     "name": "stderr",
     "output_type": "stream",
     "text": [
      "\r",
      "Extracting Dataset Version Zip to Wildfire-2 in yolov8-obb::   5%|▍         | 396/7990 [00:00<00:01, 3957.41it/s]"
     ]
    },
    {
     "name": "stderr",
     "output_type": "stream",
     "text": [
      "\r",
      "Extracting Dataset Version Zip to Wildfire-2 in yolov8-obb::  15%|█▍        | 1180/7990 [00:00<00:01, 6237.48it/s]"
     ]
    },
    {
     "name": "stderr",
     "output_type": "stream",
     "text": [
      "\r",
      "Extracting Dataset Version Zip to Wildfire-2 in yolov8-obb::  23%|██▎       | 1804/7990 [00:00<00:01, 5470.93it/s]"
     ]
    },
    {
     "name": "stderr",
     "output_type": "stream",
     "text": [
      "\r",
      "Extracting Dataset Version Zip to Wildfire-2 in yolov8-obb::  30%|██▉       | 2361/7990 [00:00<00:01, 5316.31it/s]"
     ]
    },
    {
     "name": "stderr",
     "output_type": "stream",
     "text": [
      "\r",
      "Extracting Dataset Version Zip to Wildfire-2 in yolov8-obb::  36%|███▋      | 2899/7990 [00:00<00:00, 5271.37it/s]"
     ]
    },
    {
     "name": "stderr",
     "output_type": "stream",
     "text": [
      "\r",
      "Extracting Dataset Version Zip to Wildfire-2 in yolov8-obb::  43%|████▎     | 3430/7990 [00:00<00:00, 5028.80it/s]"
     ]
    },
    {
     "name": "stderr",
     "output_type": "stream",
     "text": [
      "\r",
      "Extracting Dataset Version Zip to Wildfire-2 in yolov8-obb::  49%|████▉     | 3936/7990 [00:00<00:00, 5012.99it/s]"
     ]
    },
    {
     "name": "stderr",
     "output_type": "stream",
     "text": [
      "\r",
      "Extracting Dataset Version Zip to Wildfire-2 in yolov8-obb::  56%|█████▋    | 4513/7990 [00:00<00:00, 5239.79it/s]"
     ]
    },
    {
     "name": "stderr",
     "output_type": "stream",
     "text": [
      "\r",
      "Extracting Dataset Version Zip to Wildfire-2 in yolov8-obb::  70%|██████▉   | 5586/7990 [00:00<00:00, 6889.84it/s]"
     ]
    },
    {
     "name": "stderr",
     "output_type": "stream",
     "text": [
      "\r",
      "Extracting Dataset Version Zip to Wildfire-2 in yolov8-obb::  83%|████████▎ | 6634/7990 [00:01<00:00, 7968.28it/s]"
     ]
    },
    {
     "name": "stderr",
     "output_type": "stream",
     "text": [
      "\r",
      "Extracting Dataset Version Zip to Wildfire-2 in yolov8-obb::  96%|█████████▌| 7654/7990 [00:01<00:00, 8635.50it/s]"
     ]
    },
    {
     "name": "stderr",
     "output_type": "stream",
     "text": [
      "\r",
      "Extracting Dataset Version Zip to Wildfire-2 in yolov8-obb:: 100%|██████████| 7990/7990 [00:01<00:00, 6605.25it/s]"
     ]
    },
    {
     "name": "stderr",
     "output_type": "stream",
     "text": [
      "\n"
     ]
    }
   ],
   "source": [
    "from roboflow import Roboflow\n",
    "rf = Roboflow(api_key=\"7IyVahMNGQIrl0do1Zz8\")\n",
    "project = rf.workspace(\"mini-z0ruz\").project(\"wildfire-yh86l\")\n",
    "version = project.version(2)\n",
    "dataset = version.download(\"yolov8-obb\")\n",
    "                "
   ]
  },
  {
   "cell_type": "markdown",
   "id": "c2ba91e0",
   "metadata": {
    "papermill": {
     "duration": 0.014432,
     "end_time": "2025-02-20T07:07:47.463349",
     "exception": false,
     "start_time": "2025-02-20T07:07:47.448917",
     "status": "completed"
    },
    "tags": []
   },
   "source": [
    "> https://universe.roboflow.com/fireforestgen/fire_forest_new/dataset/8#"
   ]
  },
  {
   "cell_type": "markdown",
   "id": "3efffc64",
   "metadata": {
    "papermill": {
     "duration": 0.014412,
     "end_time": "2025-02-20T07:07:47.492208",
     "exception": false,
     "start_time": "2025-02-20T07:07:47.477796",
     "status": "completed"
    },
    "tags": []
   },
   "source": [
    "Preprocessing\n",
    "No preprocessing steps were applied.\n",
    "Augmentations\n",
    "No augmentations were applied."
   ]
  },
  {
   "cell_type": "code",
   "execution_count": 5,
   "id": "0f42d8ba",
   "metadata": {
    "execution": {
     "iopub.execute_input": "2025-02-20T07:07:47.522365Z",
     "iopub.status.busy": "2025-02-20T07:07:47.522102Z",
     "iopub.status.idle": "2025-02-20T07:07:50.440996Z",
     "shell.execute_reply": "2025-02-20T07:07:50.440112Z"
    },
    "papermill": {
     "duration": 2.935663,
     "end_time": "2025-02-20T07:07:50.442368",
     "exception": false,
     "start_time": "2025-02-20T07:07:47.506705",
     "status": "completed"
    },
    "tags": []
   },
   "outputs": [
    {
     "name": "stdout",
     "output_type": "stream",
     "text": [
      "\r",
      "loading Roboflow workspace...\n"
     ]
    },
    {
     "name": "stdout",
     "output_type": "stream",
     "text": [
      "\r",
      "loading Roboflow project...\n"
     ]
    },
    {
     "name": "stderr",
     "output_type": "stream",
     "text": [
      "\r",
      "Downloading Dataset Version Zip in fire_forest_new-8 to yolov8-obb::   0%|          | 0/80043 [00:00<?, ?it/s]"
     ]
    },
    {
     "name": "stderr",
     "output_type": "stream",
     "text": [
      "\r",
      "Downloading Dataset Version Zip in fire_forest_new-8 to yolov8-obb::   7%|▋         | 5929/80043 [00:00<00:01, 59286.81it/s]"
     ]
    },
    {
     "name": "stderr",
     "output_type": "stream",
     "text": [
      "\r",
      "Downloading Dataset Version Zip in fire_forest_new-8 to yolov8-obb::  15%|█▍        | 11858/80043 [00:00<00:01, 57865.55it/s]"
     ]
    },
    {
     "name": "stderr",
     "output_type": "stream",
     "text": [
      "\r",
      "Downloading Dataset Version Zip in fire_forest_new-8 to yolov8-obb::  24%|██▍       | 19119/80043 [00:00<00:00, 64506.28it/s]"
     ]
    },
    {
     "name": "stderr",
     "output_type": "stream",
     "text": [
      "\r",
      "Downloading Dataset Version Zip in fire_forest_new-8 to yolov8-obb::  33%|███▎      | 26565/80043 [00:00<00:00, 68400.68it/s]"
     ]
    },
    {
     "name": "stderr",
     "output_type": "stream",
     "text": [
      "\r",
      "Downloading Dataset Version Zip in fire_forest_new-8 to yolov8-obb::  43%|████▎     | 34044/80043 [00:00<00:00, 70690.82it/s]"
     ]
    },
    {
     "name": "stderr",
     "output_type": "stream",
     "text": [
      "\r",
      "Downloading Dataset Version Zip in fire_forest_new-8 to yolov8-obb::  52%|█████▏    | 41629/80043 [00:00<00:00, 72433.88it/s]"
     ]
    },
    {
     "name": "stderr",
     "output_type": "stream",
     "text": [
      "\r",
      "Downloading Dataset Version Zip in fire_forest_new-8 to yolov8-obb::  62%|██████▏   | 49243/80043 [00:00<00:00, 73641.78it/s]"
     ]
    },
    {
     "name": "stderr",
     "output_type": "stream",
     "text": [
      "\r",
      "Downloading Dataset Version Zip in fire_forest_new-8 to yolov8-obb::  71%|███████   | 56896/80043 [00:00<00:00, 74556.05it/s]"
     ]
    },
    {
     "name": "stderr",
     "output_type": "stream",
     "text": [
      "\r",
      "Downloading Dataset Version Zip in fire_forest_new-8 to yolov8-obb::  80%|████████  | 64355/80043 [00:00<00:00, 74217.58it/s]"
     ]
    },
    {
     "name": "stderr",
     "output_type": "stream",
     "text": [
      "\r",
      "Downloading Dataset Version Zip in fire_forest_new-8 to yolov8-obb::  90%|████████▉ | 71892/80043 [00:01<00:00, 74569.48it/s]"
     ]
    },
    {
     "name": "stderr",
     "output_type": "stream",
     "text": [
      "\r",
      "Downloading Dataset Version Zip in fire_forest_new-8 to yolov8-obb::  99%|█████████▉| 79376/80043 [00:01<00:00, 74644.51it/s]"
     ]
    },
    {
     "name": "stderr",
     "output_type": "stream",
     "text": [
      "\r",
      "Downloading Dataset Version Zip in fire_forest_new-8 to yolov8-obb:: 100%|██████████| 80043/80043 [00:01<00:00, 71729.33it/s]"
     ]
    },
    {
     "name": "stdout",
     "output_type": "stream",
     "text": [
      "\n"
     ]
    },
    {
     "name": "stderr",
     "output_type": "stream",
     "text": [
      "\n"
     ]
    },
    {
     "name": "stderr",
     "output_type": "stream",
     "text": [
      "\r",
      "Extracting Dataset Version Zip to fire_forest_new-8 in yolov8-obb::   0%|          | 0/1045 [00:00<?, ?it/s]"
     ]
    },
    {
     "name": "stderr",
     "output_type": "stream",
     "text": [
      "\r",
      "Extracting Dataset Version Zip to fire_forest_new-8 in yolov8-obb::  23%|██▎       | 245/1045 [00:00<00:00, 2442.19it/s]"
     ]
    },
    {
     "name": "stderr",
     "output_type": "stream",
     "text": [
      "\r",
      "Extracting Dataset Version Zip to fire_forest_new-8 in yolov8-obb::  74%|███████▍  | 778/1045 [00:00<00:00, 4137.98it/s]"
     ]
    },
    {
     "name": "stderr",
     "output_type": "stream",
     "text": [
      "\r",
      "Extracting Dataset Version Zip to fire_forest_new-8 in yolov8-obb:: 100%|██████████| 1045/1045 [00:00<00:00, 3753.56it/s]"
     ]
    },
    {
     "name": "stderr",
     "output_type": "stream",
     "text": [
      "\n"
     ]
    }
   ],
   "source": [
    "from roboflow import Roboflow\n",
    "rf = Roboflow(api_key=\"7IyVahMNGQIrl0do1Zz8\")\n",
    "project = rf.workspace(\"fireforestgen\").project(\"fire_forest_new\")\n",
    "version = project.version(8)\n",
    "dataset = version.download(\"yolov8-obb\")\n",
    "                "
   ]
  },
  {
   "cell_type": "markdown",
   "id": "a6de3369",
   "metadata": {
    "papermill": {
     "duration": 0.017229,
     "end_time": "2025-02-20T07:07:50.477766",
     "exception": false,
     "start_time": "2025-02-20T07:07:50.460537",
     "status": "completed"
    },
    "tags": []
   },
   "source": [
    "> https://universe.roboflow.com/fireforestgen/fire_forest_gen/dataset/8"
   ]
  },
  {
   "cell_type": "markdown",
   "id": "9b931052",
   "metadata": {
    "papermill": {
     "duration": 0.016778,
     "end_time": "2025-02-20T07:07:50.511866",
     "exception": false,
     "start_time": "2025-02-20T07:07:50.495088",
     "status": "completed"
    },
    "tags": []
   },
   "source": [
    "Preprocessing\n",
    "Resize: Stretch to 800x800\n",
    "Augmentations\n",
    "No augmentations were applied."
   ]
  },
  {
   "cell_type": "code",
   "execution_count": 6,
   "id": "491672ad",
   "metadata": {
    "execution": {
     "iopub.execute_input": "2025-02-20T07:07:50.546490Z",
     "iopub.status.busy": "2025-02-20T07:07:50.546195Z",
     "iopub.status.idle": "2025-02-20T07:07:52.821924Z",
     "shell.execute_reply": "2025-02-20T07:07:52.820983Z"
    },
    "papermill": {
     "duration": 2.295057,
     "end_time": "2025-02-20T07:07:52.823702",
     "exception": false,
     "start_time": "2025-02-20T07:07:50.528645",
     "status": "completed"
    },
    "tags": []
   },
   "outputs": [
    {
     "name": "stdout",
     "output_type": "stream",
     "text": [
      "\r",
      "loading Roboflow workspace...\n"
     ]
    },
    {
     "name": "stdout",
     "output_type": "stream",
     "text": [
      "\r",
      "loading Roboflow project...\n"
     ]
    },
    {
     "name": "stderr",
     "output_type": "stream",
     "text": [
      "\r",
      "Downloading Dataset Version Zip in fire_forest_gen-8 to yolov8-obb::   0%|          | 0/39471 [00:00<?, ?it/s]"
     ]
    },
    {
     "name": "stderr",
     "output_type": "stream",
     "text": [
      "\r",
      "Downloading Dataset Version Zip in fire_forest_gen-8 to yolov8-obb::  11%|█         | 4383/39471 [00:00<00:00, 43581.91it/s]"
     ]
    },
    {
     "name": "stderr",
     "output_type": "stream",
     "text": [
      "\r",
      "Downloading Dataset Version Zip in fire_forest_gen-8 to yolov8-obb::  27%|██▋       | 10476/39471 [00:00<00:00, 53758.40it/s]"
     ]
    },
    {
     "name": "stderr",
     "output_type": "stream",
     "text": [
      "\r",
      "Downloading Dataset Version Zip in fire_forest_gen-8 to yolov8-obb::  44%|████▎     | 17218/39471 [00:00<00:00, 59984.86it/s]"
     ]
    },
    {
     "name": "stderr",
     "output_type": "stream",
     "text": [
      "\r",
      "Downloading Dataset Version Zip in fire_forest_gen-8 to yolov8-obb::  62%|██████▏   | 24357/39471 [00:00<00:00, 64481.39it/s]"
     ]
    },
    {
     "name": "stderr",
     "output_type": "stream",
     "text": [
      "\r",
      "Downloading Dataset Version Zip in fire_forest_gen-8 to yolov8-obb::  81%|████████  | 31794/39471 [00:00<00:00, 68039.55it/s]"
     ]
    },
    {
     "name": "stderr",
     "output_type": "stream",
     "text": [
      "\r",
      "Downloading Dataset Version Zip in fire_forest_gen-8 to yolov8-obb::  98%|█████████▊| 38600/39471 [00:00<00:00, 67522.65it/s]"
     ]
    },
    {
     "name": "stderr",
     "output_type": "stream",
     "text": [
      "\r",
      "Downloading Dataset Version Zip in fire_forest_gen-8 to yolov8-obb:: 100%|██████████| 39471/39471 [00:00<00:00, 64104.47it/s]"
     ]
    },
    {
     "name": "stdout",
     "output_type": "stream",
     "text": [
      "\n"
     ]
    },
    {
     "name": "stderr",
     "output_type": "stream",
     "text": [
      "\n"
     ]
    },
    {
     "name": "stderr",
     "output_type": "stream",
     "text": [
      "\r",
      "Extracting Dataset Version Zip to fire_forest_gen-8 in yolov8-obb::   0%|          | 0/985 [00:00<?, ?it/s]"
     ]
    },
    {
     "name": "stderr",
     "output_type": "stream",
     "text": [
      "\r",
      "Extracting Dataset Version Zip to fire_forest_gen-8 in yolov8-obb::  40%|████      | 395/985 [00:00<00:00, 3944.61it/s]"
     ]
    },
    {
     "name": "stderr",
     "output_type": "stream",
     "text": [
      "\r",
      "Extracting Dataset Version Zip to fire_forest_gen-8 in yolov8-obb:: 100%|██████████| 985/985 [00:00<00:00, 5658.40it/s]"
     ]
    },
    {
     "name": "stderr",
     "output_type": "stream",
     "text": [
      "\n"
     ]
    }
   ],
   "source": [
    "from roboflow import Roboflow\n",
    "rf = Roboflow(api_key=\"7IyVahMNGQIrl0do1Zz8\")\n",
    "project = rf.workspace(\"fireforestgen\").project(\"fire_forest_gen\")\n",
    "version = project.version(8)\n",
    "dataset = version.download(\"yolov8-obb\")\n",
    "                "
   ]
  },
  {
   "cell_type": "markdown",
   "id": "6fcc96eb",
   "metadata": {
    "papermill": {
     "duration": 0.017568,
     "end_time": "2025-02-20T07:07:52.866347",
     "exception": false,
     "start_time": "2025-02-20T07:07:52.848779",
     "status": "completed"
    },
    "tags": []
   },
   "source": [
    "> https://universe.roboflow.com/12345-su5ee/-c956b/dataset/1#"
   ]
  },
  {
   "cell_type": "markdown",
   "id": "b31ba155",
   "metadata": {
    "papermill": {
     "duration": 0.017602,
     "end_time": "2025-02-20T07:07:52.901901",
     "exception": false,
     "start_time": "2025-02-20T07:07:52.884299",
     "status": "completed"
    },
    "tags": []
   },
   "source": [
    "Preprocessing\n",
    "Auto-Orient: Applied\n",
    "Resize: Stretch to 640x640\n",
    "Augmentations\n",
    "No augmentations were applied."
   ]
  },
  {
   "cell_type": "code",
   "execution_count": 7,
   "id": "7c6f115d",
   "metadata": {
    "execution": {
     "iopub.execute_input": "2025-02-20T07:07:52.940144Z",
     "iopub.status.busy": "2025-02-20T07:07:52.939781Z",
     "iopub.status.idle": "2025-02-20T07:07:54.922772Z",
     "shell.execute_reply": "2025-02-20T07:07:54.921856Z"
    },
    "papermill": {
     "duration": 2.003423,
     "end_time": "2025-02-20T07:07:54.924012",
     "exception": false,
     "start_time": "2025-02-20T07:07:52.920589",
     "status": "completed"
    },
    "tags": []
   },
   "outputs": [
    {
     "name": "stdout",
     "output_type": "stream",
     "text": [
      "\r",
      "loading Roboflow workspace...\n"
     ]
    },
    {
     "name": "stdout",
     "output_type": "stream",
     "text": [
      "\r",
      "loading Roboflow project...\n"
     ]
    },
    {
     "name": "stderr",
     "output_type": "stream",
     "text": [
      "\r",
      "Downloading Dataset Version Zip in Хакатон-Пожары-1 to yolov8-obb::   0%|          | 0/7923 [00:00<?, ?it/s]"
     ]
    },
    {
     "name": "stderr",
     "output_type": "stream",
     "text": [
      "\r",
      "Downloading Dataset Version Zip in Хакатон-Пожары-1 to yolov8-obb::  78%|███████▊  | 6145/7923 [00:00<00:00, 35746.38it/s]"
     ]
    },
    {
     "name": "stderr",
     "output_type": "stream",
     "text": [
      "\r",
      "Downloading Dataset Version Zip in Хакатон-Пожары-1 to yolov8-obb:: 100%|██████████| 7923/7923 [00:00<00:00, 40195.40it/s]"
     ]
    },
    {
     "name": "stdout",
     "output_type": "stream",
     "text": [
      "\n"
     ]
    },
    {
     "name": "stderr",
     "output_type": "stream",
     "text": [
      "\n"
     ]
    },
    {
     "name": "stderr",
     "output_type": "stream",
     "text": [
      "\r",
      "Extracting Dataset Version Zip to Хакатон-Пожары-1 in yolov8-obb::   0%|          | 0/240 [00:00<?, ?it/s]"
     ]
    },
    {
     "name": "stderr",
     "output_type": "stream",
     "text": [
      "\r",
      "Extracting Dataset Version Zip to Хакатон-Пожары-1 in yolov8-obb:: 100%|██████████| 240/240 [00:00<00:00, 6212.40it/s]"
     ]
    },
    {
     "name": "stderr",
     "output_type": "stream",
     "text": [
      "\n"
     ]
    }
   ],
   "source": [
    "from roboflow import Roboflow\n",
    "rf = Roboflow(api_key=\"7IyVahMNGQIrl0do1Zz8\")\n",
    "project = rf.workspace(\"12345-su5ee\").project(\"-c956b\")\n",
    "version = project.version(1)\n",
    "dataset = version.download(\"yolov8-obb\")\n",
    "                "
   ]
  },
  {
   "cell_type": "markdown",
   "id": "f90e2bc0",
   "metadata": {
    "papermill": {
     "duration": 0.01708,
     "end_time": "2025-02-20T07:07:54.959360",
     "exception": false,
     "start_time": "2025-02-20T07:07:54.942280",
     "status": "completed"
    },
    "tags": []
   },
   "source": [
    "> https://universe.roboflow.com/davidturati/640x640-xdhu3/dataset/24#"
   ]
  },
  {
   "cell_type": "markdown",
   "id": "2e6d4595",
   "metadata": {
    "papermill": {
     "duration": 0.017058,
     "end_time": "2025-02-20T07:07:54.993868",
     "exception": false,
     "start_time": "2025-02-20T07:07:54.976810",
     "status": "completed"
    },
    "tags": []
   },
   "source": [
    "\n",
    "- Preprocessing\n",
    "Auto-Orient: Applied\n",
    "Resize: Stretch to 640x6* \n",
    "4- 0\n",
    "Augmentations\n",
    "Outputs per training example: 3\n",
    "Flip: Horizontal, Vertical\n",
    "90° Rotate: Clockwise, Counter-Clockwise, Upside Down\n",
    "Crop: 0% Minimum Zoom, 20% Maximum Zoom\n",
    "Grayscale: Apply to 15% of images\n",
    "Hue: Between -15° and +15°\n",
    "Saturation: Between -25% and +25%\n",
    "Brightness: Between -15% and +15%\n",
    "Exposure: Between -10% and +10%\n",
    "Noise: Up to 0.1% of pixels\n",
    "Cutout: 3 boxes with0% size each\n",
    "*"
   ]
  },
  {
   "cell_type": "code",
   "execution_count": 8,
   "id": "9eb44cf4",
   "metadata": {
    "execution": {
     "iopub.execute_input": "2025-02-20T07:07:55.029539Z",
     "iopub.status.busy": "2025-02-20T07:07:55.029229Z",
     "iopub.status.idle": "2025-02-20T07:07:59.785906Z",
     "shell.execute_reply": "2025-02-20T07:07:59.784939Z"
    },
    "papermill": {
     "duration": 4.776469,
     "end_time": "2025-02-20T07:07:59.787180",
     "exception": false,
     "start_time": "2025-02-20T07:07:55.010711",
     "status": "completed"
    },
    "tags": []
   },
   "outputs": [
    {
     "name": "stdout",
     "output_type": "stream",
     "text": [
      "\r",
      "loading Roboflow workspace...\n"
     ]
    },
    {
     "name": "stdout",
     "output_type": "stream",
     "text": [
      "\r",
      "loading Roboflow project...\n"
     ]
    },
    {
     "name": "stderr",
     "output_type": "stream",
     "text": [
      "\r",
      "Downloading Dataset Version Zip in 640x640-24 to yolov8-obb::   0%|          | 0/167436 [00:00<?, ?it/s]"
     ]
    },
    {
     "name": "stderr",
     "output_type": "stream",
     "text": [
      "\r",
      "Downloading Dataset Version Zip in 640x640-24 to yolov8-obb::   4%|▎         | 6145/167436 [00:00<00:03, 50154.02it/s]"
     ]
    },
    {
     "name": "stderr",
     "output_type": "stream",
     "text": [
      "\r",
      "Downloading Dataset Version Zip in 640x640-24 to yolov8-obb::   8%|▊         | 13729/167436 [00:00<00:02, 63977.19it/s]"
     ]
    },
    {
     "name": "stderr",
     "output_type": "stream",
     "text": [
      "\r",
      "Downloading Dataset Version Zip in 640x640-24 to yolov8-obb::  13%|█▎        | 21361/167436 [00:00<00:02, 69338.60it/s]"
     ]
    },
    {
     "name": "stderr",
     "output_type": "stream",
     "text": [
      "\r",
      "Downloading Dataset Version Zip in 640x640-24 to yolov8-obb::  17%|█▋        | 29261/167436 [00:00<00:01, 73036.88it/s]"
     ]
    },
    {
     "name": "stderr",
     "output_type": "stream",
     "text": [
      "\r",
      "Downloading Dataset Version Zip in 640x640-24 to yolov8-obb::  22%|██▏       | 37345/167436 [00:00<00:01, 75792.24it/s]"
     ]
    },
    {
     "name": "stderr",
     "output_type": "stream",
     "text": [
      "\r",
      "Downloading Dataset Version Zip in 640x640-24 to yolov8-obb::  27%|██▋       | 45403/167436 [00:00<00:01, 77396.75it/s]"
     ]
    },
    {
     "name": "stderr",
     "output_type": "stream",
     "text": [
      "\r",
      "Downloading Dataset Version Zip in 640x640-24 to yolov8-obb::  32%|███▏      | 53249/167436 [00:00<00:01, 77731.39it/s]"
     ]
    },
    {
     "name": "stderr",
     "output_type": "stream",
     "text": [
      "\r",
      "Downloading Dataset Version Zip in 640x640-24 to yolov8-obb::  36%|███▋      | 61047/167436 [00:00<00:01, 77389.35it/s]"
     ]
    },
    {
     "name": "stderr",
     "output_type": "stream",
     "text": [
      "\r",
      "Downloading Dataset Version Zip in 640x640-24 to yolov8-obb::  41%|████      | 68898/167436 [00:00<00:01, 77734.54it/s]"
     ]
    },
    {
     "name": "stderr",
     "output_type": "stream",
     "text": [
      "\r",
      "Downloading Dataset Version Zip in 640x640-24 to yolov8-obb::  46%|████▌     | 76987/167436 [00:01<00:01, 78701.84it/s]"
     ]
    },
    {
     "name": "stderr",
     "output_type": "stream",
     "text": [
      "\r",
      "Downloading Dataset Version Zip in 640x640-24 to yolov8-obb::  51%|█████     | 85056/167436 [00:01<00:01, 79306.24it/s]"
     ]
    },
    {
     "name": "stderr",
     "output_type": "stream",
     "text": [
      "\r",
      "Downloading Dataset Version Zip in 640x640-24 to yolov8-obb::  56%|█████▌    | 93123/167436 [00:01<00:00, 79717.20it/s]"
     ]
    },
    {
     "name": "stderr",
     "output_type": "stream",
     "text": [
      "\r",
      "Downloading Dataset Version Zip in 640x640-24 to yolov8-obb::  60%|██████    | 101100/167436 [00:01<00:00, 79633.64it/s]"
     ]
    },
    {
     "name": "stderr",
     "output_type": "stream",
     "text": [
      "\r",
      "Downloading Dataset Version Zip in 640x640-24 to yolov8-obb::  65%|██████▌   | 109137/167436 [00:01<00:00, 79851.00it/s]"
     ]
    },
    {
     "name": "stderr",
     "output_type": "stream",
     "text": [
      "\r",
      "Downloading Dataset Version Zip in 640x640-24 to yolov8-obb::  70%|██████▉   | 117125/167436 [00:01<00:00, 79767.66it/s]"
     ]
    },
    {
     "name": "stderr",
     "output_type": "stream",
     "text": [
      "\r",
      "Downloading Dataset Version Zip in 640x640-24 to yolov8-obb::  75%|███████▍  | 125104/167436 [00:01<00:00, 78143.09it/s]"
     ]
    },
    {
     "name": "stderr",
     "output_type": "stream",
     "text": [
      "\r",
      "Downloading Dataset Version Zip in 640x640-24 to yolov8-obb::  79%|███████▉  | 132927/167436 [00:01<00:00, 77516.10it/s]"
     ]
    },
    {
     "name": "stderr",
     "output_type": "stream",
     "text": [
      "\r",
      "Downloading Dataset Version Zip in 640x640-24 to yolov8-obb::  84%|████████▍ | 140685/167436 [00:01<00:00, 77464.89it/s]"
     ]
    },
    {
     "name": "stderr",
     "output_type": "stream",
     "text": [
      "\r",
      "Downloading Dataset Version Zip in 640x640-24 to yolov8-obb::  89%|████████▊ | 148436/167436 [00:01<00:00, 77132.54it/s]"
     ]
    },
    {
     "name": "stderr",
     "output_type": "stream",
     "text": [
      "\r",
      "Downloading Dataset Version Zip in 640x640-24 to yolov8-obb::  93%|█████████▎| 156236/167436 [00:02<00:00, 77387.07it/s]"
     ]
    },
    {
     "name": "stderr",
     "output_type": "stream",
     "text": [
      "\r",
      "Downloading Dataset Version Zip in 640x640-24 to yolov8-obb::  98%|█████████▊| 164216/167436 [00:02<00:00, 78102.49it/s]"
     ]
    },
    {
     "name": "stderr",
     "output_type": "stream",
     "text": [
      "\r",
      "Downloading Dataset Version Zip in 640x640-24 to yolov8-obb:: 100%|██████████| 167436/167436 [00:02<00:00, 76836.04it/s]"
     ]
    },
    {
     "name": "stdout",
     "output_type": "stream",
     "text": [
      "\n"
     ]
    },
    {
     "name": "stderr",
     "output_type": "stream",
     "text": [
      "\n"
     ]
    },
    {
     "name": "stderr",
     "output_type": "stream",
     "text": [
      "\r",
      "Extracting Dataset Version Zip to 640x640-24 in yolov8-obb::   0%|          | 0/7138 [00:00<?, ?it/s]"
     ]
    },
    {
     "name": "stderr",
     "output_type": "stream",
     "text": [
      "\r",
      "Extracting Dataset Version Zip to 640x640-24 in yolov8-obb::   9%|▉         | 625/7138 [00:00<00:01, 6244.48it/s]"
     ]
    },
    {
     "name": "stderr",
     "output_type": "stream",
     "text": [
      "\r",
      "Extracting Dataset Version Zip to 640x640-24 in yolov8-obb::  18%|█▊        | 1250/7138 [00:00<00:01, 5567.99it/s]"
     ]
    },
    {
     "name": "stderr",
     "output_type": "stream",
     "text": [
      "\r",
      "Extracting Dataset Version Zip to 640x640-24 in yolov8-obb::  25%|██▌       | 1812/7138 [00:00<00:00, 5492.16it/s]"
     ]
    },
    {
     "name": "stderr",
     "output_type": "stream",
     "text": [
      "\r",
      "Extracting Dataset Version Zip to 640x640-24 in yolov8-obb::  33%|███▎      | 2364/7138 [00:00<00:00, 5492.66it/s]"
     ]
    },
    {
     "name": "stderr",
     "output_type": "stream",
     "text": [
      "\r",
      "Extracting Dataset Version Zip to 640x640-24 in yolov8-obb::  41%|████      | 2922/7138 [00:00<00:00, 5520.52it/s]"
     ]
    },
    {
     "name": "stderr",
     "output_type": "stream",
     "text": [
      "\r",
      "Extracting Dataset Version Zip to 640x640-24 in yolov8-obb::  50%|████▉     | 3542/7138 [00:00<00:00, 5745.91it/s]"
     ]
    },
    {
     "name": "stderr",
     "output_type": "stream",
     "text": [
      "\r",
      "Extracting Dataset Version Zip to 640x640-24 in yolov8-obb::  65%|██████▍   | 4634/7138 [00:00<00:00, 7410.50it/s]"
     ]
    },
    {
     "name": "stderr",
     "output_type": "stream",
     "text": [
      "\r",
      "Extracting Dataset Version Zip to 640x640-24 in yolov8-obb::  81%|████████  | 5750/7138 [00:00<00:00, 8589.50it/s]"
     ]
    },
    {
     "name": "stderr",
     "output_type": "stream",
     "text": [
      "\r",
      "Extracting Dataset Version Zip to 640x640-24 in yolov8-obb::  94%|█████████▍| 6710/7138 [00:00<00:00, 8901.01it/s]"
     ]
    },
    {
     "name": "stderr",
     "output_type": "stream",
     "text": [
      "\r",
      "Extracting Dataset Version Zip to 640x640-24 in yolov8-obb:: 100%|██████████| 7138/7138 [00:00<00:00, 7307.30it/s]"
     ]
    },
    {
     "name": "stderr",
     "output_type": "stream",
     "text": [
      "\n"
     ]
    }
   ],
   "source": [
    "from roboflow import Roboflow\n",
    "rf = Roboflow(api_key=\"7IyVahMNGQIrl0do1Zz8\")\n",
    "project = rf.workspace(\"davidturati\").project(\"640x640-xdhu3\")\n",
    "version = project.version(24)\n",
    "dataset = version.download(\"yolov8-obb\")\n",
    "                "
   ]
  },
  {
   "cell_type": "markdown",
   "id": "d02633ed",
   "metadata": {
    "papermill": {
     "duration": 0.019203,
     "end_time": "2025-02-20T07:07:59.826476",
     "exception": false,
     "start_time": "2025-02-20T07:07:59.807273",
     "status": "completed"
    },
    "tags": []
   },
   "source": [
    "> https://universe.roboflow.com/pfc-dshky/fire-detection2-wayva/dataset/1"
   ]
  },
  {
   "cell_type": "markdown",
   "id": "0a95f824",
   "metadata": {
    "papermill": {
     "duration": 0.019725,
     "end_time": "2025-02-20T07:07:59.866255",
     "exception": false,
     "start_time": "2025-02-20T07:07:59.846530",
     "status": "completed"
    },
    "tags": []
   },
   "source": [
    "- Preprocessing\n",
    "Auto-Orient: Applied\n",
    "Resize: Stretch to 640x6\n",
    "4- 0\n",
    "Augmentations\n",
    "Outputs per training example: 3\n",
    "Flip: Horizontal, Vertical\n",
    "90° Rotate: Clockwise, Counter-Clockwise, Upside Down"
   ]
  },
  {
   "cell_type": "code",
   "execution_count": 9,
   "id": "f431a801",
   "metadata": {
    "execution": {
     "iopub.execute_input": "2025-02-20T07:07:59.908698Z",
     "iopub.status.busy": "2025-02-20T07:07:59.908395Z",
     "iopub.status.idle": "2025-02-20T07:08:03.754924Z",
     "shell.execute_reply": "2025-02-20T07:08:03.753913Z"
    },
    "papermill": {
     "duration": 3.869981,
     "end_time": "2025-02-20T07:08:03.756536",
     "exception": false,
     "start_time": "2025-02-20T07:07:59.886555",
     "status": "completed"
    },
    "tags": []
   },
   "outputs": [
    {
     "name": "stdout",
     "output_type": "stream",
     "text": [
      "\r",
      "loading Roboflow workspace...\n"
     ]
    },
    {
     "name": "stdout",
     "output_type": "stream",
     "text": [
      "\r",
      "loading Roboflow project...\n"
     ]
    },
    {
     "name": "stderr",
     "output_type": "stream",
     "text": [
      "\r",
      "Downloading Dataset Version Zip in fire-detection2-1 to yolov8-obb::   0%|          | 0/79566 [00:00<?, ?it/s]"
     ]
    },
    {
     "name": "stderr",
     "output_type": "stream",
     "text": [
      "\r",
      "Downloading Dataset Version Zip in fire-detection2-1 to yolov8-obb::   5%|▌         | 4097/79566 [00:00<00:02, 34395.64it/s]"
     ]
    },
    {
     "name": "stderr",
     "output_type": "stream",
     "text": [
      "\r",
      "Downloading Dataset Version Zip in fire-detection2-1 to yolov8-obb::  14%|█▍        | 11021/79566 [00:00<00:01, 53393.26it/s]"
     ]
    },
    {
     "name": "stderr",
     "output_type": "stream",
     "text": [
      "\r",
      "Downloading Dataset Version Zip in fire-detection2-1 to yolov8-obb::  22%|██▏       | 17502/79566 [00:00<00:01, 58391.02it/s]"
     ]
    },
    {
     "name": "stderr",
     "output_type": "stream",
     "text": [
      "\r",
      "Downloading Dataset Version Zip in fire-detection2-1 to yolov8-obb::  31%|███▏      | 24993/79566 [00:00<00:00, 64742.25it/s]"
     ]
    },
    {
     "name": "stderr",
     "output_type": "stream",
     "text": [
      "\r",
      "Downloading Dataset Version Zip in fire-detection2-1 to yolov8-obb::  40%|███▉      | 31546/79566 [00:00<00:00, 63378.78it/s]"
     ]
    },
    {
     "name": "stderr",
     "output_type": "stream",
     "text": [
      "\r",
      "Downloading Dataset Version Zip in fire-detection2-1 to yolov8-obb::  48%|████▊     | 37938/79566 [00:00<00:00, 59502.37it/s]"
     ]
    },
    {
     "name": "stderr",
     "output_type": "stream",
     "text": [
      "\r",
      "Downloading Dataset Version Zip in fire-detection2-1 to yolov8-obb::  55%|█████▌    | 43959/79566 [00:00<00:00, 55967.89it/s]"
     ]
    },
    {
     "name": "stderr",
     "output_type": "stream",
     "text": [
      "\r",
      "Downloading Dataset Version Zip in fire-detection2-1 to yolov8-obb::  64%|██████▍   | 51201/79566 [00:00<00:00, 56804.90it/s]"
     ]
    },
    {
     "name": "stderr",
     "output_type": "stream",
     "text": [
      "\r",
      "Downloading Dataset Version Zip in fire-detection2-1 to yolov8-obb::  74%|███████▍  | 58960/79566 [00:00<00:00, 62621.02it/s]"
     ]
    },
    {
     "name": "stderr",
     "output_type": "stream",
     "text": [
      "\r",
      "Downloading Dataset Version Zip in fire-detection2-1 to yolov8-obb::  82%|████████▏ | 65320/79566 [00:01<00:00, 50676.11it/s]"
     ]
    },
    {
     "name": "stderr",
     "output_type": "stream",
     "text": [
      "\r",
      "Downloading Dataset Version Zip in fire-detection2-1 to yolov8-obb::  92%|█████████▏| 72809/79566 [00:01<00:00, 56665.54it/s]"
     ]
    },
    {
     "name": "stderr",
     "output_type": "stream",
     "text": [
      "\r",
      "Downloading Dataset Version Zip in fire-detection2-1 to yolov8-obb:: 100%|██████████| 79566/79566 [00:01<00:00, 58269.83it/s]"
     ]
    },
    {
     "name": "stdout",
     "output_type": "stream",
     "text": [
      "\n"
     ]
    },
    {
     "name": "stderr",
     "output_type": "stream",
     "text": [
      "\n"
     ]
    },
    {
     "name": "stderr",
     "output_type": "stream",
     "text": [
      "\r",
      "Extracting Dataset Version Zip to fire-detection2-1 in yolov8-obb::   0%|          | 0/5788 [00:00<?, ?it/s]"
     ]
    },
    {
     "name": "stderr",
     "output_type": "stream",
     "text": [
      "\r",
      "Extracting Dataset Version Zip to fire-detection2-1 in yolov8-obb::  15%|█▍        | 848/5788 [00:00<00:00, 8472.76it/s]"
     ]
    },
    {
     "name": "stderr",
     "output_type": "stream",
     "text": [
      "\r",
      "Extracting Dataset Version Zip to fire-detection2-1 in yolov8-obb::  29%|██▉       | 1696/5788 [00:00<00:00, 7674.83it/s]"
     ]
    },
    {
     "name": "stderr",
     "output_type": "stream",
     "text": [
      "\r",
      "Extracting Dataset Version Zip to fire-detection2-1 in yolov8-obb::  43%|████▎     | 2469/5788 [00:00<00:00, 7532.93it/s]"
     ]
    },
    {
     "name": "stderr",
     "output_type": "stream",
     "text": [
      "\r",
      "Extracting Dataset Version Zip to fire-detection2-1 in yolov8-obb::  61%|██████    | 3514/5788 [00:00<00:00, 8628.98it/s]"
     ]
    },
    {
     "name": "stderr",
     "output_type": "stream",
     "text": [
      "\r",
      "Extracting Dataset Version Zip to fire-detection2-1 in yolov8-obb::  81%|████████  | 4660/5788 [00:00<00:00, 9614.52it/s]"
     ]
    },
    {
     "name": "stderr",
     "output_type": "stream",
     "text": [
      "\r",
      "Extracting Dataset Version Zip to fire-detection2-1 in yolov8-obb::  97%|█████████▋| 5629/5788 [00:00<00:00, 9337.86it/s]"
     ]
    },
    {
     "name": "stderr",
     "output_type": "stream",
     "text": [
      "\r",
      "Extracting Dataset Version Zip to fire-detection2-1 in yolov8-obb:: 100%|██████████| 5788/5788 [00:00<00:00, 8944.71it/s]"
     ]
    },
    {
     "name": "stderr",
     "output_type": "stream",
     "text": [
      "\n"
     ]
    }
   ],
   "source": [
    "from roboflow import Roboflow\n",
    "rf = Roboflow(api_key=\"7IyVahMNGQIrl0do1Zz8\")\n",
    "project = rf.workspace(\"pfc-dshky\").project(\"fire-detection2-wayva\")\n",
    "version = project.version(1)\n",
    "dataset = version.download(\"yolov8-obb\")\n",
    "                "
   ]
  },
  {
   "cell_type": "markdown",
   "id": "967391da",
   "metadata": {
    "papermill": {
     "duration": 0.02063,
     "end_time": "2025-02-20T07:08:03.798146",
     "exception": false,
     "start_time": "2025-02-20T07:08:03.777516",
     "status": "completed"
    },
    "tags": []
   },
   "source": [
    "> https://universe.roboflow.com/htw-berlin-xv7eo/dlr/dataset/1"
   ]
  },
  {
   "cell_type": "markdown",
   "id": "c16ddd3a",
   "metadata": {
    "papermill": {
     "duration": 0.020359,
     "end_time": "2025-02-20T07:08:03.839053",
     "exception": false,
     "start_time": "2025-02-20T07:08:03.818694",
     "status": "completed"
    },
    "tags": []
   },
   "source": [
    "* Preprocessing\n",
    "Auto-Orient: Applied\n",
    "Resize: Stretch to 1000x100* 0\n",
    "Augmentations\n",
    "Outputs per training example: 3\n",
    "90° Rotate: Clockwise, Counter-Clockwise, Upside Down\n",
    "Crop: 0% Minimum Zoom, 32% Maximum Zoom\n",
    "Hue: Between -25° and +25°\n",
    "Saturation: Between -52% and +52%\n",
    "Exposure: Between -25% and +25%\n",
    "Blur: Up to 1.75px\n",
    "Noise: Up to 5% of pixels * "
   ]
  },
  {
   "cell_type": "code",
   "execution_count": 10,
   "id": "68f4282f",
   "metadata": {
    "execution": {
     "iopub.execute_input": "2025-02-20T07:08:03.918959Z",
     "iopub.status.busy": "2025-02-20T07:08:03.918675Z",
     "iopub.status.idle": "2025-02-20T07:08:10.359956Z",
     "shell.execute_reply": "2025-02-20T07:08:10.359111Z"
    },
    "papermill": {
     "duration": 6.502399,
     "end_time": "2025-02-20T07:08:10.361907",
     "exception": false,
     "start_time": "2025-02-20T07:08:03.859508",
     "status": "completed"
    },
    "tags": []
   },
   "outputs": [
    {
     "name": "stdout",
     "output_type": "stream",
     "text": [
      "\r",
      "loading Roboflow workspace...\n"
     ]
    },
    {
     "name": "stdout",
     "output_type": "stream",
     "text": [
      "\r",
      "loading Roboflow project...\n"
     ]
    },
    {
     "name": "stderr",
     "output_type": "stream",
     "text": [
      "\r",
      "Downloading Dataset Version Zip in DLR-1 to yolov8-obb::   0%|          | 0/270176 [00:00<?, ?it/s]"
     ]
    },
    {
     "name": "stderr",
     "output_type": "stream",
     "text": [
      "\r",
      "Downloading Dataset Version Zip in DLR-1 to yolov8-obb::   3%|▎         | 7222/270176 [00:00<00:03, 72207.85it/s]"
     ]
    },
    {
     "name": "stderr",
     "output_type": "stream",
     "text": [
      "\r",
      "Downloading Dataset Version Zip in DLR-1 to yolov8-obb::   5%|▌         | 14723/270176 [00:00<00:03, 73850.61it/s]"
     ]
    },
    {
     "name": "stderr",
     "output_type": "stream",
     "text": [
      "\r",
      "Downloading Dataset Version Zip in DLR-1 to yolov8-obb::   8%|▊         | 22109/270176 [00:00<00:03, 70933.79it/s]"
     ]
    },
    {
     "name": "stderr",
     "output_type": "stream",
     "text": [
      "\r",
      "Downloading Dataset Version Zip in DLR-1 to yolov8-obb::  11%|█         | 29216/270176 [00:00<00:03, 67768.52it/s]"
     ]
    },
    {
     "name": "stderr",
     "output_type": "stream",
     "text": [
      "\r",
      "Downloading Dataset Version Zip in DLR-1 to yolov8-obb::  13%|█▎        | 36457/270176 [00:00<00:03, 69361.96it/s]"
     ]
    },
    {
     "name": "stderr",
     "output_type": "stream",
     "text": [
      "\r",
      "Downloading Dataset Version Zip in DLR-1 to yolov8-obb::  16%|█▌        | 43821/270176 [00:00<00:03, 70770.00it/s]"
     ]
    },
    {
     "name": "stderr",
     "output_type": "stream",
     "text": [
      "\r",
      "Downloading Dataset Version Zip in DLR-1 to yolov8-obb::  19%|█▉        | 51521/270176 [00:00<00:03, 72761.97it/s]"
     ]
    },
    {
     "name": "stderr",
     "output_type": "stream",
     "text": [
      "\r",
      "Downloading Dataset Version Zip in DLR-1 to yolov8-obb::  22%|██▏       | 59208/270176 [00:00<00:02, 74050.21it/s]"
     ]
    },
    {
     "name": "stderr",
     "output_type": "stream",
     "text": [
      "\r",
      "Downloading Dataset Version Zip in DLR-1 to yolov8-obb::  25%|██▍       | 66963/270176 [00:00<00:02, 75130.20it/s]"
     ]
    },
    {
     "name": "stderr",
     "output_type": "stream",
     "text": [
      "\r",
      "Downloading Dataset Version Zip in DLR-1 to yolov8-obb::  28%|██▊       | 74487/270176 [00:01<00:02, 74121.73it/s]"
     ]
    },
    {
     "name": "stderr",
     "output_type": "stream",
     "text": [
      "\r",
      "Downloading Dataset Version Zip in DLR-1 to yolov8-obb::  30%|███       | 81909/270176 [00:01<00:02, 73131.50it/s]"
     ]
    },
    {
     "name": "stderr",
     "output_type": "stream",
     "text": [
      "\r",
      "Downloading Dataset Version Zip in DLR-1 to yolov8-obb::  33%|███▎      | 89505/270176 [00:01<00:02, 73972.28it/s]"
     ]
    },
    {
     "name": "stderr",
     "output_type": "stream",
     "text": [
      "\r",
      "Downloading Dataset Version Zip in DLR-1 to yolov8-obb::  36%|███▌      | 96910/270176 [00:01<00:02, 73910.34it/s]"
     ]
    },
    {
     "name": "stderr",
     "output_type": "stream",
     "text": [
      "\r",
      "Downloading Dataset Version Zip in DLR-1 to yolov8-obb::  39%|███▊      | 104307/270176 [00:01<00:02, 73828.13it/s]"
     ]
    },
    {
     "name": "stderr",
     "output_type": "stream",
     "text": [
      "\r",
      "Downloading Dataset Version Zip in DLR-1 to yolov8-obb::  41%|████▏     | 112025/270176 [00:01<00:02, 74826.96it/s]"
     ]
    },
    {
     "name": "stderr",
     "output_type": "stream",
     "text": [
      "\r",
      "Downloading Dataset Version Zip in DLR-1 to yolov8-obb::  44%|████▍     | 119709/270176 [00:01<00:01, 75427.01it/s]"
     ]
    },
    {
     "name": "stderr",
     "output_type": "stream",
     "text": [
      "\r",
      "Downloading Dataset Version Zip in DLR-1 to yolov8-obb::  47%|████▋     | 127573/270176 [00:01<00:01, 76386.11it/s]"
     ]
    },
    {
     "name": "stderr",
     "output_type": "stream",
     "text": [
      "\r",
      "Downloading Dataset Version Zip in DLR-1 to yolov8-obb::  50%|█████     | 135681/270176 [00:01<00:01, 77791.39it/s]"
     ]
    },
    {
     "name": "stderr",
     "output_type": "stream",
     "text": [
      "\r",
      "Downloading Dataset Version Zip in DLR-1 to yolov8-obb::  53%|█████▎    | 143798/270176 [00:01<00:01, 78796.60it/s]"
     ]
    },
    {
     "name": "stderr",
     "output_type": "stream",
     "text": [
      "\r",
      "Downloading Dataset Version Zip in DLR-1 to yolov8-obb::  56%|█████▌    | 151702/270176 [00:02<00:01, 78865.08it/s]"
     ]
    },
    {
     "name": "stderr",
     "output_type": "stream",
     "text": [
      "\r",
      "Downloading Dataset Version Zip in DLR-1 to yolov8-obb::  59%|█████▉    | 159642/270176 [00:02<00:01, 79023.69it/s]"
     ]
    },
    {
     "name": "stderr",
     "output_type": "stream",
     "text": [
      "\r",
      "Downloading Dataset Version Zip in DLR-1 to yolov8-obb::  62%|██████▏   | 167639/270176 [00:02<00:01, 79305.00it/s]"
     ]
    },
    {
     "name": "stderr",
     "output_type": "stream",
     "text": [
      "\r",
      "Downloading Dataset Version Zip in DLR-1 to yolov8-obb::  65%|██████▍   | 175571/270176 [00:02<00:01, 78228.54it/s]"
     ]
    },
    {
     "name": "stderr",
     "output_type": "stream",
     "text": [
      "\r",
      "Downloading Dataset Version Zip in DLR-1 to yolov8-obb::  68%|██████▊   | 183493/270176 [00:02<00:01, 78521.75it/s]"
     ]
    },
    {
     "name": "stderr",
     "output_type": "stream",
     "text": [
      "\r",
      "Downloading Dataset Version Zip in DLR-1 to yolov8-obb::  71%|███████   | 191349/270176 [00:02<00:01, 78175.94it/s]"
     ]
    },
    {
     "name": "stderr",
     "output_type": "stream",
     "text": [
      "\r",
      "Downloading Dataset Version Zip in DLR-1 to yolov8-obb::  74%|███████▎  | 199169/270176 [00:02<00:00, 77947.85it/s]"
     ]
    },
    {
     "name": "stderr",
     "output_type": "stream",
     "text": [
      "\r",
      "Downloading Dataset Version Zip in DLR-1 to yolov8-obb::  77%|███████▋  | 207097/270176 [00:02<00:00, 78337.31it/s]"
     ]
    },
    {
     "name": "stderr",
     "output_type": "stream",
     "text": [
      "\r",
      "Downloading Dataset Version Zip in DLR-1 to yolov8-obb::  80%|███████▉  | 214934/270176 [00:02<00:00, 77569.68it/s]"
     ]
    },
    {
     "name": "stderr",
     "output_type": "stream",
     "text": [
      "\r",
      "Downloading Dataset Version Zip in DLR-1 to yolov8-obb::  82%|████████▏ | 222694/270176 [00:02<00:00, 77454.63it/s]"
     ]
    },
    {
     "name": "stderr",
     "output_type": "stream",
     "text": [
      "\r",
      "Downloading Dataset Version Zip in DLR-1 to yolov8-obb::  85%|████████▌ | 230441/270176 [00:03<00:00, 76498.84it/s]"
     ]
    },
    {
     "name": "stderr",
     "output_type": "stream",
     "text": [
      "\r",
      "Downloading Dataset Version Zip in DLR-1 to yolov8-obb::  88%|████████▊ | 238094/270176 [00:03<00:00, 76442.25it/s]"
     ]
    },
    {
     "name": "stderr",
     "output_type": "stream",
     "text": [
      "\r",
      "Downloading Dataset Version Zip in DLR-1 to yolov8-obb::  91%|█████████ | 246090/270176 [00:03<00:00, 77484.24it/s]"
     ]
    },
    {
     "name": "stderr",
     "output_type": "stream",
     "text": [
      "\r",
      "Downloading Dataset Version Zip in DLR-1 to yolov8-obb::  94%|█████████▍| 253841/270176 [00:03<00:00, 69624.11it/s]"
     ]
    },
    {
     "name": "stderr",
     "output_type": "stream",
     "text": [
      "\r",
      "Downloading Dataset Version Zip in DLR-1 to yolov8-obb::  97%|█████████▋| 261253/270176 [00:03<00:00, 70863.85it/s]"
     ]
    },
    {
     "name": "stderr",
     "output_type": "stream",
     "text": [
      "\r",
      "Downloading Dataset Version Zip in DLR-1 to yolov8-obb::  99%|█████████▉| 268538/270176 [00:03<00:00, 71425.40it/s]"
     ]
    },
    {
     "name": "stderr",
     "output_type": "stream",
     "text": [
      "\r",
      "Downloading Dataset Version Zip in DLR-1 to yolov8-obb:: 100%|██████████| 270176/270176 [00:03<00:00, 74861.08it/s]"
     ]
    },
    {
     "name": "stdout",
     "output_type": "stream",
     "text": [
      "\n"
     ]
    },
    {
     "name": "stderr",
     "output_type": "stream",
     "text": [
      "\n"
     ]
    },
    {
     "name": "stderr",
     "output_type": "stream",
     "text": [
      "\r",
      "Extracting Dataset Version Zip to DLR-1 in yolov8-obb::   0%|          | 0/2398 [00:00<?, ?it/s]"
     ]
    },
    {
     "name": "stderr",
     "output_type": "stream",
     "text": [
      "\r",
      "Extracting Dataset Version Zip to DLR-1 in yolov8-obb::  11%|█         | 253/2398 [00:00<00:00, 2527.17it/s]"
     ]
    },
    {
     "name": "stderr",
     "output_type": "stream",
     "text": [
      "\r",
      "Extracting Dataset Version Zip to DLR-1 in yolov8-obb::  21%|██        | 506/2398 [00:00<00:00, 1985.93it/s]"
     ]
    },
    {
     "name": "stderr",
     "output_type": "stream",
     "text": [
      "\r",
      "Extracting Dataset Version Zip to DLR-1 in yolov8-obb::  30%|██▉       | 712/2398 [00:00<00:00, 1807.61it/s]"
     ]
    },
    {
     "name": "stderr",
     "output_type": "stream",
     "text": [
      "\r",
      "Extracting Dataset Version Zip to DLR-1 in yolov8-obb::  37%|███▋      | 897/2398 [00:00<00:00, 1762.34it/s]"
     ]
    },
    {
     "name": "stderr",
     "output_type": "stream",
     "text": [
      "\r",
      "Extracting Dataset Version Zip to DLR-1 in yolov8-obb::  45%|████▍     | 1076/2398 [00:00<00:00, 1735.40it/s]"
     ]
    },
    {
     "name": "stderr",
     "output_type": "stream",
     "text": [
      "\r",
      "Extracting Dataset Version Zip to DLR-1 in yolov8-obb::  73%|███████▎  | 1743/2398 [00:00<00:00, 3254.80it/s]"
     ]
    },
    {
     "name": "stderr",
     "output_type": "stream",
     "text": [
      "\r",
      "Extracting Dataset Version Zip to DLR-1 in yolov8-obb:: 100%|██████████| 2398/2398 [00:00<00:00, 3141.70it/s]"
     ]
    },
    {
     "name": "stderr",
     "output_type": "stream",
     "text": [
      "\n"
     ]
    }
   ],
   "source": [
    "from roboflow import Roboflow\n",
    "rf = Roboflow(api_key=\"7IyVahMNGQIrl0do1Zz8\")\n",
    "project = rf.workspace(\"htw-berlin-xv7eo\").project(\"dlr\")\n",
    "version = project.version(1)\n",
    "dataset = version.download(\"yolov8-obb\")\n",
    "                "
   ]
  },
  {
   "cell_type": "markdown",
   "id": "0f9dfb71",
   "metadata": {
    "papermill": {
     "duration": 0.023934,
     "end_time": "2025-02-20T07:08:10.410698",
     "exception": false,
     "start_time": "2025-02-20T07:08:10.386764",
     "status": "completed"
    },
    "tags": []
   },
   "source": [
    "> https://universe.roboflow.com/di-gao/volcano-nztt3/dataset/19"
   ]
  },
  {
   "cell_type": "markdown",
   "id": "2a1351d1",
   "metadata": {
    "papermill": {
     "duration": 0.023471,
     "end_time": "2025-02-20T07:08:10.459590",
     "exception": false,
     "start_time": "2025-02-20T07:08:10.436119",
     "status": "completed"
    },
    "tags": []
   },
   "source": [
    "- Preprocessing\n",
    "Auto-Orient: Applied\n",
    "Resize: Stretch to 416x41- 6\n",
    "Augmentations\n",
    "Outputs per training example: 3\n",
    "Flip: Horizontal, Vertical\n",
    "90° Rotate: Clockwise, Counter-Clockwise, Upside Down\n",
    "Blur: Up to 1px\n",
    "Noise: Up to 5% of pixels"
   ]
  },
  {
   "cell_type": "code",
   "execution_count": 11,
   "id": "7b716df4",
   "metadata": {
    "execution": {
     "iopub.execute_input": "2025-02-20T07:08:10.508017Z",
     "iopub.status.busy": "2025-02-20T07:08:10.507683Z",
     "iopub.status.idle": "2025-02-20T07:08:12.527513Z",
     "shell.execute_reply": "2025-02-20T07:08:12.526451Z"
    },
    "papermill": {
     "duration": 2.045675,
     "end_time": "2025-02-20T07:08:12.528908",
     "exception": false,
     "start_time": "2025-02-20T07:08:10.483233",
     "status": "completed"
    },
    "tags": []
   },
   "outputs": [
    {
     "name": "stdout",
     "output_type": "stream",
     "text": [
      "\r",
      "loading Roboflow workspace...\n"
     ]
    },
    {
     "name": "stdout",
     "output_type": "stream",
     "text": [
      "\r",
      "loading Roboflow project...\n"
     ]
    },
    {
     "name": "stderr",
     "output_type": "stream",
     "text": [
      "\r",
      "Downloading Dataset Version Zip in volcano-19 to yolov8-obb::   0%|          | 0/17054 [00:00<?, ?it/s]"
     ]
    },
    {
     "name": "stderr",
     "output_type": "stream",
     "text": [
      "\r",
      "Downloading Dataset Version Zip in volcano-19 to yolov8-obb::  38%|███▊      | 6424/17054 [00:00<00:00, 64235.93it/s]"
     ]
    },
    {
     "name": "stderr",
     "output_type": "stream",
     "text": [
      "\r",
      "Downloading Dataset Version Zip in volcano-19 to yolov8-obb::  75%|███████▌  | 12848/17054 [00:00<00:00, 43148.38it/s]"
     ]
    },
    {
     "name": "stderr",
     "output_type": "stream",
     "text": [
      "\r",
      "Downloading Dataset Version Zip in volcano-19 to yolov8-obb:: 100%|██████████| 17054/17054 [00:00<00:00, 49941.39it/s]"
     ]
    },
    {
     "name": "stdout",
     "output_type": "stream",
     "text": [
      "\n"
     ]
    },
    {
     "name": "stderr",
     "output_type": "stream",
     "text": [
      "\n"
     ]
    },
    {
     "name": "stderr",
     "output_type": "stream",
     "text": [
      "\r",
      "Extracting Dataset Version Zip to volcano-19 in yolov8-obb::   0%|          | 0/612 [00:00<?, ?it/s]"
     ]
    },
    {
     "name": "stderr",
     "output_type": "stream",
     "text": [
      "\r",
      "Extracting Dataset Version Zip to volcano-19 in yolov8-obb:: 100%|██████████| 612/612 [00:00<00:00, 6771.04it/s]"
     ]
    },
    {
     "name": "stderr",
     "output_type": "stream",
     "text": [
      "\n"
     ]
    }
   ],
   "source": [
    "from roboflow import Roboflow\n",
    "rf = Roboflow(api_key=\"7IyVahMNGQIrl0do1Zz8\")\n",
    "project = rf.workspace(\"di-gao\").project(\"volcano-nztt3\")\n",
    "version = project.version(19)\n",
    "dataset = version.download(\"yolov8-obb\")\n",
    "                "
   ]
  },
  {
   "cell_type": "markdown",
   "id": "ebedd4de",
   "metadata": {
    "papermill": {
     "duration": 0.02357,
     "end_time": "2025-02-20T07:08:12.577202",
     "exception": false,
     "start_time": "2025-02-20T07:08:12.553632",
     "status": "completed"
    },
    "tags": []
   },
   "source": [
    "> https://universe.roboflow.com/umbc-s6g8c/wildfire-detection-satellite/dataset/3"
   ]
  },
  {
   "cell_type": "markdown",
   "id": "48b1be65",
   "metadata": {
    "papermill": {
     "duration": 0.024023,
     "end_time": "2025-02-20T07:08:12.624945",
     "exception": false,
     "start_time": "2025-02-20T07:08:12.600922",
     "status": "completed"
    },
    "tags": []
   },
   "source": [
    "- Preprocessing\n",
    "Auto-Orient: Applied\n",
    "Resize: Stretch to 640x640\n",
    "Tile: 2 rows x 2 colu -m- ns\n",
    "Augmentations\n",
    "Outputs per training example: 3\n",
    "Flip: Horizontal, Vertical\n",
    "Rotation: Between -15° and +15°\n",
    "Saturation: Between -25% and +25%"
   ]
  },
  {
   "cell_type": "code",
   "execution_count": 12,
   "id": "f0e4b404",
   "metadata": {
    "execution": {
     "iopub.execute_input": "2025-02-20T07:08:12.672725Z",
     "iopub.status.busy": "2025-02-20T07:08:12.672398Z",
     "iopub.status.idle": "2025-02-20T07:08:32.674363Z",
     "shell.execute_reply": "2025-02-20T07:08:32.673655Z"
    },
    "papermill": {
     "duration": 20.027931,
     "end_time": "2025-02-20T07:08:32.675870",
     "exception": false,
     "start_time": "2025-02-20T07:08:12.647939",
     "status": "completed"
    },
    "tags": []
   },
   "outputs": [
    {
     "name": "stdout",
     "output_type": "stream",
     "text": [
      "\r",
      "loading Roboflow workspace...\n"
     ]
    },
    {
     "name": "stdout",
     "output_type": "stream",
     "text": [
      "\r",
      "loading Roboflow project...\n"
     ]
    },
    {
     "name": "stderr",
     "output_type": "stream",
     "text": [
      "\r",
      "Downloading Dataset Version Zip in Wildfire-Detection-Satellite-3 to yolov8-obb::   0%|          | 0/773938 [00:00<?, ?it/s]"
     ]
    },
    {
     "name": "stderr",
     "output_type": "stream",
     "text": [
      "\r",
      "Downloading Dataset Version Zip in Wildfire-Detection-Satellite-3 to yolov8-obb::   1%|          | 4097/773938 [00:00<00:27, 28194.63it/s]"
     ]
    },
    {
     "name": "stderr",
     "output_type": "stream",
     "text": [
      "\r",
      "Downloading Dataset Version Zip in Wildfire-Detection-Satellite-3 to yolov8-obb::   1%|▏         | 11020/773938 [00:00<00:15, 48536.51it/s]"
     ]
    },
    {
     "name": "stderr",
     "output_type": "stream",
     "text": [
      "\r",
      "Downloading Dataset Version Zip in Wildfire-Detection-Satellite-3 to yolov8-obb::   2%|▏         | 16401/773938 [00:00<00:14, 50715.36it/s]"
     ]
    },
    {
     "name": "stderr",
     "output_type": "stream",
     "text": [
      "\r",
      "Downloading Dataset Version Zip in Wildfire-Detection-Satellite-3 to yolov8-obb::   3%|▎         | 21701/773938 [00:00<00:15, 47243.39it/s]"
     ]
    },
    {
     "name": "stderr",
     "output_type": "stream",
     "text": [
      "\r",
      "Downloading Dataset Version Zip in Wildfire-Detection-Satellite-3 to yolov8-obb::   4%|▎         | 27274/773938 [00:00<00:14, 50020.43it/s]"
     ]
    },
    {
     "name": "stderr",
     "output_type": "stream",
     "text": [
      "\r",
      "Downloading Dataset Version Zip in Wildfire-Detection-Satellite-3 to yolov8-obb::   4%|▍         | 34692/773938 [00:00<00:12, 57717.36it/s]"
     ]
    },
    {
     "name": "stderr",
     "output_type": "stream",
     "text": [
      "\r",
      "Downloading Dataset Version Zip in Wildfire-Detection-Satellite-3 to yolov8-obb::   5%|▌         | 42472/773938 [00:00<00:11, 63998.14it/s]"
     ]
    },
    {
     "name": "stderr",
     "output_type": "stream",
     "text": [
      "\r",
      "Downloading Dataset Version Zip in Wildfire-Detection-Satellite-3 to yolov8-obb::   6%|▋         | 50007/773938 [00:00<00:10, 67501.18it/s]"
     ]
    },
    {
     "name": "stderr",
     "output_type": "stream",
     "text": [
      "\r",
      "Downloading Dataset Version Zip in Wildfire-Detection-Satellite-3 to yolov8-obb::   7%|▋         | 57681/773938 [00:00<00:10, 70328.04it/s]"
     ]
    },
    {
     "name": "stderr",
     "output_type": "stream",
     "text": [
      "\r",
      "Downloading Dataset Version Zip in Wildfire-Detection-Satellite-3 to yolov8-obb::   8%|▊         | 65435/773938 [00:01<00:09, 72520.35it/s]"
     ]
    },
    {
     "name": "stderr",
     "output_type": "stream",
     "text": [
      "\r",
      "Downloading Dataset Version Zip in Wildfire-Detection-Satellite-3 to yolov8-obb::   9%|▉         | 73335/773938 [00:01<00:09, 74481.72it/s]"
     ]
    },
    {
     "name": "stderr",
     "output_type": "stream",
     "text": [
      "\r",
      "Downloading Dataset Version Zip in Wildfire-Detection-Satellite-3 to yolov8-obb::  10%|█         | 81082/773938 [00:01<00:09, 75383.47it/s]"
     ]
    },
    {
     "name": "stderr",
     "output_type": "stream",
     "text": [
      "\r",
      "Downloading Dataset Version Zip in Wildfire-Detection-Satellite-3 to yolov8-obb::  11%|█▏        | 88816/773938 [00:01<00:09, 75972.07it/s]"
     ]
    },
    {
     "name": "stderr",
     "output_type": "stream",
     "text": [
      "\r",
      "Downloading Dataset Version Zip in Wildfire-Detection-Satellite-3 to yolov8-obb::  12%|█▏        | 96489/773938 [00:01<00:08, 76197.77it/s]"
     ]
    },
    {
     "name": "stderr",
     "output_type": "stream",
     "text": [
      "\r",
      "Downloading Dataset Version Zip in Wildfire-Detection-Satellite-3 to yolov8-obb::  13%|█▎        | 104433/773938 [00:01<00:08, 77171.22it/s]"
     ]
    },
    {
     "name": "stderr",
     "output_type": "stream",
     "text": [
      "\r",
      "Downloading Dataset Version Zip in Wildfire-Detection-Satellite-3 to yolov8-obb::  15%|█▍        | 112284/773938 [00:01<00:08, 77571.13it/s]"
     ]
    },
    {
     "name": "stderr",
     "output_type": "stream",
     "text": [
      "\r",
      "Downloading Dataset Version Zip in Wildfire-Detection-Satellite-3 to yolov8-obb::  16%|█▌        | 120068/773938 [00:01<00:08, 77647.12it/s]"
     ]
    },
    {
     "name": "stderr",
     "output_type": "stream",
     "text": [
      "\r",
      "Downloading Dataset Version Zip in Wildfire-Detection-Satellite-3 to yolov8-obb::  17%|█▋        | 127838/773938 [00:01<00:08, 71905.23it/s]"
     ]
    },
    {
     "name": "stderr",
     "output_type": "stream",
     "text": [
      "\r",
      "Downloading Dataset Version Zip in Wildfire-Detection-Satellite-3 to yolov8-obb::  17%|█▋        | 135117/773938 [00:02<00:09, 66642.17it/s]"
     ]
    },
    {
     "name": "stderr",
     "output_type": "stream",
     "text": [
      "\r",
      "Downloading Dataset Version Zip in Wildfire-Detection-Satellite-3 to yolov8-obb::  18%|█▊        | 142700/773938 [00:02<00:09, 69145.96it/s]"
     ]
    },
    {
     "name": "stderr",
     "output_type": "stream",
     "text": [
      "\r",
      "Downloading Dataset Version Zip in Wildfire-Detection-Satellite-3 to yolov8-obb::  19%|█▉        | 150638/773938 [00:02<00:08, 72012.79it/s]"
     ]
    },
    {
     "name": "stderr",
     "output_type": "stream",
     "text": [
      "\r",
      "Downloading Dataset Version Zip in Wildfire-Detection-Satellite-3 to yolov8-obb::  20%|██        | 158477/773938 [00:02<00:08, 73833.68it/s]"
     ]
    },
    {
     "name": "stderr",
     "output_type": "stream",
     "text": [
      "\r",
      "Downloading Dataset Version Zip in Wildfire-Detection-Satellite-3 to yolov8-obb::  21%|██▏       | 166391/773938 [00:02<00:08, 75370.12it/s]"
     ]
    },
    {
     "name": "stderr",
     "output_type": "stream",
     "text": [
      "\r",
      "Downloading Dataset Version Zip in Wildfire-Detection-Satellite-3 to yolov8-obb::  23%|██▎       | 174287/773938 [00:02<00:07, 76419.17it/s]"
     ]
    },
    {
     "name": "stderr",
     "output_type": "stream",
     "text": [
      "\r",
      "Downloading Dataset Version Zip in Wildfire-Detection-Satellite-3 to yolov8-obb::  24%|██▎       | 181973/773938 [00:02<00:07, 76184.05it/s]"
     ]
    },
    {
     "name": "stderr",
     "output_type": "stream",
     "text": [
      "\r",
      "Downloading Dataset Version Zip in Wildfire-Detection-Satellite-3 to yolov8-obb::  25%|██▍       | 189698/773938 [00:02<00:07, 76496.10it/s]"
     ]
    },
    {
     "name": "stderr",
     "output_type": "stream",
     "text": [
      "\r",
      "Downloading Dataset Version Zip in Wildfire-Detection-Satellite-3 to yolov8-obb::  26%|██▌       | 197427/773938 [00:02<00:07, 76728.41it/s]"
     ]
    },
    {
     "name": "stderr",
     "output_type": "stream",
     "text": [
      "\r",
      "Downloading Dataset Version Zip in Wildfire-Detection-Satellite-3 to yolov8-obb::  27%|██▋       | 205116/773938 [00:02<00:07, 73857.38it/s]"
     ]
    },
    {
     "name": "stderr",
     "output_type": "stream",
     "text": [
      "\r",
      "Downloading Dataset Version Zip in Wildfire-Detection-Satellite-3 to yolov8-obb::  27%|██▋       | 212535/773938 [00:03<00:07, 72806.16it/s]"
     ]
    },
    {
     "name": "stderr",
     "output_type": "stream",
     "text": [
      "\r",
      "Downloading Dataset Version Zip in Wildfire-Detection-Satellite-3 to yolov8-obb::  28%|██▊       | 219878/773938 [00:03<00:07, 72982.69it/s]"
     ]
    },
    {
     "name": "stderr",
     "output_type": "stream",
     "text": [
      "\r",
      "Downloading Dataset Version Zip in Wildfire-Detection-Satellite-3 to yolov8-obb::  29%|██▉       | 227408/773938 [00:03<00:07, 73660.25it/s]"
     ]
    },
    {
     "name": "stderr",
     "output_type": "stream",
     "text": [
      "\r",
      "Downloading Dataset Version Zip in Wildfire-Detection-Satellite-3 to yolov8-obb::  30%|███       | 234943/773938 [00:03<00:07, 74149.19it/s]"
     ]
    },
    {
     "name": "stderr",
     "output_type": "stream",
     "text": [
      "\r",
      "Downloading Dataset Version Zip in Wildfire-Detection-Satellite-3 to yolov8-obb::  31%|███▏      | 242369/773938 [00:03<00:07, 72230.17it/s]"
     ]
    },
    {
     "name": "stderr",
     "output_type": "stream",
     "text": [
      "\r",
      "Downloading Dataset Version Zip in Wildfire-Detection-Satellite-3 to yolov8-obb::  32%|███▏      | 249901/773938 [00:03<00:07, 73074.87it/s]"
     ]
    },
    {
     "name": "stderr",
     "output_type": "stream",
     "text": [
      "\r",
      "Downloading Dataset Version Zip in Wildfire-Detection-Satellite-3 to yolov8-obb::  33%|███▎      | 257659/773938 [00:03<00:06, 74397.95it/s]"
     ]
    },
    {
     "name": "stderr",
     "output_type": "stream",
     "text": [
      "\r",
      "Downloading Dataset Version Zip in Wildfire-Detection-Satellite-3 to yolov8-obb::  34%|███▍      | 265367/773938 [00:03<00:06, 75188.10it/s]"
     ]
    },
    {
     "name": "stderr",
     "output_type": "stream",
     "text": [
      "\r",
      "Downloading Dataset Version Zip in Wildfire-Detection-Satellite-3 to yolov8-obb::  35%|███▌      | 273042/773938 [00:03<00:06, 75651.09it/s]"
     ]
    },
    {
     "name": "stderr",
     "output_type": "stream",
     "text": [
      "\r",
      "Downloading Dataset Version Zip in Wildfire-Detection-Satellite-3 to yolov8-obb::  36%|███▋      | 280615/773938 [00:03<00:06, 75306.03it/s]"
     ]
    },
    {
     "name": "stderr",
     "output_type": "stream",
     "text": [
      "\r",
      "Downloading Dataset Version Zip in Wildfire-Detection-Satellite-3 to yolov8-obb::  37%|███▋      | 288151/773938 [00:04<00:06, 75080.99it/s]"
     ]
    },
    {
     "name": "stderr",
     "output_type": "stream",
     "text": [
      "\r",
      "Downloading Dataset Version Zip in Wildfire-Detection-Satellite-3 to yolov8-obb::  38%|███▊      | 295663/773938 [00:04<00:07, 63335.44it/s]"
     ]
    },
    {
     "name": "stderr",
     "output_type": "stream",
     "text": [
      "\r",
      "Downloading Dataset Version Zip in Wildfire-Detection-Satellite-3 to yolov8-obb::  39%|███▉      | 303245/773938 [00:04<00:07, 66627.18it/s]"
     ]
    },
    {
     "name": "stderr",
     "output_type": "stream",
     "text": [
      "\r",
      "Downloading Dataset Version Zip in Wildfire-Detection-Satellite-3 to yolov8-obb::  40%|████      | 310813/773938 [00:04<00:06, 69105.09it/s]"
     ]
    },
    {
     "name": "stderr",
     "output_type": "stream",
     "text": [
      "\r",
      "Downloading Dataset Version Zip in Wildfire-Detection-Satellite-3 to yolov8-obb::  41%|████      | 318237/773938 [00:04<00:06, 70547.46it/s]"
     ]
    },
    {
     "name": "stderr",
     "output_type": "stream",
     "text": [
      "\r",
      "Downloading Dataset Version Zip in Wildfire-Detection-Satellite-3 to yolov8-obb::  42%|████▏     | 325730/773938 [00:04<00:06, 71799.08it/s]"
     ]
    },
    {
     "name": "stderr",
     "output_type": "stream",
     "text": [
      "\r",
      "Downloading Dataset Version Zip in Wildfire-Detection-Satellite-3 to yolov8-obb::  43%|████▎     | 333346/773938 [00:04<00:06, 73063.76it/s]"
     ]
    },
    {
     "name": "stderr",
     "output_type": "stream",
     "text": [
      "\r",
      "Downloading Dataset Version Zip in Wildfire-Detection-Satellite-3 to yolov8-obb::  44%|████▍     | 340737/773938 [00:04<00:06, 69867.18it/s]"
     ]
    },
    {
     "name": "stderr",
     "output_type": "stream",
     "text": [
      "\r",
      "Downloading Dataset Version Zip in Wildfire-Detection-Satellite-3 to yolov8-obb::  45%|████▌     | 348767/773938 [00:04<00:05, 72842.17it/s]"
     ]
    },
    {
     "name": "stderr",
     "output_type": "stream",
     "text": [
      "\r",
      "Downloading Dataset Version Zip in Wildfire-Detection-Satellite-3 to yolov8-obb::  46%|████▌     | 356501/773938 [00:05<00:05, 74142.94it/s]"
     ]
    },
    {
     "name": "stderr",
     "output_type": "stream",
     "text": [
      "\r",
      "Downloading Dataset Version Zip in Wildfire-Detection-Satellite-3 to yolov8-obb::  47%|████▋     | 364226/773938 [00:05<00:05, 75049.16it/s]"
     ]
    },
    {
     "name": "stderr",
     "output_type": "stream",
     "text": [
      "\r",
      "Downloading Dataset Version Zip in Wildfire-Detection-Satellite-3 to yolov8-obb::  48%|████▊     | 371774/773938 [00:05<00:05, 72677.08it/s]"
     ]
    },
    {
     "name": "stderr",
     "output_type": "stream",
     "text": [
      "\r",
      "Downloading Dataset Version Zip in Wildfire-Detection-Satellite-3 to yolov8-obb::  49%|████▉     | 379558/773938 [00:05<00:05, 72086.41it/s]"
     ]
    },
    {
     "name": "stderr",
     "output_type": "stream",
     "text": [
      "\r",
      "Downloading Dataset Version Zip in Wildfire-Detection-Satellite-3 to yolov8-obb::  50%|████▉     | 386799/773938 [00:05<00:05, 71231.02it/s]"
     ]
    },
    {
     "name": "stderr",
     "output_type": "stream",
     "text": [
      "\r",
      "Downloading Dataset Version Zip in Wildfire-Detection-Satellite-3 to yolov8-obb::  51%|█████     | 394801/773938 [00:05<00:05, 73758.58it/s]"
     ]
    },
    {
     "name": "stderr",
     "output_type": "stream",
     "text": [
      "\r",
      "Downloading Dataset Version Zip in Wildfire-Detection-Satellite-3 to yolov8-obb::  52%|█████▏    | 402553/773938 [00:05<00:04, 74848.89it/s]"
     ]
    },
    {
     "name": "stderr",
     "output_type": "stream",
     "text": [
      "\r",
      "Downloading Dataset Version Zip in Wildfire-Detection-Satellite-3 to yolov8-obb::  53%|█████▎    | 410317/773938 [00:05<00:04, 75667.94it/s]"
     ]
    },
    {
     "name": "stderr",
     "output_type": "stream",
     "text": [
      "\r",
      "Downloading Dataset Version Zip in Wildfire-Detection-Satellite-3 to yolov8-obb::  54%|█████▍    | 418274/773938 [00:05<00:04, 76819.42it/s]"
     ]
    },
    {
     "name": "stderr",
     "output_type": "stream",
     "text": [
      "\r",
      "Downloading Dataset Version Zip in Wildfire-Detection-Satellite-3 to yolov8-obb::  55%|█████▌    | 426175/773938 [00:05<00:04, 77468.89it/s]"
     ]
    },
    {
     "name": "stderr",
     "output_type": "stream",
     "text": [
      "\r",
      "Downloading Dataset Version Zip in Wildfire-Detection-Satellite-3 to yolov8-obb::  56%|█████▌    | 434219/773938 [00:06<00:04, 78352.43it/s]"
     ]
    },
    {
     "name": "stderr",
     "output_type": "stream",
     "text": [
      "\r",
      "Downloading Dataset Version Zip in Wildfire-Detection-Satellite-3 to yolov8-obb::  57%|█████▋    | 442062/773938 [00:06<00:04, 69797.60it/s]"
     ]
    },
    {
     "name": "stderr",
     "output_type": "stream",
     "text": [
      "\r",
      "Downloading Dataset Version Zip in Wildfire-Detection-Satellite-3 to yolov8-obb::  58%|█████▊    | 449963/773938 [00:06<00:04, 72331.01it/s]"
     ]
    },
    {
     "name": "stderr",
     "output_type": "stream",
     "text": [
      "\r",
      "Downloading Dataset Version Zip in Wildfire-Detection-Satellite-3 to yolov8-obb::  59%|█████▉    | 457924/773938 [00:06<00:04, 74381.51it/s]"
     ]
    },
    {
     "name": "stderr",
     "output_type": "stream",
     "text": [
      "\r",
      "Downloading Dataset Version Zip in Wildfire-Detection-Satellite-3 to yolov8-obb::  60%|██████    | 465716/773938 [00:06<00:04, 75396.13it/s]"
     ]
    },
    {
     "name": "stderr",
     "output_type": "stream",
     "text": [
      "\r",
      "Downloading Dataset Version Zip in Wildfire-Detection-Satellite-3 to yolov8-obb::  61%|██████    | 473613/773938 [00:06<00:03, 76434.56it/s]"
     ]
    },
    {
     "name": "stderr",
     "output_type": "stream",
     "text": [
      "\r",
      "Downloading Dataset Version Zip in Wildfire-Detection-Satellite-3 to yolov8-obb::  62%|██████▏   | 481320/773938 [00:06<00:04, 65152.28it/s]"
     ]
    },
    {
     "name": "stderr",
     "output_type": "stream",
     "text": [
      "\r",
      "Downloading Dataset Version Zip in Wildfire-Detection-Satellite-3 to yolov8-obb::  63%|██████▎   | 489408/773938 [00:06<00:04, 69285.09it/s]"
     ]
    },
    {
     "name": "stderr",
     "output_type": "stream",
     "text": [
      "\r",
      "Downloading Dataset Version Zip in Wildfire-Detection-Satellite-3 to yolov8-obb::  64%|██████▍   | 497265/773938 [00:06<00:03, 71818.10it/s]"
     ]
    },
    {
     "name": "stderr",
     "output_type": "stream",
     "text": [
      "\r",
      "Downloading Dataset Version Zip in Wildfire-Detection-Satellite-3 to yolov8-obb::  65%|██████▌   | 504851/773938 [00:07<00:03, 72949.52it/s]"
     ]
    },
    {
     "name": "stderr",
     "output_type": "stream",
     "text": [
      "\r",
      "Downloading Dataset Version Zip in Wildfire-Detection-Satellite-3 to yolov8-obb::  66%|██████▌   | 512381/773938 [00:07<00:03, 73620.95it/s]"
     ]
    },
    {
     "name": "stderr",
     "output_type": "stream",
     "text": [
      "\r",
      "Downloading Dataset Version Zip in Wildfire-Detection-Satellite-3 to yolov8-obb::  67%|██████▋   | 520045/773938 [00:07<00:03, 74494.60it/s]"
     ]
    },
    {
     "name": "stderr",
     "output_type": "stream",
     "text": [
      "\r",
      "Downloading Dataset Version Zip in Wildfire-Detection-Satellite-3 to yolov8-obb::  68%|██████▊   | 527587/773938 [00:07<00:03, 74764.54it/s]"
     ]
    },
    {
     "name": "stderr",
     "output_type": "stream",
     "text": [
      "\r",
      "Downloading Dataset Version Zip in Wildfire-Detection-Satellite-3 to yolov8-obb::  69%|██████▉   | 535125/773938 [00:07<00:03, 74909.81it/s]"
     ]
    },
    {
     "name": "stderr",
     "output_type": "stream",
     "text": [
      "\r",
      "Downloading Dataset Version Zip in Wildfire-Detection-Satellite-3 to yolov8-obb::  70%|███████   | 542780/773938 [00:07<00:03, 75393.98it/s]"
     ]
    },
    {
     "name": "stderr",
     "output_type": "stream",
     "text": [
      "\r",
      "Downloading Dataset Version Zip in Wildfire-Detection-Satellite-3 to yolov8-obb::  71%|███████   | 550578/773938 [00:07<00:02, 76162.41it/s]"
     ]
    },
    {
     "name": "stderr",
     "output_type": "stream",
     "text": [
      "\r",
      "Downloading Dataset Version Zip in Wildfire-Detection-Satellite-3 to yolov8-obb::  72%|███████▏  | 558349/773938 [00:07<00:02, 76622.08it/s]"
     ]
    },
    {
     "name": "stderr",
     "output_type": "stream",
     "text": [
      "\r",
      "Downloading Dataset Version Zip in Wildfire-Detection-Satellite-3 to yolov8-obb::  73%|███████▎  | 566027/773938 [00:07<00:02, 76515.91it/s]"
     ]
    },
    {
     "name": "stderr",
     "output_type": "stream",
     "text": [
      "\r",
      "Downloading Dataset Version Zip in Wildfire-Detection-Satellite-3 to yolov8-obb::  74%|███████▍  | 573690/773938 [00:07<00:02, 76328.23it/s]"
     ]
    },
    {
     "name": "stderr",
     "output_type": "stream",
     "text": [
      "\r",
      "Downloading Dataset Version Zip in Wildfire-Detection-Satellite-3 to yolov8-obb::  75%|███████▌  | 581331/773938 [00:08<00:02, 76269.29it/s]"
     ]
    },
    {
     "name": "stderr",
     "output_type": "stream",
     "text": [
      "\r",
      "Downloading Dataset Version Zip in Wildfire-Detection-Satellite-3 to yolov8-obb::  76%|███████▌  | 589126/773938 [00:08<00:02, 76769.77it/s]"
     ]
    },
    {
     "name": "stderr",
     "output_type": "stream",
     "text": [
      "\r",
      "Downloading Dataset Version Zip in Wildfire-Detection-Satellite-3 to yolov8-obb::  77%|███████▋  | 596807/773938 [00:08<00:02, 62896.29it/s]"
     ]
    },
    {
     "name": "stderr",
     "output_type": "stream",
     "text": [
      "\r",
      "Downloading Dataset Version Zip in Wildfire-Detection-Satellite-3 to yolov8-obb::  78%|███████▊  | 604530/773938 [00:08<00:02, 66611.63it/s]"
     ]
    },
    {
     "name": "stderr",
     "output_type": "stream",
     "text": [
      "\r",
      "Downloading Dataset Version Zip in Wildfire-Detection-Satellite-3 to yolov8-obb::  79%|███████▉  | 612394/773938 [00:08<00:02, 69860.71it/s]"
     ]
    },
    {
     "name": "stderr",
     "output_type": "stream",
     "text": [
      "\r",
      "Downloading Dataset Version Zip in Wildfire-Detection-Satellite-3 to yolov8-obb::  80%|████████  | 620297/773938 [00:08<00:02, 72412.64it/s]"
     ]
    },
    {
     "name": "stderr",
     "output_type": "stream",
     "text": [
      "\r",
      "Downloading Dataset Version Zip in Wildfire-Detection-Satellite-3 to yolov8-obb::  81%|████████  | 627754/773938 [00:08<00:02, 59025.97it/s]"
     ]
    },
    {
     "name": "stderr",
     "output_type": "stream",
     "text": [
      "\r",
      "Downloading Dataset Version Zip in Wildfire-Detection-Satellite-3 to yolov8-obb::  82%|████████▏ | 635684/773938 [00:08<00:02, 64039.93it/s]"
     ]
    },
    {
     "name": "stderr",
     "output_type": "stream",
     "text": [
      "\r",
      "Downloading Dataset Version Zip in Wildfire-Detection-Satellite-3 to yolov8-obb::  83%|████████▎ | 643557/773938 [00:09<00:01, 67873.56it/s]"
     ]
    },
    {
     "name": "stderr",
     "output_type": "stream",
     "text": [
      "\r",
      "Downloading Dataset Version Zip in Wildfire-Detection-Satellite-3 to yolov8-obb::  84%|████████▍ | 651489/773938 [00:09<00:01, 70981.11it/s]"
     ]
    },
    {
     "name": "stderr",
     "output_type": "stream",
     "text": [
      "\r",
      "Downloading Dataset Version Zip in Wildfire-Detection-Satellite-3 to yolov8-obb::  85%|████████▌ | 659345/773938 [00:09<00:01, 73094.32it/s]"
     ]
    },
    {
     "name": "stderr",
     "output_type": "stream",
     "text": [
      "\r",
      "Downloading Dataset Version Zip in Wildfire-Detection-Satellite-3 to yolov8-obb::  86%|████████▌ | 666886/773938 [00:09<00:01, 62410.26it/s]"
     ]
    },
    {
     "name": "stderr",
     "output_type": "stream",
     "text": [
      "\r",
      "Downloading Dataset Version Zip in Wildfire-Detection-Satellite-3 to yolov8-obb::  87%|████████▋ | 673547/773938 [00:09<00:01, 61194.40it/s]"
     ]
    },
    {
     "name": "stderr",
     "output_type": "stream",
     "text": [
      "\r",
      "Downloading Dataset Version Zip in Wildfire-Detection-Satellite-3 to yolov8-obb::  88%|████████▊ | 680686/773938 [00:09<00:01, 63851.35it/s]"
     ]
    },
    {
     "name": "stderr",
     "output_type": "stream",
     "text": [
      "\r",
      "Downloading Dataset Version Zip in Wildfire-Detection-Satellite-3 to yolov8-obb::  89%|████████▉ | 687889/773938 [00:09<00:01, 66069.92it/s]"
     ]
    },
    {
     "name": "stderr",
     "output_type": "stream",
     "text": [
      "\r",
      "Downloading Dataset Version Zip in Wildfire-Detection-Satellite-3 to yolov8-obb::  90%|████████▉ | 694688/773938 [00:09<00:01, 65723.46it/s]"
     ]
    },
    {
     "name": "stderr",
     "output_type": "stream",
     "text": [
      "\r",
      "Downloading Dataset Version Zip in Wildfire-Detection-Satellite-3 to yolov8-obb::  91%|█████████ | 701744/773938 [00:09<00:01, 67088.31it/s]"
     ]
    },
    {
     "name": "stderr",
     "output_type": "stream",
     "text": [
      "\r",
      "Downloading Dataset Version Zip in Wildfire-Detection-Satellite-3 to yolov8-obb::  92%|█████████▏| 708730/773938 [00:10<00:00, 67883.37it/s]"
     ]
    },
    {
     "name": "stderr",
     "output_type": "stream",
     "text": [
      "\r",
      "Downloading Dataset Version Zip in Wildfire-Detection-Satellite-3 to yolov8-obb::  93%|█████████▎| 716620/773938 [00:10<00:00, 71088.74it/s]"
     ]
    },
    {
     "name": "stderr",
     "output_type": "stream",
     "text": [
      "\r",
      "Downloading Dataset Version Zip in Wildfire-Detection-Satellite-3 to yolov8-obb::  94%|█████████▎| 724273/773938 [00:10<00:00, 72685.61it/s]"
     ]
    },
    {
     "name": "stderr",
     "output_type": "stream",
     "text": [
      "\r",
      "Downloading Dataset Version Zip in Wildfire-Detection-Satellite-3 to yolov8-obb::  95%|█████████▍| 731589/773938 [00:10<00:00, 66841.03it/s]"
     ]
    },
    {
     "name": "stderr",
     "output_type": "stream",
     "text": [
      "\r",
      "Downloading Dataset Version Zip in Wildfire-Detection-Satellite-3 to yolov8-obb::  95%|█████████▌| 738395/773938 [00:10<00:00, 65417.40it/s]"
     ]
    },
    {
     "name": "stderr",
     "output_type": "stream",
     "text": [
      "\r",
      "Downloading Dataset Version Zip in Wildfire-Detection-Satellite-3 to yolov8-obb::  96%|█████████▋| 746054/773938 [00:10<00:00, 68542.99it/s]"
     ]
    },
    {
     "name": "stderr",
     "output_type": "stream",
     "text": [
      "\r",
      "Downloading Dataset Version Zip in Wildfire-Detection-Satellite-3 to yolov8-obb::  97%|█████████▋| 752990/773938 [00:10<00:00, 64418.70it/s]"
     ]
    },
    {
     "name": "stderr",
     "output_type": "stream",
     "text": [
      "\r",
      "Downloading Dataset Version Zip in Wildfire-Detection-Satellite-3 to yolov8-obb::  98%|█████████▊| 760495/773938 [00:10<00:00, 67353.23it/s]"
     ]
    },
    {
     "name": "stderr",
     "output_type": "stream",
     "text": [
      "\r",
      "Downloading Dataset Version Zip in Wildfire-Detection-Satellite-3 to yolov8-obb::  99%|█████████▉| 768024/773938 [00:10<00:00, 69599.06it/s]"
     ]
    },
    {
     "name": "stderr",
     "output_type": "stream",
     "text": [
      "\r",
      "Downloading Dataset Version Zip in Wildfire-Detection-Satellite-3 to yolov8-obb:: 100%|██████████| 773938/773938 [00:10<00:00, 70691.13it/s]"
     ]
    },
    {
     "name": "stdout",
     "output_type": "stream",
     "text": [
      "\n"
     ]
    },
    {
     "name": "stderr",
     "output_type": "stream",
     "text": [
      "\n"
     ]
    },
    {
     "name": "stderr",
     "output_type": "stream",
     "text": [
      "\r",
      "Extracting Dataset Version Zip to Wildfire-Detection-Satellite-3 in yolov8-obb::   0%|          | 0/60972 [00:00<?, ?it/s]"
     ]
    },
    {
     "name": "stderr",
     "output_type": "stream",
     "text": [
      "\r",
      "Extracting Dataset Version Zip to Wildfire-Detection-Satellite-3 in yolov8-obb::   1%|          | 694/60972 [00:00<00:08, 6935.82it/s]"
     ]
    },
    {
     "name": "stderr",
     "output_type": "stream",
     "text": [
      "\r",
      "Extracting Dataset Version Zip to Wildfire-Detection-Satellite-3 in yolov8-obb::   2%|▏         | 1388/60972 [00:00<00:08, 6930.68it/s]"
     ]
    },
    {
     "name": "stderr",
     "output_type": "stream",
     "text": [
      "\r",
      "Extracting Dataset Version Zip to Wildfire-Detection-Satellite-3 in yolov8-obb::   4%|▍         | 2509/60972 [00:00<00:06, 8881.77it/s]"
     ]
    },
    {
     "name": "stderr",
     "output_type": "stream",
     "text": [
      "\r",
      "Extracting Dataset Version Zip to Wildfire-Detection-Satellite-3 in yolov8-obb::   6%|▌         | 3398/60972 [00:00<00:06, 8750.62it/s]"
     ]
    },
    {
     "name": "stderr",
     "output_type": "stream",
     "text": [
      "\r",
      "Extracting Dataset Version Zip to Wildfire-Detection-Satellite-3 in yolov8-obb::   7%|▋         | 4274/60972 [00:00<00:07, 7608.30it/s]"
     ]
    },
    {
     "name": "stderr",
     "output_type": "stream",
     "text": [
      "\r",
      "Extracting Dataset Version Zip to Wildfire-Detection-Satellite-3 in yolov8-obb::   8%|▊         | 5056/60972 [00:00<00:07, 7420.64it/s]"
     ]
    },
    {
     "name": "stderr",
     "output_type": "stream",
     "text": [
      "\r",
      "Extracting Dataset Version Zip to Wildfire-Detection-Satellite-3 in yolov8-obb::  10%|▉         | 5812/60972 [00:00<00:07, 7451.34it/s]"
     ]
    },
    {
     "name": "stderr",
     "output_type": "stream",
     "text": [
      "\r",
      "Extracting Dataset Version Zip to Wildfire-Detection-Satellite-3 in yolov8-obb::  11%|█         | 6567/60972 [00:00<00:07, 7417.58it/s]"
     ]
    },
    {
     "name": "stderr",
     "output_type": "stream",
     "text": [
      "\r",
      "Extracting Dataset Version Zip to Wildfire-Detection-Satellite-3 in yolov8-obb::  12%|█▏        | 7315/60972 [00:00<00:07, 7320.00it/s]"
     ]
    },
    {
     "name": "stderr",
     "output_type": "stream",
     "text": [
      "\r",
      "Extracting Dataset Version Zip to Wildfire-Detection-Satellite-3 in yolov8-obb::  13%|█▎        | 8052/60972 [00:01<00:07, 7256.34it/s]"
     ]
    },
    {
     "name": "stderr",
     "output_type": "stream",
     "text": [
      "\r",
      "Extracting Dataset Version Zip to Wildfire-Detection-Satellite-3 in yolov8-obb::  14%|█▍        | 8807/60972 [00:01<00:07, 7342.32it/s]"
     ]
    },
    {
     "name": "stderr",
     "output_type": "stream",
     "text": [
      "\r",
      "Extracting Dataset Version Zip to Wildfire-Detection-Satellite-3 in yolov8-obb::  16%|█▌        | 9544/60972 [00:01<00:07, 7292.84it/s]"
     ]
    },
    {
     "name": "stderr",
     "output_type": "stream",
     "text": [
      "\r",
      "Extracting Dataset Version Zip to Wildfire-Detection-Satellite-3 in yolov8-obb::  17%|█▋        | 10275/60972 [00:01<00:07, 6999.94it/s]"
     ]
    },
    {
     "name": "stderr",
     "output_type": "stream",
     "text": [
      "\r",
      "Extracting Dataset Version Zip to Wildfire-Detection-Satellite-3 in yolov8-obb::  18%|█▊        | 10978/60972 [00:01<00:07, 6906.50it/s]"
     ]
    },
    {
     "name": "stderr",
     "output_type": "stream",
     "text": [
      "\r",
      "Extracting Dataset Version Zip to Wildfire-Detection-Satellite-3 in yolov8-obb::  19%|█▉        | 11671/60972 [00:01<00:07, 6864.44it/s]"
     ]
    },
    {
     "name": "stderr",
     "output_type": "stream",
     "text": [
      "\r",
      "Extracting Dataset Version Zip to Wildfire-Detection-Satellite-3 in yolov8-obb::  20%|██        | 12359/60972 [00:01<00:07, 6847.71it/s]"
     ]
    },
    {
     "name": "stderr",
     "output_type": "stream",
     "text": [
      "\r",
      "Extracting Dataset Version Zip to Wildfire-Detection-Satellite-3 in yolov8-obb::  21%|██▏       | 13078/60972 [00:01<00:06, 6947.29it/s]"
     ]
    },
    {
     "name": "stderr",
     "output_type": "stream",
     "text": [
      "\r",
      "Extracting Dataset Version Zip to Wildfire-Detection-Satellite-3 in yolov8-obb::  23%|██▎       | 13774/60972 [00:01<00:06, 6934.46it/s]"
     ]
    },
    {
     "name": "stderr",
     "output_type": "stream",
     "text": [
      "\r",
      "Extracting Dataset Version Zip to Wildfire-Detection-Satellite-3 in yolov8-obb::  24%|██▍       | 14524/60972 [00:01<00:06, 7099.69it/s]"
     ]
    },
    {
     "name": "stderr",
     "output_type": "stream",
     "text": [
      "\r",
      "Extracting Dataset Version Zip to Wildfire-Detection-Satellite-3 in yolov8-obb::  25%|██▍       | 15235/60972 [00:02<00:06, 6927.75it/s]"
     ]
    },
    {
     "name": "stderr",
     "output_type": "stream",
     "text": [
      "\r",
      "Extracting Dataset Version Zip to Wildfire-Detection-Satellite-3 in yolov8-obb::  26%|██▌       | 15985/60972 [00:02<00:06, 7093.98it/s]"
     ]
    },
    {
     "name": "stderr",
     "output_type": "stream",
     "text": [
      "\r",
      "Extracting Dataset Version Zip to Wildfire-Detection-Satellite-3 in yolov8-obb::  27%|██▋       | 16741/60972 [00:02<00:06, 7230.78it/s]"
     ]
    },
    {
     "name": "stderr",
     "output_type": "stream",
     "text": [
      "\r",
      "Extracting Dataset Version Zip to Wildfire-Detection-Satellite-3 in yolov8-obb::  29%|██▊       | 17489/60972 [00:02<00:05, 7304.47it/s]"
     ]
    },
    {
     "name": "stderr",
     "output_type": "stream",
     "text": [
      "\r",
      "Extracting Dataset Version Zip to Wildfire-Detection-Satellite-3 in yolov8-obb::  30%|██▉       | 18254/60972 [00:02<00:05, 7405.33it/s]"
     ]
    },
    {
     "name": "stderr",
     "output_type": "stream",
     "text": [
      "\r",
      "Extracting Dataset Version Zip to Wildfire-Detection-Satellite-3 in yolov8-obb::  31%|███       | 19018/60972 [00:02<00:05, 7474.89it/s]"
     ]
    },
    {
     "name": "stderr",
     "output_type": "stream",
     "text": [
      "\r",
      "Extracting Dataset Version Zip to Wildfire-Detection-Satellite-3 in yolov8-obb::  32%|███▏      | 19792/60972 [00:02<00:05, 7553.85it/s]"
     ]
    },
    {
     "name": "stderr",
     "output_type": "stream",
     "text": [
      "\r",
      "Extracting Dataset Version Zip to Wildfire-Detection-Satellite-3 in yolov8-obb::  34%|███▎      | 20568/60972 [00:02<00:05, 7613.08it/s]"
     ]
    },
    {
     "name": "stderr",
     "output_type": "stream",
     "text": [
      "\r",
      "Extracting Dataset Version Zip to Wildfire-Detection-Satellite-3 in yolov8-obb::  35%|███▌      | 21353/60972 [00:02<00:05, 7682.91it/s]"
     ]
    },
    {
     "name": "stderr",
     "output_type": "stream",
     "text": [
      "\r",
      "Extracting Dataset Version Zip to Wildfire-Detection-Satellite-3 in yolov8-obb::  36%|███▋      | 22132/60972 [00:03<00:05, 7714.44it/s]"
     ]
    },
    {
     "name": "stderr",
     "output_type": "stream",
     "text": [
      "\r",
      "Extracting Dataset Version Zip to Wildfire-Detection-Satellite-3 in yolov8-obb::  38%|███▊      | 22904/60972 [00:03<00:04, 7681.08it/s]"
     ]
    },
    {
     "name": "stderr",
     "output_type": "stream",
     "text": [
      "\r",
      "Extracting Dataset Version Zip to Wildfire-Detection-Satellite-3 in yolov8-obb::  39%|███▉      | 23673/60972 [00:03<00:04, 7647.09it/s]"
     ]
    },
    {
     "name": "stderr",
     "output_type": "stream",
     "text": [
      "\r",
      "Extracting Dataset Version Zip to Wildfire-Detection-Satellite-3 in yolov8-obb::  40%|████      | 24438/60972 [00:03<00:04, 7570.12it/s]"
     ]
    },
    {
     "name": "stderr",
     "output_type": "stream",
     "text": [
      "\r",
      "Extracting Dataset Version Zip to Wildfire-Detection-Satellite-3 in yolov8-obb::  41%|████▏     | 25198/60972 [00:03<00:04, 7578.59it/s]"
     ]
    },
    {
     "name": "stderr",
     "output_type": "stream",
     "text": [
      "\r",
      "Extracting Dataset Version Zip to Wildfire-Detection-Satellite-3 in yolov8-obb::  43%|████▎     | 25957/60972 [00:03<00:04, 7293.30it/s]"
     ]
    },
    {
     "name": "stderr",
     "output_type": "stream",
     "text": [
      "\r",
      "Extracting Dataset Version Zip to Wildfire-Detection-Satellite-3 in yolov8-obb::  44%|████▍     | 27097/60972 [00:03<00:03, 8484.96it/s]"
     ]
    },
    {
     "name": "stderr",
     "output_type": "stream",
     "text": [
      "\r",
      "Extracting Dataset Version Zip to Wildfire-Detection-Satellite-3 in yolov8-obb::  46%|████▋     | 28310/60972 [00:03<00:03, 9552.69it/s]"
     ]
    },
    {
     "name": "stderr",
     "output_type": "stream",
     "text": [
      "\r",
      "Extracting Dataset Version Zip to Wildfire-Detection-Satellite-3 in yolov8-obb::  49%|████▊     | 29608/60972 [00:03<00:02, 10563.51it/s]"
     ]
    },
    {
     "name": "stderr",
     "output_type": "stream",
     "text": [
      "\r",
      "Extracting Dataset Version Zip to Wildfire-Detection-Satellite-3 in yolov8-obb::  51%|█████     | 30926/60972 [00:03<00:02, 11337.65it/s]"
     ]
    },
    {
     "name": "stderr",
     "output_type": "stream",
     "text": [
      "\r",
      "Extracting Dataset Version Zip to Wildfire-Detection-Satellite-3 in yolov8-obb::  53%|█████▎    | 32297/60972 [00:04<00:02, 12040.53it/s]"
     ]
    },
    {
     "name": "stderr",
     "output_type": "stream",
     "text": [
      "\r",
      "Extracting Dataset Version Zip to Wildfire-Detection-Satellite-3 in yolov8-obb::  55%|█████▍    | 33530/60972 [00:04<00:02, 12121.95it/s]"
     ]
    },
    {
     "name": "stderr",
     "output_type": "stream",
     "text": [
      "\r",
      "Extracting Dataset Version Zip to Wildfire-Detection-Satellite-3 in yolov8-obb::  57%|█████▋    | 34753/60972 [00:04<00:02, 12153.62it/s]"
     ]
    },
    {
     "name": "stderr",
     "output_type": "stream",
     "text": [
      "\r",
      "Extracting Dataset Version Zip to Wildfire-Detection-Satellite-3 in yolov8-obb::  59%|█████▉    | 35971/60972 [00:04<00:02, 12023.07it/s]"
     ]
    },
    {
     "name": "stderr",
     "output_type": "stream",
     "text": [
      "\r",
      "Extracting Dataset Version Zip to Wildfire-Detection-Satellite-3 in yolov8-obb::  61%|██████    | 37214/60972 [00:04<00:01, 12139.35it/s]"
     ]
    },
    {
     "name": "stderr",
     "output_type": "stream",
     "text": [
      "\r",
      "Extracting Dataset Version Zip to Wildfire-Detection-Satellite-3 in yolov8-obb::  63%|██████▎   | 38506/60972 [00:04<00:01, 12371.32it/s]"
     ]
    },
    {
     "name": "stderr",
     "output_type": "stream",
     "text": [
      "\r",
      "Extracting Dataset Version Zip to Wildfire-Detection-Satellite-3 in yolov8-obb::  65%|██████▌   | 39787/60972 [00:04<00:01, 12500.63it/s]"
     ]
    },
    {
     "name": "stderr",
     "output_type": "stream",
     "text": [
      "\r",
      "Extracting Dataset Version Zip to Wildfire-Detection-Satellite-3 in yolov8-obb::  67%|██████▋   | 41040/60972 [00:04<00:01, 12509.20it/s]"
     ]
    },
    {
     "name": "stderr",
     "output_type": "stream",
     "text": [
      "\r",
      "Extracting Dataset Version Zip to Wildfire-Detection-Satellite-3 in yolov8-obb::  69%|██████▉   | 42292/60972 [00:04<00:01, 12384.35it/s]"
     ]
    },
    {
     "name": "stderr",
     "output_type": "stream",
     "text": [
      "\r",
      "Extracting Dataset Version Zip to Wildfire-Detection-Satellite-3 in yolov8-obb::  71%|███████▏  | 43532/60972 [00:04<00:01, 12334.19it/s]"
     ]
    },
    {
     "name": "stderr",
     "output_type": "stream",
     "text": [
      "\r",
      "Extracting Dataset Version Zip to Wildfire-Detection-Satellite-3 in yolov8-obb::  73%|███████▎  | 44766/60972 [00:05<00:01, 12287.85it/s]"
     ]
    },
    {
     "name": "stderr",
     "output_type": "stream",
     "text": [
      "\r",
      "Extracting Dataset Version Zip to Wildfire-Detection-Satellite-3 in yolov8-obb::  75%|███████▌  | 45996/60972 [00:05<00:01, 12192.04it/s]"
     ]
    },
    {
     "name": "stderr",
     "output_type": "stream",
     "text": [
      "\r",
      "Extracting Dataset Version Zip to Wildfire-Detection-Satellite-3 in yolov8-obb::  77%|███████▋  | 47233/60972 [00:05<00:01, 12243.25it/s]"
     ]
    },
    {
     "name": "stderr",
     "output_type": "stream",
     "text": [
      "\r",
      "Extracting Dataset Version Zip to Wildfire-Detection-Satellite-3 in yolov8-obb::  80%|███████▉  | 48481/60972 [00:05<00:01, 12311.35it/s]"
     ]
    },
    {
     "name": "stderr",
     "output_type": "stream",
     "text": [
      "\r",
      "Extracting Dataset Version Zip to Wildfire-Detection-Satellite-3 in yolov8-obb::  82%|████████▏ | 49713/60972 [00:05<00:01, 10952.39it/s]"
     ]
    },
    {
     "name": "stderr",
     "output_type": "stream",
     "text": [
      "\r",
      "Extracting Dataset Version Zip to Wildfire-Detection-Satellite-3 in yolov8-obb::  83%|████████▎ | 50836/60972 [00:05<00:01, 9653.65it/s] "
     ]
    },
    {
     "name": "stderr",
     "output_type": "stream",
     "text": [
      "\r",
      "Extracting Dataset Version Zip to Wildfire-Detection-Satellite-3 in yolov8-obb::  85%|████████▌ | 51844/60972 [00:05<00:01, 8764.36it/s]"
     ]
    },
    {
     "name": "stderr",
     "output_type": "stream",
     "text": [
      "\r",
      "Extracting Dataset Version Zip to Wildfire-Detection-Satellite-3 in yolov8-obb::  87%|████████▋ | 52759/60972 [00:05<00:01, 8093.41it/s]"
     ]
    },
    {
     "name": "stderr",
     "output_type": "stream",
     "text": [
      "\r",
      "Extracting Dataset Version Zip to Wildfire-Detection-Satellite-3 in yolov8-obb::  88%|████████▊ | 53598/60972 [00:06<00:00, 7499.41it/s]"
     ]
    },
    {
     "name": "stderr",
     "output_type": "stream",
     "text": [
      "\r",
      "Extracting Dataset Version Zip to Wildfire-Detection-Satellite-3 in yolov8-obb::  89%|████████▉ | 54370/60972 [00:06<00:00, 7241.95it/s]"
     ]
    },
    {
     "name": "stderr",
     "output_type": "stream",
     "text": [
      "\r",
      "Extracting Dataset Version Zip to Wildfire-Detection-Satellite-3 in yolov8-obb::  90%|█████████ | 55107/60972 [00:06<00:00, 7221.21it/s]"
     ]
    },
    {
     "name": "stderr",
     "output_type": "stream",
     "text": [
      "\r",
      "Extracting Dataset Version Zip to Wildfire-Detection-Satellite-3 in yolov8-obb::  92%|█████████▏| 56181/60972 [00:06<00:00, 8137.07it/s]"
     ]
    },
    {
     "name": "stderr",
     "output_type": "stream",
     "text": [
      "\r",
      "Extracting Dataset Version Zip to Wildfire-Detection-Satellite-3 in yolov8-obb::  94%|█████████▍| 57384/60972 [00:06<00:00, 9193.87it/s]"
     ]
    },
    {
     "name": "stderr",
     "output_type": "stream",
     "text": [
      "\r",
      "Extracting Dataset Version Zip to Wildfire-Detection-Satellite-3 in yolov8-obb::  96%|█████████▌| 58550/60972 [00:06<00:00, 9880.70it/s]"
     ]
    },
    {
     "name": "stderr",
     "output_type": "stream",
     "text": [
      "\r",
      "Extracting Dataset Version Zip to Wildfire-Detection-Satellite-3 in yolov8-obb::  98%|█████████▊| 59805/60972 [00:06<00:00, 10640.84it/s]"
     ]
    },
    {
     "name": "stderr",
     "output_type": "stream",
     "text": [
      "\r",
      "Extracting Dataset Version Zip to Wildfire-Detection-Satellite-3 in yolov8-obb:: 100%|██████████| 60972/60972 [00:06<00:00, 9012.43it/s] "
     ]
    },
    {
     "name": "stderr",
     "output_type": "stream",
     "text": [
      "\n"
     ]
    }
   ],
   "source": [
    "from roboflow import Roboflow\n",
    "rf = Roboflow(api_key=\"7IyVahMNGQIrl0do1Zz8\")\n",
    "project = rf.workspace(\"umbc-s6g8c\").project(\"wildfire-detection-satellite\")\n",
    "version = project.version(3)\n",
    "dataset = version.download(\"yolov8-obb\")\n",
    "                "
   ]
  },
  {
   "cell_type": "code",
   "execution_count": 13,
   "id": "521337a5",
   "metadata": {
    "execution": {
     "iopub.execute_input": "2025-02-20T07:08:32.743740Z",
     "iopub.status.busy": "2025-02-20T07:08:32.743455Z",
     "iopub.status.idle": "2025-02-20T07:08:32.747310Z",
     "shell.execute_reply": "2025-02-20T07:08:32.746383Z"
    },
    "papermill": {
     "duration": 0.037497,
     "end_time": "2025-02-20T07:08:32.748673",
     "exception": false,
     "start_time": "2025-02-20T07:08:32.711176",
     "status": "completed"
    },
    "tags": []
   },
   "outputs": [],
   "source": [
    "# import os\n",
    "\n",
    "# class UniqueLabelsExtractor:\n",
    "#     def __init__(self, labels_dir):\n",
    "#         self.labels_dir = labels_dir\n",
    "\n",
    "#     def get_unique_labels(self):\n",
    "#         unique_labels = set()\n",
    "\n",
    "#         label_files = os.listdir(self.labels_dir)\n",
    "#         for label_file in label_files:\n",
    "#             label_path = os.path.join(self.labels_dir, label_file)\n",
    "#             with open(label_path, 'r', encoding='latin1') as f:\n",
    "#                 for line in f:\n",
    "#                     parts = line.strip().split()\n",
    "#                     if not parts or len(parts) < 5:\n",
    "#                         continue  # Skip empty or invalid lines\n",
    "#                     label = int(parts[0])  # Adjusting label index\n",
    "#                     unique_labels.add(label)\n",
    "\n",
    "#         return sorted(unique_labels)\n",
    "\n",
    "# # Example usage:\n",
    "# labels_dir = \"/kaggle/working/combined_dataset/train/labels\"\n",
    "# extractor = UniqueLabelsExtractor(labels_dir)\n",
    "# unique_labels = extractor.get_unique_labels()\n",
    "# print(\"Unique Labels:\", unique_labels)\n"
   ]
  },
  {
   "cell_type": "code",
   "execution_count": 14,
   "id": "e8831761",
   "metadata": {
    "execution": {
     "iopub.execute_input": "2025-02-20T07:08:32.811299Z",
     "iopub.status.busy": "2025-02-20T07:08:32.811038Z",
     "iopub.status.idle": "2025-02-20T07:08:33.088126Z",
     "shell.execute_reply": "2025-02-20T07:08:33.087084Z"
    },
    "papermill": {
     "duration": 0.310456,
     "end_time": "2025-02-20T07:08:33.089692",
     "exception": false,
     "start_time": "2025-02-20T07:08:32.779236",
     "status": "completed"
    },
    "tags": []
   },
   "outputs": [
    {
     "name": "stdout",
     "output_type": "stream",
     "text": [
      "Dataset: Wildfire-Satellite-2, Unique Labels Count: 1\n"
     ]
    }
   ],
   "source": [
    "import os\n",
    "\n",
    "class UniqueLabelsExtractor:\n",
    "    def __init__(self, labels_dir):\n",
    "        self.labels_dir = labels_dir\n",
    "\n",
    "    def get_unique_labels(self):\n",
    "        unique_labels = set()\n",
    "        \n",
    "        if not os.path.exists(self.labels_dir):\n",
    "            return unique_labels  # Return empty set if path doesn't exist\n",
    "\n",
    "        label_files = os.listdir(self.labels_dir)\n",
    "        for label_file in label_files:\n",
    "            label_path = os.path.join(self.labels_dir, label_file)\n",
    "            with open(label_path, 'r', encoding='latin1') as f:\n",
    "                for line in f:\n",
    "                    parts = line.strip().split()\n",
    "                    if not parts or len(parts) < 5:\n",
    "                        continue  # Skip empty or invalid lines\n",
    "                    label = int(parts[0])  # Adjusting label index\n",
    "                    unique_labels.add(label)\n",
    "        \n",
    "        return unique_labels\n",
    "\n",
    "# Define base path and dataset folders\n",
    "base_path = \"/kaggle/working\"\n",
    "# folders = [\n",
    "#     \"640x640-24\", \"DLR-1\", \"Wildfire-2\", \"Wildfire-Detection-Satellite-3\",\n",
    "#     \"Wildfire-Satellite-2\", \"fire-detection2-1\", \"fire_forest_gen-8\",\n",
    "#     \"fire_forest_new-8\", \"volcano-19\", \"wildfire-1\", \"Хакатон-Пожары-1\",\"combined_dataset\"\n",
    "# ]\n",
    "\n",
    "folders = [\n",
    "   \"Wildfire-Satellite-2\" \n",
    "            ]\n",
    "\n",
    "# Iterate over each dataset folder and extract unique labels\n",
    "for folder in folders:\n",
    "    labels_dir = os.path.join(base_path, folder, \"train\", \"labels\")\n",
    "    extractor = UniqueLabelsExtractor(labels_dir)\n",
    "    unique_labels = extractor.get_unique_labels()\n",
    "    print(f\"Dataset: {folder}, Unique Labels Count: {len(unique_labels)}\")\n"
   ]
  },
  {
   "cell_type": "markdown",
   "id": "03f49b27",
   "metadata": {
    "papermill": {
     "duration": 0.032025,
     "end_time": "2025-02-20T07:08:33.154366",
     "exception": false,
     "start_time": "2025-02-20T07:08:33.122341",
     "status": "completed"
    },
    "tags": []
   },
   "source": [
    "<div style=\"background-color:#008093; padding:10px; text-align:center;\">\n",
    "       <h5 style=\"color:white;\">MERGING THE DATASETS</h5>\n",
    "    <h5 style=\"color:white;\">TRAIN - TEST - VALID</h5>\n",
    "</div>"
   ]
  },
  {
   "cell_type": "code",
   "execution_count": 15,
   "id": "86d0d08e",
   "metadata": {
    "execution": {
     "iopub.execute_input": "2025-02-20T07:08:33.218430Z",
     "iopub.status.busy": "2025-02-20T07:08:33.218136Z",
     "iopub.status.idle": "2025-02-20T07:08:33.223676Z",
     "shell.execute_reply": "2025-02-20T07:08:33.222758Z"
    },
    "papermill": {
     "duration": 0.038467,
     "end_time": "2025-02-20T07:08:33.224823",
     "exception": false,
     "start_time": "2025-02-20T07:08:33.186356",
     "status": "completed"
    },
    "tags": []
   },
   "outputs": [
    {
     "name": "stdout",
     "output_type": "stream",
     "text": [
      "Contents of Wildfire-Satellite-2:\n",
      "['README.roboflow.txt', 'data.yaml', 'train', 'README.dataset.txt', 'valid']\n",
      "--------------------------------------------------\n"
     ]
    }
   ],
   "source": [
    "import os\n",
    "import json\n",
    "import shutil\n",
    "\n",
    "# base_path ='/kaggle/working'\n",
    "# folders = [\n",
    "#     \"640x640-24\", \"DLR-1\", \"Wildfire-2\",\n",
    "#     \"Wildfire-Satellite-2\", \"fire-detection2-1\", \"fire_forest_gen-8\",\n",
    "#     \"fire_forest_new-8\", \"wildfire-1\", \"Хакатон-Пожары-1\"\n",
    "# ]\n",
    "\n",
    "# Check the folder structure of each dataset\n",
    "for folder in folders:\n",
    "    dataset_path = os.path.join(base_path, folder)\n",
    "    print(f\"Contents of {folder}:\")\n",
    "    print(os.listdir(dataset_path))\n",
    "    print(\"-\" * 50)\n"
   ]
  },
  {
   "cell_type": "code",
   "execution_count": 16,
   "id": "c88314d4",
   "metadata": {
    "execution": {
     "iopub.execute_input": "2025-02-20T07:08:33.291657Z",
     "iopub.status.busy": "2025-02-20T07:08:33.291384Z",
     "iopub.status.idle": "2025-02-20T07:08:33.297195Z",
     "shell.execute_reply": "2025-02-20T07:08:33.296286Z"
    },
    "papermill": {
     "duration": 0.03915,
     "end_time": "2025-02-20T07:08:33.298541",
     "exception": false,
     "start_time": "2025-02-20T07:08:33.259391",
     "status": "completed"
    },
    "tags": []
   },
   "outputs": [],
   "source": [
    "# Define combined dataset paths\n",
    "combined_path = '/kaggle/working/combined_dataset'\n",
    "\n",
    "def create_combined_folders(base):\n",
    "    paths = {}\n",
    "    for split in ['train', 'valid', 'test']:\n",
    "        images_path = os.path.join(base, split, 'images')\n",
    "        labels_path = os.path.join(base, split, 'labels')\n",
    "        os.makedirs(images_path, exist_ok=True)\n",
    "        os.makedirs(labels_path, exist_ok=True)\n",
    "        paths[split] = {'images': images_path, 'labels': labels_path}\n",
    "    return paths\n",
    "combined_paths = create_combined_folders(combined_path)"
   ]
  },
  {
   "cell_type": "code",
   "execution_count": 17,
   "id": "6308804e",
   "metadata": {
    "execution": {
     "iopub.execute_input": "2025-02-20T07:08:33.364792Z",
     "iopub.status.busy": "2025-02-20T07:08:33.364522Z",
     "iopub.status.idle": "2025-02-20T07:08:33.967531Z",
     "shell.execute_reply": "2025-02-20T07:08:33.966555Z"
    },
    "papermill": {
     "duration": 0.637798,
     "end_time": "2025-02-20T07:08:33.968958",
     "exception": false,
     "start_time": "2025-02-20T07:08:33.331160",
     "status": "completed"
    },
    "tags": []
   },
   "outputs": [
    {
     "name": "stdout",
     "output_type": "stream",
     "text": [
      "Datasets merged successfully with separate folders for images and labels in each split!\n"
     ]
    }
   ],
   "source": [
    "# Function to merge image or label files\n",
    "def merge_files(src_folder, dest_folder, folder_name):\n",
    "    if os.path.exists(src_folder):  # Check if the source folder exists\n",
    "        for filename in os.listdir(src_folder):\n",
    "            src_file = os.path.join(src_folder, filename)\n",
    "            new_filename = f\"{folder_name}_{filename}\"\n",
    "            dest_file = os.path.join(dest_folder, new_filename)\n",
    "\n",
    "            # Avoid overwriting by renaming duplicates\n",
    "            while os.path.exists(dest_file):\n",
    "                base, ext = os.path.splitext(new_filename)\n",
    "                new_filename = f\"{base}_copy{ext}\"\n",
    "                dest_file = os.path.join(dest_folder, new_filename)\n",
    "\n",
    "            shutil.move(src_file, dest_file)\n",
    "\n",
    "# Iterate through each dataset and move files\n",
    "for folder in folders:\n",
    "    dataset_path = os.path.join(base_path, folder)\n",
    "\n",
    "    for split in ['train', 'valid', 'test']:\n",
    "        split_images = os.path.join(dataset_path, split, 'images')\n",
    "        split_labels = os.path.join(dataset_path, split, 'labels')\n",
    "\n",
    "        merge_files(split_images, combined_paths[split]['images'], folder)\n",
    "        merge_files(split_labels, combined_paths[split]['labels'], folder)\n",
    "\n",
    "print(\"Datasets merged successfully with separate folders for images and labels in each split!\")\n"
   ]
  },
  {
   "cell_type": "code",
   "execution_count": 18,
   "id": "9f0a61ab",
   "metadata": {
    "execution": {
     "iopub.execute_input": "2025-02-20T07:08:34.039717Z",
     "iopub.status.busy": "2025-02-20T07:08:34.039371Z",
     "iopub.status.idle": "2025-02-20T07:08:34.063144Z",
     "shell.execute_reply": "2025-02-20T07:08:34.062232Z"
    },
    "papermill": {
     "duration": 0.059368,
     "end_time": "2025-02-20T07:08:34.064397",
     "exception": false,
     "start_time": "2025-02-20T07:08:34.005029",
     "status": "completed"
    },
    "tags": []
   },
   "outputs": [
    {
     "name": "stdout",
     "output_type": "stream",
     "text": [
      "\n",
      "Train Folder:\n",
      "  - Images folder contains 8828 files.\n",
      "  - Labels folder contains 8828 files.\n",
      "\n",
      "Valid Folder:\n",
      "  - Images folder contains 200 files.\n",
      "  - Labels folder contains 200 files.\n",
      "\n",
      "Test Folder:\n",
      "  - Images folder contains 0 files.\n",
      "  - Labels folder contains 0 files.\n"
     ]
    }
   ],
   "source": [
    "# Verify the Combined Dataset\n",
    "for folder in ['train', 'valid', 'test']:\n",
    "    folder_path = os.path.join(combined_path, folder)\n",
    "    images_path = os.path.join(folder_path, 'images')\n",
    "    labels_path = os.path.join(folder_path, 'labels')\n",
    "    \n",
    "    print(f\"\\n{folder.capitalize()} Folder:\")\n",
    "    \n",
    "    if os.path.exists(images_path):\n",
    "        num_images = len(os.listdir(images_path))\n",
    "        print(f\"  - Images folder contains {num_images} files.\")\n",
    "    else:\n",
    "        print(\"  - Images folder is missing.\")\n",
    "    \n",
    "    if os.path.exists(labels_path):\n",
    "        num_labels = len(os.listdir(labels_path))\n",
    "        print(f\"  - Labels folder contains {num_labels} files.\")\n",
    "    else:\n",
    "        print(\"  - Labels folder is missing.\")\n"
   ]
  },
  {
   "cell_type": "code",
   "execution_count": 19,
   "id": "25846c55",
   "metadata": {
    "execution": {
     "iopub.execute_input": "2025-02-20T07:08:34.130330Z",
     "iopub.status.busy": "2025-02-20T07:08:34.129879Z",
     "iopub.status.idle": "2025-02-20T07:08:35.994738Z",
     "shell.execute_reply": "2025-02-20T07:08:35.993624Z"
    },
    "papermill": {
     "duration": 1.903578,
     "end_time": "2025-02-20T07:08:36.000856",
     "exception": false,
     "start_time": "2025-02-20T07:08:34.097278",
     "status": "completed"
    },
    "tags": []
   },
   "outputs": [
    {
     "name": "stdout",
     "output_type": "stream",
     "text": [
      "Annotation parts: ['0', '0.5', '0.19230769230769235', '0.24278846153846154', '0.19230769230769232', '0.24278846153846156', '0.4879807692307692', '0.5', '0.4879807692307692']\n",
      "Annotation parts: ['0', '0.48557692307692324', '0.7668269230769231', '0.32692307692307704', '0.7668269230769231', '0.32692307692307704', '0.9591346153846154', '0.48557692307692324', '0.9591346153846154']\n"
     ]
    },
    {
     "data": {
      "image/png": "[encoded data removed]",
      "text/plain": [
       "<Figure size 1000x500 with 2 Axes>"
      ]
     },
     "metadata": {},
     "output_type": "display_data"
    },
    {
     "name": "stdout",
     "output_type": "stream",
     "text": [
      "Annotation parts: ['0', '0.8004807692307693', '4.916250371577115e-17', '0.002403846153846154', '2.9438624979503682e-19', '0.002403846153846215', '1', '0.8004807692307693', '1']\n",
      "Annotation parts: ['0', '1', '0.20432692307692318', '0.8125', '0.20432692307692316', '0.8125', '0.5024038461538463', '1', '0.5024038461538463']\n"
     ]
    },
    {
     "data": {
      "image/png": "[encoded data removed]",
      "text/plain": [
       "<Figure size 1000x500 with 2 Axes>"
      ]
     },
     "metadata": {},
     "output_type": "display_data"
    },
    {
     "name": "stdout",
     "output_type": "stream",
     "text": [
      "No images found in combined_dataset/test/images\n"
     ]
    }
   ],
   "source": [
    "import os\n",
    "import random\n",
    "import cv2\n",
    "import matplotlib.pyplot as plt\n",
    "\n",
    "# Define dataset path\n",
    "dataset_path = \"combined_dataset\"\n",
    "sets = [\"train\", \"valid\", \"test\"]\n",
    "\n",
    "def visualize_random_image(set_name):\n",
    "    image_dir = os.path.join(dataset_path, set_name, \"images\")\n",
    "    label_dir = os.path.join(dataset_path, set_name, \"labels\")\n",
    "\n",
    "    # Get all image files\n",
    "    image_files = [f for f in os.listdir(image_dir) if f.endswith(('.jpg', '.png', '.jpeg'))]\n",
    "\n",
    "    if not image_files:\n",
    "        print(f\"No images found in {image_dir}\")\n",
    "        return\n",
    "\n",
    "    # Select a random image\n",
    "    random_image_name = random.choice(image_files)\n",
    "    image_path = os.path.join(image_dir, random_image_name)\n",
    "\n",
    "    # Load the image\n",
    "    image = cv2.imread(image_path)\n",
    "    image = cv2.cvtColor(image, cv2.COLOR_BGR2RGB)  # Convert for Matplotlib\n",
    "\n",
    "    # Display image without bounding box\n",
    "    plt.figure(figsize=(10, 5))\n",
    "    plt.subplot(1, 2, 1)\n",
    "    plt.imshow(image)\n",
    "    plt.axis(\"off\")\n",
    "    plt.title(f\"{set_name.capitalize()} Image (No BBox)\")\n",
    "\n",
    "    # Load corresponding annotation\n",
    "    label_path = os.path.join(label_dir, random_image_name.replace(\".jpg\", \".txt\").replace(\".png\", \".txt\"))\n",
    "\n",
    "    if os.path.exists(label_path):\n",
    "        with open(label_path, \"r\") as f:\n",
    "            annotations = f.readlines()\n",
    "        \n",
    "        h, w, _ = image.shape  # Image dimensions\n",
    "\n",
    "        for annotation in annotations:\n",
    "            parts = annotation.strip().split()\n",
    "            print(\"Annotation parts:\", parts)  # Debugging print\n",
    "\n",
    "            if len(parts) < 5:\n",
    "                print(f\"Skipping invalid annotation in {label_path}: {annotation}\")\n",
    "                continue\n",
    "\n",
    "            class_id = int(parts[0])  # Assuming YOLO format\n",
    "            x_center, y_center, box_w, box_h = map(float, parts[1:5])  # Ensure only 4 values\n",
    "\n",
    "            # Convert to pixel values\n",
    "            x1 = int((x_center - box_w / 2) * w)\n",
    "            y1 = int((y_center - box_h / 2) * h)\n",
    "            x2 = int((x_center + box_w / 2) * w)\n",
    "            y2 = int((y_center + box_h / 2) * h)\n",
    "\n",
    "            # Draw bounding box\n",
    "            cv2.rectangle(image, (x1, y1), (x2, y2), (255, 0, 0), 2)  # Blue box\n",
    "\n",
    "    # Display image with bounding box\n",
    "    plt.subplot(1, 2, 2)\n",
    "    plt.imshow(image)\n",
    "    plt.axis(\"off\")\n",
    "    plt.title(f\"{set_name.capitalize()} Image (With BBox)\")\n",
    "\n",
    "    plt.show()\n",
    "\n",
    "# Run for train, valid, and test\n",
    "for set_name in sets:\n",
    "    visualize_random_image(set_name)\n"
   ]
  },
  {
   "cell_type": "markdown",
   "id": "436ac914",
   "metadata": {
    "execution": {
     "iopub.execute_input": "2024-12-13T11:16:58.795750Z",
     "iopub.status.busy": "2024-12-13T11:16:58.794445Z",
     "iopub.status.idle": "2024-12-13T11:16:58.803723Z",
     "shell.execute_reply": "2024-12-13T11:16:58.801441Z",
     "shell.execute_reply.started": "2024-12-13T11:16:58.795695Z"
    },
    "papermill": {
     "duration": 0.044426,
     "end_time": "2025-02-20T07:08:36.096351",
     "exception": false,
     "start_time": "2025-02-20T07:08:36.051925",
     "status": "completed"
    },
    "tags": []
   },
   "source": [
    "<div style=\"background-color:#008093; padding:10px; text-align:center;\">\n",
    "       <h5 style=\"color:white;\">PREPING THE MODEL</h5>\n",
    "</div>"
   ]
  },
  {
   "cell_type": "code",
   "execution_count": 20,
   "id": "0132445a",
   "metadata": {
    "execution": {
     "iopub.execute_input": "2025-02-20T07:08:36.200734Z",
     "iopub.status.busy": "2025-02-20T07:08:36.200375Z",
     "iopub.status.idle": "2025-02-20T07:08:45.118547Z",
     "shell.execute_reply": "2025-02-20T07:08:45.117564Z"
    },
    "papermill": {
     "duration": 8.978512,
     "end_time": "2025-02-20T07:08:45.120308",
     "exception": false,
     "start_time": "2025-02-20T07:08:36.141796",
     "status": "completed"
    },
    "tags": []
   },
   "outputs": [],
   "source": [
    "import torch\n",
    "import torchvision\n",
    "from torchvision.models.detection import FasterRCNN\n",
    "from torchvision.models.detection.rpn import AnchorGenerator\n",
    "from torchvision.transforms import functional as F\n",
    "from torch.utils.data import DataLoader, Dataset\n",
    "from PIL import Image\n",
    "import os\n",
    "import torchvision.transforms as transforms\n",
    "from torch.utils.data import Dataset\n"
   ]
  },
  {
   "cell_type": "code",
   "execution_count": 21,
   "id": "c52e9537",
   "metadata": {
    "execution": {
     "iopub.execute_input": "2025-02-20T07:08:45.206133Z",
     "iopub.status.busy": "2025-02-20T07:08:45.205604Z",
     "iopub.status.idle": "2025-02-20T07:08:45.346982Z",
     "shell.execute_reply": "2025-02-20T07:08:45.346161Z"
    },
    "papermill": {
     "duration": 0.185448,
     "end_time": "2025-02-20T07:08:45.348394",
     "exception": false,
     "start_time": "2025-02-20T07:08:45.162946",
     "status": "completed"
    },
    "tags": []
   },
   "outputs": [],
   "source": [
    "class CustomDataset(Dataset):\n",
    "    def __init__(self, images_dir, labels_dir, transforms=None, max_samples=None):\n",
    "        self.images_dir = images_dir\n",
    "        self.labels_dir = labels_dir\n",
    "        self.transforms = transforms\n",
    "\n",
    "        # Get sorted file lists\n",
    "        self.image_files = sorted([f for f in os.listdir(images_dir) if f.endswith(('.jpg', '.jpeg', '.png'))])\n",
    "        self.label_files = sorted([f for f in os.listdir(labels_dir) if f.endswith('.txt')])\n",
    "        \n",
    "        # Verify matching files\n",
    "        assert len(self.image_files) == len(self.label_files), \"Mismatch between number of images and labels\"\n",
    "\n",
    "        # Apply max_samples limit\n",
    "        if max_samples is not None:\n",
    "            self.image_files = self.image_files[:max_samples]\n",
    "            self.label_files = self.label_files[:max_samples]\n",
    "\n",
    "    # Keep the rest of the class unchanged\n",
    "    def __len__(self):\n",
    "        return len(self.image_files)\n",
    "\n",
    "    def __getitem__(self, idx):\n",
    "        # Load image\n",
    "        img_path = os.path.join(self.images_dir, self.image_files[idx])\n",
    "        img = Image.open(img_path).convert(\"RGB\")\n",
    "        img_width, img_height = img.size\n",
    "    \n",
    "        # Load labels\n",
    "        label_path = os.path.join(self.labels_dir, self.label_files[idx])\n",
    "        boxes = []\n",
    "        labels = []\n",
    "        \n",
    "        try:\n",
    "            with open(label_path, 'r') as f:\n",
    "                for line in f:\n",
    "                    parts = line.strip().split()\n",
    "                    if len(parts) == 9:  # class + 8 coordinates\n",
    "                        label = int(parts[0]) +1\n",
    "                        x_left_down, y_left_down, x_right_down, y_right_down, \\\n",
    "                        x_left_up, y_left_up, x_right_up, y_right_up = map(float, parts[1:9])\n",
    "                        \n",
    "                        # Convert normalized coordinates to absolute coordinates\n",
    "                        points = [\n",
    "                            [x_left_down * img_width, y_left_down * img_height],\n",
    "                            [x_right_down * img_width, y_right_down * img_height],\n",
    "                            [x_left_up * img_width, y_left_up * img_height],\n",
    "                            [x_right_up * img_width, y_right_up * img_height]\n",
    "                        ]\n",
    "                        \n",
    "                        # Calculate axis-aligned bounding box\n",
    "                        x_coords = [p[0] for p in points]\n",
    "                        y_coords = [p[1] for p in points]\n",
    "                        \n",
    "                        x_min = min(x_coords)\n",
    "                        y_min = min(y_coords)\n",
    "                        x_max = max(x_coords)\n",
    "                        y_max = max(y_coords)\n",
    "                        \n",
    "                        # Ensure coordinates are within image bounds\n",
    "                        x_min = max(0, min(x_min, img_width))\n",
    "                        y_min = max(0, min(y_min, img_height))\n",
    "                        x_max = max(0, min(x_max, img_width))\n",
    "                        y_max = max(0, min(y_max, img_height))\n",
    "                        \n",
    "                        # Only add if box has valid dimensions\n",
    "                        if x_max > x_min and y_max > y_min:\n",
    "                            boxes.append([x_min, y_min, x_max, y_max])\n",
    "                            labels.append(label)\n",
    "                            \n",
    "        except Exception as e:\n",
    "            print(f\"Error reading label file {label_path}: {e}\")\n",
    "            return None\n",
    "    \n",
    "        # Convert to tensors\n",
    "        if len(boxes) == 0:\n",
    "            boxes = torch.zeros((0, 4), dtype=torch.float32)\n",
    "            labels = torch.zeros(0, dtype=torch.int64)\n",
    "        else:\n",
    "            boxes = torch.as_tensor(boxes, dtype=torch.float32)\n",
    "            labels = torch.as_tensor(labels, dtype=torch.int64)\n",
    "    \n",
    "        target = {\n",
    "            'boxes': boxes,\n",
    "            'labels': labels,\n",
    "        }\n",
    "    \n",
    "        if self.transforms is not None:\n",
    "            img = self.transforms(img)\n",
    "    \n",
    "        return img, target"
   ]
  },
  {
   "cell_type": "code",
   "execution_count": 22,
   "id": "58930cb7",
   "metadata": {
    "execution": {
     "iopub.execute_input": "2025-02-20T07:08:45.439856Z",
     "iopub.status.busy": "2025-02-20T07:08:45.439557Z",
     "iopub.status.idle": "2025-02-20T07:08:45.468726Z",
     "shell.execute_reply": "2025-02-20T07:08:45.468056Z"
    },
    "papermill": {
     "duration": 0.073501,
     "end_time": "2025-02-20T07:08:45.470158",
     "exception": false,
     "start_time": "2025-02-20T07:08:45.396657",
     "status": "completed"
    },
    "tags": []
   },
   "outputs": [],
   "source": [
    "# Define transforms\n",
    "# def get_transform(train):\n",
    "#     transform_list = [\n",
    "#         transforms.Resize((224, 224)),\n",
    "#         transforms.ToTensor(),  # Convert image to tensor (0-1 range)\n",
    "#         transforms.Normalize(mean=[0.485, 0.456, 0.406], std=[0.229, 0.224, 0.225])  # Standard normalization\n",
    "#     ]\n",
    "    \n",
    "#     if train:\n",
    "#         transform_list.insert(0, transforms.RandomHorizontalFlip(p=0.5))  # Data augmentation for training\n",
    "\n",
    "#     return transforms.Compose(transform_list)\n",
    "import torchvision.transforms as transforms\n",
    "\n",
    "def get_transform(train):\n",
    "    return transforms.Compose([\n",
    "        transforms.ToTensor(),  # Convert image to tensor (C, H, W) format\n",
    "        transforms.Lambda(lambda x: x * 255)  # Scale pixel values to 0-255\n",
    "    ])\n",
    "\n",
    "\n",
    "\n",
    "# Create the dataset with 5,000 samples\n",
    "train_dataset = CustomDataset(\n",
    "    images_dir='/kaggle/working/combined_dataset/train/images',\n",
    "    labels_dir='/kaggle/working/combined_dataset/train/labels',\n",
    "    transforms=get_transform(train=False),\n",
    "    #max_samples=4000  # <-- Add this line\n",
    ")\n",
    "\n",
    "valid_dataset = CustomDataset(\n",
    " images_dir='/kaggle/working/combined_dataset/valid/images',\n",
    " labels_dir='/kaggle/working/combined_dataset/valid/labels',\n",
    " transforms=get_transform(train=False),\n",
    " # max_samples=2000  # <-- Add this line\n",
    ")\n",
    "\n",
    "train_loader = DataLoader(train_dataset, batch_size=16, shuffle=True, collate_fn=lambda x: tuple(zip(*x) ))\n",
    "valid_loader = DataLoader(valid_dataset, batch_size=16, shuffle=False, collate_fn=lambda x: tuple(zip(*x)))"
   ]
  },
  {
   "cell_type": "markdown",
   "id": "69e5f8bd",
   "metadata": {
    "papermill": {
     "duration": 0.041471,
     "end_time": "2025-02-20T07:08:45.553695",
     "exception": false,
     "start_time": "2025-02-20T07:08:45.512224",
     "status": "completed"
    },
    "tags": []
   },
   "source": [
    "# resnet101\n"
   ]
  },
  {
   "cell_type": "code",
   "execution_count": 23,
   "id": "93b90a5c",
   "metadata": {
    "execution": {
     "iopub.execute_input": "2025-02-20T07:08:45.636531Z",
     "iopub.status.busy": "2025-02-20T07:08:45.636193Z",
     "iopub.status.idle": "2025-02-20T07:08:49.215784Z",
     "shell.execute_reply": "2025-02-20T07:08:49.215053Z"
    },
    "papermill": {
     "duration": 3.62358,
     "end_time": "2025-02-20T07:08:49.217628",
     "exception": false,
     "start_time": "2025-02-20T07:08:45.594048",
     "status": "completed"
    },
    "tags": []
   },
   "outputs": [
    {
     "name": "stderr",
     "output_type": "stream",
     "text": [
      "The parameter 'pretrained' is deprecated since 0.13 and may be removed in the future, please use 'weights' instead.\n",
      "Arguments other than a weight enum or `None` for 'weights' are deprecated since 0.13 and may be removed in the future. The current behavior is equivalent to passing `weights=ResNet101_Weights.IMAGENET1K_V1`. You can also use `weights=ResNet101_Weights.DEFAULT` to get the most up-to-date weights.\n"
     ]
    },
    {
     "name": "stderr",
     "output_type": "stream",
     "text": [
      "Downloading: \"https://download.pytorch.org/models/resnet101-63fe2227.pth\" to /root/.cache/torch/hub/checkpoints/resnet101-63fe2227.pth\n"
     ]
    },
    {
     "name": "stderr",
     "output_type": "stream",
     "text": [
      "\r",
      "  0%|          | 0.00/171M [00:00<?, ?B/s]"
     ]
    },
    {
     "name": "stderr",
     "output_type": "stream",
     "text": [
      "\r",
      "  4%|▍         | 7.38M/171M [00:00<00:02, 76.9MB/s]"
     ]
    },
    {
     "name": "stderr",
     "output_type": "stream",
     "text": [
      "\r",
      " 17%|█▋        | 28.8M/171M [00:00<00:00, 163MB/s] "
     ]
    },
    {
     "name": "stderr",
     "output_type": "stream",
     "text": [
      "\r",
      " 29%|██▉       | 49.4M/171M [00:00<00:00, 187MB/s]"
     ]
    },
    {
     "name": "stderr",
     "output_type": "stream",
     "text": [
      "\r",
      " 41%|████      | 69.9M/171M [00:00<00:00, 198MB/s]"
     ]
    },
    {
     "name": "stderr",
     "output_type": "stream",
     "text": [
      "\r",
      " 53%|█████▎    | 90.5M/171M [00:00<00:00, 204MB/s]"
     ]
    },
    {
     "name": "stderr",
     "output_type": "stream",
     "text": [
      "\r",
      " 65%|██████▌   | 111M/171M [00:00<00:00, 209MB/s] "
     ]
    },
    {
     "name": "stderr",
     "output_type": "stream",
     "text": [
      "\r",
      " 77%|███████▋  | 132M/171M [00:00<00:00, 211MB/s]"
     ]
    },
    {
     "name": "stderr",
     "output_type": "stream",
     "text": [
      "\r",
      " 90%|████████▉ | 153M/171M [00:00<00:00, 213MB/s]"
     ]
    },
    {
     "name": "stderr",
     "output_type": "stream",
     "text": [
      "\r",
      "100%|██████████| 171M/171M [00:00<00:00, 201MB/s]"
     ]
    },
    {
     "name": "stderr",
     "output_type": "stream",
     "text": [
      "\n"
     ]
    }
   ],
   "source": [
    "# Load a pre-trained model and modify it for the custom dataset\n",
    "num_classes = 2  # Update this if you have more classes, 1 for background + N classes\n",
    "backbone = torchvision.models.resnet101(pretrained=True)\n",
    "backbone = torch.nn.Sequential(*(list(backbone.children())[:-2]))\n",
    "\n",
    "# Freeze backbone layers (ADD THIS HERE)\n",
    "for param in backbone.parameters():\n",
    "    param.requires_grad = False  # Freezes the backbone\n",
    "\n",
    "backbone.out_channels = 2048\n",
    "\n",
    "anchor_generator = AnchorGenerator(\n",
    "    sizes=((32, 64, 128, 256, 512),),\n",
    "    aspect_ratios=((0.5, 1.0, 2.0),)\n",
    ")\n",
    "\n",
    "roi_pooler = torchvision.ops.MultiScaleRoIAlign(\n",
    "    featmap_names=['0'], output_size=7, sampling_ratio=2\n",
    ")\n",
    "\n",
    "model = FasterRCNN(\n",
    "    backbone,\n",
    "    num_classes=num_classes,\n",
    "    rpn_anchor_generator=anchor_generator,\n",
    "    box_roi_pool=roi_pooler\n",
    ")\n"
   ]
  },
  {
   "cell_type": "markdown",
   "id": "49e2ac81",
   "metadata": {
    "papermill": {
     "duration": 0.053549,
     "end_time": "2025-02-20T07:08:49.315192",
     "exception": false,
     "start_time": "2025-02-20T07:08:49.261643",
     "status": "completed"
    },
    "tags": []
   },
   "source": [
    "# EFFICIENT NET"
   ]
  },
  {
   "cell_type": "code",
   "execution_count": 24,
   "id": "b1e80df5",
   "metadata": {
    "execution": {
     "iopub.execute_input": "2025-02-20T07:08:49.405910Z",
     "iopub.status.busy": "2025-02-20T07:08:49.405591Z",
     "iopub.status.idle": "2025-02-20T07:08:49.409264Z",
     "shell.execute_reply": "2025-02-20T07:08:49.408544Z"
    },
    "papermill": {
     "duration": 0.050144,
     "end_time": "2025-02-20T07:08:49.410388",
     "exception": false,
     "start_time": "2025-02-20T07:08:49.360244",
     "status": "completed"
    },
    "tags": []
   },
   "outputs": [],
   "source": [
    "# import torch\n",
    "# import torchvision\n",
    "# from torchvision.models.detection import FasterRCNN\n",
    "# from torchvision.models.detection.rpn import AnchorGenerator\n",
    "# from torchvision.models import efficientnet_b3\n",
    "\n",
    "# # # Load EfficientNet-B3 and modify it\n",
    "# num_classes = 2  # Update this if needed\n",
    "\n",
    "# #Load the pre-trained EfficientNet model\n",
    "# efficientnet = efficientnet_b3(weights=\"IMAGENET1K_V1\")\n",
    "# backbone = efficientnet.features  # Extract feature extractor\n",
    "\n",
    "# # Freeze backbone layers\n",
    "# for param in backbone.parameters():\n",
    "#     param.requires_grad = False\n",
    "\n",
    "# # Define the number of output channels (last feature map size of EfficientNet-B3)\n",
    "# backbone.out_channels = 1536  # EfficientNet-B3 last conv layer output channels\n",
    "\n",
    "# # Define anchor generator\n",
    "# anchor_generator = AnchorGenerator(\n",
    "#     sizes=((32, 64, 128, 256, 512),),\n",
    "#     aspect_ratios=((0.5, 1.0, 2.0),)\n",
    "# )\n",
    "\n",
    "# # Define ROI Pooler\n",
    "# roi_pooler = torchvision.ops.MultiScaleRoIAlign(\n",
    "#     featmap_names=['0'], output_size=7, sampling_ratio=2\n",
    "# )\n",
    "\n",
    "# # Create Faster R-CNN model\n",
    "# model = FasterRCNN(\n",
    "#     backbone,\n",
    "#     num_classes=num_classes,\n",
    "#     rpn_anchor_generator=anchor_generator,\n",
    "#     box_roi_pool=roi_pooler\n",
    "# )\n"
   ]
  },
  {
   "cell_type": "markdown",
   "id": "1ba9677e",
   "metadata": {
    "papermill": {
     "duration": 0.043461,
     "end_time": "2025-02-20T07:08:49.498150",
     "exception": false,
     "start_time": "2025-02-20T07:08:49.454689",
     "status": "completed"
    },
    "tags": []
   },
   "source": [
    "# FASTER RCNN "
   ]
  },
  {
   "cell_type": "code",
   "execution_count": 25,
   "id": "18750511",
   "metadata": {
    "execution": {
     "iopub.execute_input": "2025-02-20T07:08:49.584006Z",
     "iopub.status.busy": "2025-02-20T07:08:49.583686Z",
     "iopub.status.idle": "2025-02-20T07:08:51.240234Z",
     "shell.execute_reply": "2025-02-20T07:08:51.239264Z"
    },
    "papermill": {
     "duration": 1.701293,
     "end_time": "2025-02-20T07:08:51.242010",
     "exception": false,
     "start_time": "2025-02-20T07:08:49.540717",
     "status": "completed"
    },
    "tags": []
   },
   "outputs": [],
   "source": [
    "# Define the optimizer\n",
    "optimizer = torch.optim.AdamW(model.parameters(), lr=0.0001)\n",
    "# Directory for saving history\n",
    "history_dir = \"/kaggle/working/history\"\n",
    "os.makedirs(history_dir, exist_ok=True)\n",
    "# History tracking\n",
    "history = {\"epochs\": []}\n",
    "import torch\n",
    "from torchvision.ops import box_iou\n",
    "import json\n",
    "import os\n",
    "import numpy as np\n",
    "from sklearn.metrics import precision_recall_fscore_support\n",
    "\n",
    "def calculate_metrics(pred_boxes, pred_labels, pred_scores, target_boxes, target_labels, iou_threshold=0.5):\n",
    "    \"\"\"Calculate object detection metrics for a batch of predictions.\"\"\"\n",
    "    batch_iou = 0.0\n",
    "    batch_precision = 0.0\n",
    "    batch_recall = 0.0\n",
    "    batch_f1 = 0.0\n",
    "    batch_map = 0.0  # mean Average Precision\n",
    "    \n",
    "    for pred_box, pred_label, pred_score, target_box, target_label in zip(\n",
    "        pred_boxes, pred_labels, pred_scores, target_boxes, target_labels):\n",
    "        \n",
    "        if len(pred_box) == 0 or len(target_box) == 0:\n",
    "            continue\n",
    "            \n",
    "        # Calculate IoU between predicted and target boxes\n",
    "        iou_matrix = box_iou(pred_box, target_box)\n",
    "        \n",
    "        # Calculate metrics\n",
    "        matches = iou_matrix > iou_threshold\n",
    "        true_positives = matches.sum().item()\n",
    "        false_positives = len(pred_box) - true_positives\n",
    "        false_negatives = len(target_box) - true_positives\n",
    "        \n",
    "        # IoU\n",
    "        if iou_matrix[matches].numel() > 0:\n",
    "            batch_iou += iou_matrix[matches].mean().item()\n",
    "        else:\n",
    "            # Optionally, you can add 0 or skip this image\n",
    "            batch_iou += 0.0\n",
    "        # Precision, Recall, F1\n",
    "        if true_positives + false_positives > 0:\n",
    "            precision = true_positives / (true_positives + false_positives)\n",
    "            batch_precision += precision\n",
    "        if true_positives + false_negatives > 0:\n",
    "            recall = true_positives / (true_positives + false_negatives)\n",
    "            batch_recall += recall\n",
    "        if precision + recall > 0:\n",
    "            f1 = 2 * (precision * recall) / (precision + recall)\n",
    "            batch_f1 += f1\n",
    "            \n",
    "        # Calculate mAP\n",
    "        # Sort predictions by confidence score\n",
    "        sorted_indices = torch.argsort(pred_score, descending=True)\n",
    "        pred_box = pred_box[sorted_indices]\n",
    "        pred_label = pred_label[sorted_indices]\n",
    "        pred_score = pred_score[sorted_indices]\n",
    "        \n",
    "        # Calculate AP for each class\n",
    "        unique_classes = torch.unique(torch.cat([pred_label, target_label]))\n",
    "        ap_sum = 0.0\n",
    "        \n",
    "        for cls in unique_classes:\n",
    "            cls_pred_mask = pred_label == cls\n",
    "            cls_target_mask = target_label == cls\n",
    "            \n",
    "            if cls_pred_mask.sum() == 0 or cls_target_mask.sum() == 0:\n",
    "                continue\n",
    "                \n",
    "            cls_iou_matrix = box_iou(pred_box[cls_pred_mask], target_box[cls_target_mask])\n",
    "            cls_matches = cls_iou_matrix > iou_threshold\n",
    "            \n",
    "            # Calculate precision at each threshold\n",
    "            precisions = []\n",
    "            for k in range(len(cls_matches)):\n",
    "                matches_k = cls_matches[:k+1]\n",
    "                if matches_k.numel() > 0:\n",
    "                    precisions.append(matches_k.sum().float() / (k + 1))\n",
    "            \n",
    "            if precisions:\n",
    "                ap_sum += torch.tensor(precisions).mean().item()\n",
    "        \n",
    "        if len(unique_classes) > 0:\n",
    "            batch_map += ap_sum / len(unique_classes)\n",
    "    \n",
    "    # Calculate batch averages\n",
    "    num_images = len(pred_boxes)\n",
    "    return {\n",
    "        'iou': batch_iou / num_images,\n",
    "        'precision': batch_precision / num_images,\n",
    "        'recall': batch_recall / num_images,\n",
    "        'f1': batch_f1 / num_images,\n",
    "        'map': batch_map / num_images\n",
    "    }\n",
    "\n",
    "def train_one_epoch(model, optimizer, data_loader, device, epoch, history_dir):\n",
    "    model.train()\n",
    "    total_loss = 0.0\n",
    "    total_iou = 0.0\n",
    "    total_precision = 0.0\n",
    "    total_recall = 0.0\n",
    "    total_f1 = 0.0\n",
    "    total_map = 0.0\n",
    "    \n",
    "    for batch_idx, (images, targets) in enumerate(data_loader):\n",
    "        images = list(img.to(device) for img in images)\n",
    "        targets = [{k: v.to(device) for k, v in t.items()} for t in targets]\n",
    "        \n",
    "        # Forward pass and loss calculation\n",
    "        loss_dict = model(images, targets)\n",
    "        losses = sum(loss for loss in loss_dict.values())\n",
    "        total_loss += losses.item()\n",
    "        \n",
    "        # Get predictions by temporarily setting model to eval mode\n",
    "        model.eval()\n",
    "        with torch.no_grad():\n",
    "            predictions = model(images)\n",
    "        model.train()  # Set back to training mode\n",
    "        \n",
    "        # Calculate metrics for the batch\n",
    "        batch_metrics = calculate_metrics(\n",
    "            [p['boxes'] for p in predictions],\n",
    "            [p['labels'] for p in predictions],\n",
    "            [p['scores'] for p in predictions],\n",
    "            [t['boxes'] for t in targets],\n",
    "            [t['labels'] for t in targets]\n",
    "        )\n",
    "        \n",
    "        total_iou += batch_metrics['iou']\n",
    "        total_precision += batch_metrics['precision']\n",
    "        total_recall += batch_metrics['recall']\n",
    "        total_f1 += batch_metrics['f1']\n",
    "        total_map += batch_metrics['map']\n",
    "        \n",
    "        # Backpropagation\n",
    "        optimizer.zero_grad()\n",
    "        losses.backward()\n",
    "        optimizer.step()\n",
    "        \n",
    " \n",
    "    # Calculate averages\n",
    "    num_batches = len(data_loader)\n",
    "    avg_loss = total_loss / num_batches\n",
    "    avg_iou = total_iou / num_batches\n",
    "    avg_precision = total_precision / num_batches\n",
    "    avg_recall = total_recall / num_batches\n",
    "    avg_f1 = total_f1 / num_batches\n",
    "    avg_map = total_map / num_batches\n",
    "    \n",
    "    # Print metrics\n",
    "    print(f\"\\nEpoch {epoch + 1} Summary:\")\n",
    "    print(f\"  Loss: {avg_loss:.4f}\")\n",
    "    print(f\"  IoU: {avg_iou:.4f}\")\n",
    "    print(f\"  Precision: {avg_precision:.4f}\")\n",
    "    print(f\"  Recall: {avg_recall:.4f}\")\n",
    "    print(f\"  F1-Score: {avg_f1:.4f}\")\n",
    "    print(f\"  mAP: {avg_map:.4f}\")\n",
    "    \n",
    "    # Save history\n",
    "    history = {\n",
    "        \"epoch\": epoch + 1,\n",
    "        \"loss\": avg_loss,\n",
    "        \"iou\": avg_iou,\n",
    "        \"precision\": avg_precision,\n",
    "        \"recall\": avg_recall,\n",
    "        \"f1\": avg_f1,\n",
    "        \"map\": avg_map\n",
    "    }\n",
    "    \n",
    "    # Ensure history directory exists\n",
    "    os.makedirs(history_dir, exist_ok=True)\n",
    "    \n",
    "    # Save to JSON file\n",
    "    history_file = os.path.join(history_dir, \"training_history.json\")\n",
    "    if os.path.exists(history_file):\n",
    "        with open(history_file, 'r') as f:\n",
    "            history_data = json.load(f)\n",
    "            history_data['epochs'].append(history)\n",
    "    else:\n",
    "        history_data = {'epochs': [history]}\n",
    "    \n",
    "    with open(history_file, 'w') as f:\n",
    "        json.dump(history_data, f, indent=4)\n",
    "    \n",
    "    return avg_loss, history"
   ]
  },
  {
   "cell_type": "code",
   "execution_count": 26,
   "id": "42d5bdbe",
   "metadata": {
    "execution": {
     "iopub.execute_input": "2025-02-20T07:08:51.329116Z",
     "iopub.status.busy": "2025-02-20T07:08:51.328648Z"
    },
    "papermill": {
     "duration": null,
     "end_time": null,
     "exception": false,
     "start_time": "2025-02-20T07:08:51.285034",
     "status": "running"
    },
    "tags": []
   },
   "outputs": [
    {
     "name": "stdout",
     "output_type": "stream",
     "text": [
      "\n",
      "Epoch 1 Summary:\n",
      "  Loss: 0.3067\n",
      "  IoU: 0.3593\n",
      "  Precision: 0.0662\n",
      "  Recall: 0.8077\n",
      "  F1-Score: 0.1117\n",
      "  mAP: 0.0988\n"
     ]
    },
    {
     "name": "stdout",
     "output_type": "stream",
     "text": [
      "\n",
      "Epoch 2 Summary:\n",
      "  Loss: 0.2748\n",
      "  IoU: 0.4889\n",
      "  Precision: 0.0998\n",
      "  Recall: 1.1204\n",
      "  F1-Score: 0.1705\n",
      "  mAP: 0.1634\n"
     ]
    },
    {
     "name": "stdout",
     "output_type": "stream",
     "text": [
      "\n",
      "Epoch 3 Summary:\n",
      "  Loss: 0.2686\n",
      "  IoU: 0.5275\n",
      "  Precision: 0.1108\n",
      "  Recall: 1.2054\n",
      "  F1-Score: 0.1904\n",
      "  mAP: 0.1843\n"
     ]
    },
    {
     "name": "stdout",
     "output_type": "stream",
     "text": [
      "\n",
      "Epoch 4 Summary:\n",
      "  Loss: 0.2638\n",
      "  IoU: 0.5481\n",
      "  Precision: 0.1144\n",
      "  Recall: 1.2288\n",
      "  F1-Score: 0.1975\n",
      "  mAP: 0.1959\n"
     ]
    },
    {
     "name": "stdout",
     "output_type": "stream",
     "text": [
      "\n",
      "Epoch 5 Summary:\n",
      "  Loss: 0.2587\n",
      "  IoU: 0.5640\n",
      "  Precision: 0.1191\n",
      "  Recall: 1.2841\n",
      "  F1-Score: 0.2058\n",
      "  mAP: 0.2071\n"
     ]
    },
    {
     "name": "stdout",
     "output_type": "stream",
     "text": [
      "\n",
      "Epoch 6 Summary:\n",
      "  Loss: 0.2547\n",
      "  IoU: 0.5766\n",
      "  Precision: 0.1236\n",
      "  Recall: 1.2976\n",
      "  F1-Score: 0.2138\n",
      "  mAP: 0.2199\n"
     ]
    },
    {
     "name": "stdout",
     "output_type": "stream",
     "text": [
      "\n",
      "Epoch 7 Summary:\n",
      "  Loss: 0.2515\n",
      "  IoU: 0.5919\n",
      "  Precision: 0.1274\n",
      "  Recall: 1.3026\n",
      "  F1-Score: 0.2202\n",
      "  mAP: 0.2265\n"
     ]
    },
    {
     "name": "stdout",
     "output_type": "stream",
     "text": [
      "\n",
      "Epoch 8 Summary:\n",
      "  Loss: 0.2456\n",
      "  IoU: 0.6013\n",
      "  Precision: 0.1307\n",
      "  Recall: 1.3285\n",
      "  F1-Score: 0.2259\n",
      "  mAP: 0.2353\n"
     ]
    },
    {
     "name": "stdout",
     "output_type": "stream",
     "text": [
      "\n",
      "Epoch 9 Summary:\n",
      "  Loss: 0.2429\n",
      "  IoU: 0.6088\n",
      "  Precision: 0.1306\n",
      "  Recall: 1.3310\n",
      "  F1-Score: 0.2264\n",
      "  mAP: 0.2406\n"
     ]
    },
    {
     "name": "stdout",
     "output_type": "stream",
     "text": [
      "\n",
      "Epoch 10 Summary:\n",
      "  Loss: 0.2380\n",
      "  IoU: 0.6197\n",
      "  Precision: 0.1374\n",
      "  Recall: 1.3401\n",
      "  F1-Score: 0.2367\n",
      "  mAP: 0.2527\n"
     ]
    },
    {
     "name": "stdout",
     "output_type": "stream",
     "text": [
      "\n",
      "Epoch 11 Summary:\n",
      "  Loss: 0.2336\n",
      "  IoU: 0.6282\n",
      "  Precision: 0.1389\n",
      "  Recall: 1.3493\n",
      "  F1-Score: 0.2390\n",
      "  mAP: 0.2575\n"
     ]
    },
    {
     "name": "stdout",
     "output_type": "stream",
     "text": [
      "\n",
      "Epoch 12 Summary:\n",
      "  Loss: 0.2285\n",
      "  IoU: 0.6353\n",
      "  Precision: 0.1419\n",
      "  Recall: 1.3598\n",
      "  F1-Score: 0.2436\n",
      "  mAP: 0.2662\n"
     ]
    },
    {
     "name": "stdout",
     "output_type": "stream",
     "text": [
      "\n",
      "Epoch 13 Summary:\n",
      "  Loss: 0.2248\n",
      "  IoU: 0.6434\n",
      "  Precision: 0.1446\n",
      "  Recall: 1.3494\n",
      "  F1-Score: 0.2472\n",
      "  mAP: 0.2714\n"
     ]
    },
    {
     "name": "stdout",
     "output_type": "stream",
     "text": [
      "\n",
      "Epoch 14 Summary:\n",
      "  Loss: 0.2206\n",
      "  IoU: 0.6489\n",
      "  Precision: 0.1447\n",
      "  Recall: 1.3410\n",
      "  F1-Score: 0.2483\n",
      "  mAP: 0.2765\n"
     ]
    },
    {
     "name": "stdout",
     "output_type": "stream",
     "text": [
      "\n",
      "Epoch 15 Summary:\n",
      "  Loss: 0.2154\n",
      "  IoU: 0.6552\n",
      "  Precision: 0.1492\n",
      "  Recall: 1.3651\n",
      "  F1-Score: 0.2555\n",
      "  mAP: 0.2847\n"
     ]
    },
    {
     "name": "stdout",
     "output_type": "stream",
     "text": [
      "\n",
      "Epoch 16 Summary:\n",
      "  Loss: 0.2113\n",
      "  IoU: 0.6605\n",
      "  Precision: 0.1520\n",
      "  Recall: 1.3677\n",
      "  F1-Score: 0.2601\n",
      "  mAP: 0.2921\n"
     ]
    },
    {
     "name": "stdout",
     "output_type": "stream",
     "text": [
      "\n",
      "Epoch 17 Summary:\n",
      "  Loss: 0.2068\n",
      "  IoU: 0.6647\n",
      "  Precision: 0.1537\n",
      "  Recall: 1.3612\n",
      "  F1-Score: 0.2615\n",
      "  mAP: 0.2968\n"
     ]
    },
    {
     "name": "stdout",
     "output_type": "stream",
     "text": [
      "\n",
      "Epoch 18 Summary:\n",
      "  Loss: 0.2025\n",
      "  IoU: 0.6710\n",
      "  Precision: 0.1551\n",
      "  Recall: 1.3622\n",
      "  F1-Score: 0.2649\n",
      "  mAP: 0.3022\n"
     ]
    }
   ],
   "source": [
    "# Training loop\n",
    "num_epochs = 20\n",
    "device = torch.device('cuda') if torch.cuda.is_available() else torch.device('cpu')\n",
    "model.to(device)\n",
    "history = []\n",
    "for epoch in range(num_epochs):\n",
    "    avg_loss, epoch_history = train_one_epoch(model, optimizer, train_loader, device, epoch,history_dir)\n",
    "    history.append(epoch_history)\n",
    "print(\"Training completed!\")"
   ]
  },
  {
   "cell_type": "markdown",
   "id": "d2b8f0d2",
   "metadata": {
    "papermill": {
     "duration": null,
     "end_time": null,
     "exception": null,
     "start_time": null,
     "status": "pending"
    },
    "tags": []
   },
   "source": [
    "# TEST AND VALIDATION "
   ]
  },
  {
   "cell_type": "code",
   "execution_count": null,
   "id": "57883ec0",
   "metadata": {
    "execution": {
     "execution_failed": "2025-02-19T15:51:42.379Z"
    },
    "papermill": {
     "duration": null,
     "end_time": null,
     "exception": null,
     "start_time": null,
     "status": "pending"
    },
    "tags": []
   },
   "outputs": [],
   "source": [
    "# Validation function\n",
    "def validate_model(model, data_loader, device):\n",
    "    model.eval()\n",
    "    total_loss = 0.0\n",
    "    total_iou = 0.0\n",
    "    total_precision = 0.0\n",
    "    total_recall = 0.0\n",
    "    \n",
    "    with torch.no_grad():\n",
    "        for images, targets in data_loader:\n",
    "            images = list(img.to(device) for img in images)\n",
    "            targets = [{k: v.to(device) for k, v in t.items()} for t in targets]\n",
    "            \n",
    "            loss_dict = model(images, targets)\n",
    "            losses = sum(loss for loss in loss_dict.values())\n",
    "            total_loss += losses.item()\n",
    "            \n",
    "            # Dummy values for IoU, Precision, Recall (replace with actual calculations)\n",
    "            iou = torch.rand(1).item()\n",
    "            precision = torch.rand(1).item()\n",
    "            recall = torch.rand(1).item()\n",
    "            \n",
    "            total_iou += iou\n",
    "            total_precision += precision\n",
    "            total_recall += recall\n",
    "    \n",
    "    avg_loss = total_loss / len(data_loader) \n",
    "    avg_iou = total_iou / len(data_loader)\n",
    "    avg_precision = total_precision / len(data_loader)\n",
    "    avg_recall = total_recall / len(data_loader)\n",
    "    \n",
    "    print(f\"Validation: Avg Loss: {avg_loss:.4f}, IoU: {avg_iou:.4f}, Precision: {avg_precision:.4f}, Recall: {avg_recall:.4f}\")\n",
    "\n",
    "# Test function\n",
    "def test_model(model, data_loader, device):\n",
    "    print(\"Testing model...\")\n",
    "    validate_model(model, data_loader, device)\n",
    "\n",
    "\n",
    "\n",
    "\n"
   ]
  },
  {
   "cell_type": "code",
   "execution_count": null,
   "id": "d7c9eba3",
   "metadata": {
    "execution": {
     "execution_failed": "2025-02-19T15:51:42.381Z"
    },
    "papermill": {
     "duration": null,
     "end_time": null,
     "exception": null,
     "start_time": null,
     "status": "pending"
    },
    "tags": []
   },
   "outputs": [],
   "source": [
    "import matplotlib.pyplot as plt"
   ]
  },
  {
   "cell_type": "code",
   "execution_count": null,
   "id": "f6ef352f",
   "metadata": {
    "execution": {
     "execution_failed": "2025-02-19T15:51:42.381Z"
    },
    "papermill": {
     "duration": null,
     "end_time": null,
     "exception": null,
     "start_time": null,
     "status": "pending"
    },
    "tags": []
   },
   "outputs": [],
   "source": [
    "# Plot training history\n",
    "def plot_training_history(history):\n",
    "    epochs = [epoch[\"epoch\"] for epoch in history]\n",
    "    losses = [epoch[\"loss\"] for epoch in history]\n",
    "    ious = [epoch[\"iou\"] for epoch in history]\n",
    "    precisions = [epoch[\"precision\"] for epoch in history]\n",
    "    recalls = [epoch[\"recall\"] for epoch in history]\n",
    "    \n",
    "    plt.figure(figsize=(10, 5))\n",
    "    plt.subplot(1, 2, 1)\n",
    "    plt.plot(epochs, losses, label='Loss')\n",
    "    plt.xlabel('Epoch')\n",
    "    plt.ylabel('Loss')\n",
    "    plt.title('Training Loss')\n",
    "    plt.legend()\n",
    "    \n",
    "    plt.subplot(1, 2, 2)\n",
    "    plt.plot(epochs, ious, label='IoU')\n",
    "    plt.plot(epochs, precisions, label='Precision')\n",
    "    plt.plot(epochs, recalls, label='Recall')\n",
    "    plt.xlabel('Epoch')\n",
    "    plt.ylabel('Metrics')\n",
    "    plt.title('Object Detection Metrics')\n",
    "    plt.legend()\n",
    "    \n",
    "    plt.tight_layout()\n",
    "    plt.show()\n",
    "\n",
    "# Display the training history graph\n",
    "plot_training_history(history)\n"
   ]
  }
 ],
 "metadata": {
  "kaggle": {
   "accelerator": "nvidiaTeslaT4",
   "dataSources": [],
   "isGpuEnabled": true,
   "isInternetEnabled": true,
   "language": "python",
   "sourceType": "notebook"
  },
  "kernelspec": {
   "display_name": "Python 3",
   "language": "python",
   "name": "python3"
  },
  "language_info": {
   "codemirror_mode": {
    "name": "ipython",
    "version": 3
   },
   "file_extension": ".py",
   "mimetype": "text/x-python",
   "name": "python",
   "nbconvert_exporter": "python",
   "pygments_lexer": "ipython3",
   "version": "3.10.12"
  },
  "papermill": {
   "default_parameters": {},
   "duration": null,
   "end_time": null,
   "environment_variables": {},
   "exception": null,
   "input_path": "__notebook__.ipynb",
   "output_path": "__notebook__.ipynb",
   "parameters": {},
   "start_time": "2025-02-20T07:07:22.472751",
   "version": "2.6.0"
  }
 },
 "nbformat": 4,
 "nbformat_minor": 5
}